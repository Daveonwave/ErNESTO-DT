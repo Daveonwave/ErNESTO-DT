{
 "cells": [
  {
   "cell_type": "code",
   "execution_count": 3,
   "id": "initial_id",
   "metadata": {
    "collapsed": true,
    "ExecuteTime": {
     "end_time": "2024-08-09T13:47:42.751843400Z",
     "start_time": "2024-08-09T13:47:42.724934800Z"
    }
   },
   "outputs": [],
   "source": [
    "from  src.online_learning.soc_temp_combination import SocTemp\n",
    "from src.online_learning.utils import load_from_yaml"
   ]
  },
  {
   "cell_type": "code",
   "execution_count": 4,
   "outputs": [
    {
     "name": "stdout",
     "output_type": "stream",
     "text": [
      "[0.0, 0.5, 0.5, 1.0]\n"
     ]
    }
   ],
   "source": [
    "ranges = load_from_yaml('../data/external/ranges')\n",
    "soc_temp = SocTemp(ranges)"
   ],
   "metadata": {
    "collapsed": false,
    "ExecuteTime": {
     "end_time": "2024-08-09T13:47:44.294190500Z",
     "start_time": "2024-08-09T13:47:44.223130200Z"
    }
   },
   "id": "f45bb51707412544"
  },
  {
   "cell_type": "code",
   "execution_count": 5,
   "outputs": [
    {
     "name": "stdout",
     "output_type": "stream",
     "text": [
      "{'soc_interval_one': [0.0, 0.5], 'soc_interval_two': [0.5, 1.0], 'temp_interval_one': [295.15, 297.5], 'temp_interval_two': [297.5, 299.15]}\n"
     ]
    }
   ],
   "source": [
    "print(soc_temp._ranges)"
   ],
   "metadata": {
    "collapsed": false,
    "ExecuteTime": {
     "end_time": "2024-08-09T13:48:07.393927700Z",
     "start_time": "2024-08-09T13:48:07.325182700Z"
    }
   },
   "id": "2ab4472098a5d19b"
  },
  {
   "cell_type": "code",
   "execution_count": 7,
   "outputs": [
    {
     "name": "stdout",
     "output_type": "stream",
     "text": [
      "{0: {'soc_interval': (0.0, 0.5), 'temp_interval': (295.15, 297.5)}, 1: {'soc_interval': (0.0, 0.5), 'temp_interval': (297.5, 299.15)}, 2: {'soc_interval': (0.5, 1.0), 'temp_interval': (295.15, 297.5)}, 3: {'soc_interval': (0.5, 1.0), 'temp_interval': (297.5, 299.15)}}\n"
     ]
    }
   ],
   "source": [
    "print(soc_temp._combinations)"
   ],
   "metadata": {
    "collapsed": false,
    "ExecuteTime": {
     "end_time": "2024-08-09T13:48:35.941595700Z",
     "start_time": "2024-08-09T13:48:35.878466300Z"
    }
   },
   "id": "4a4b86f5d42c4ff8"
  },
  {
   "cell_type": "code",
   "execution_count": null,
   "outputs": [],
   "source": [],
   "metadata": {
    "collapsed": false
   },
   "id": "a593b1fd58df9593"
  }
 ],
 "metadata": {
  "kernelspec": {
   "display_name": "Python 3",
   "language": "python",
   "name": "python3"
  },
  "language_info": {
   "codemirror_mode": {
    "name": "ipython",
    "version": 2
   },
   "file_extension": ".py",
   "mimetype": "text/x-python",
   "name": "python",
   "nbconvert_exporter": "python",
   "pygments_lexer": "ipython2",
   "version": "2.7.6"
  }
 },
 "nbformat": 4,
 "nbformat_minor": 5
}
