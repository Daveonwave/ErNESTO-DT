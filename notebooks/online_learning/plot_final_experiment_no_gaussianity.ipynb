{
 "cells": [
  {
   "cell_type": "code",
   "execution_count": 27,
   "id": "initial_id",
   "metadata": {
    "collapsed": true,
    "ExecuteTime": {
     "end_time": "2024-08-19T09:52:57.498653300Z",
     "start_time": "2024-08-19T09:52:53.484596400Z"
    }
   },
   "outputs": [],
   "source": [
    "import pandas as pd\n",
    "import  numpy as np\n",
    "from notebooks.online_learning.utils import plotting_utils"
   ]
  },
  {
   "cell_type": "markdown",
   "source": [
    "Take the case of phi_0, the idea is to compare the starting cluster with the final and also the outliers and anomalies"
   ],
   "metadata": {
    "collapsed": false
   },
   "id": "42475278b024705c"
  },
  {
   "cell_type": "code",
   "execution_count": 6,
   "outputs": [],
   "source": [
    "phi_0_df_new = pd.read_csv('../../data/output/final_experiment/no_gaussianity_trial/phi_0.csv')\n",
    "phi_0_df_starting = pd.read_csv('../../data/ground/nominal_cluster/phi_one.csv')\n",
    "phi_0_history_theta_df = pd.read_csv('../../data/output/final_experiment/no_gaussianity_trial/phi_0_history_theta.csv')\n",
    "phi_0_outliers_df = pd.read_csv('../../data/output/final_experiment/no_gaussianity_trial/phi_0_outliers_sets.csv')"
   ],
   "metadata": {
    "collapsed": false,
    "ExecuteTime": {
     "end_time": "2024-08-19T09:08:02.036245800Z",
     "start_time": "2024-08-19T09:08:01.930439300Z"
    }
   },
   "id": "e2785510b8e22216"
  },
  {
   "cell_type": "code",
   "execution_count": 7,
   "outputs": [
    {
     "data": {
      "text/plain": "            Temp        Soc           C_1        R_0        R_1        OCV\ncount  60.000000  60.000000     60.000000  60.000000  60.000000  48.000000\nmean   19.000000  25.000000   9338.054441   0.016977   0.029842  25.145042\nstd     6.689227  17.222374   4119.364769   0.006542   0.031361   0.564678\nmin    10.000000   0.000000    103.544660   0.010700   0.011082  23.970000\n25%    10.000000  10.000000   7019.698113   0.011697   0.014969  24.644250\n50%    22.500000  25.000000  10630.167240   0.015171   0.019005  25.263000\n75%    25.000000  40.000000  11866.580522   0.020059   0.028063  25.613250\nmax    25.000000  50.000000  15492.034923   0.043449   0.153520  25.912000",
      "text/html": "<div>\n<style scoped>\n    .dataframe tbody tr th:only-of-type {\n        vertical-align: middle;\n    }\n\n    .dataframe tbody tr th {\n        vertical-align: top;\n    }\n\n    .dataframe thead th {\n        text-align: right;\n    }\n</style>\n<table border=\"1\" class=\"dataframe\">\n  <thead>\n    <tr style=\"text-align: right;\">\n      <th></th>\n      <th>Temp</th>\n      <th>Soc</th>\n      <th>C_1</th>\n      <th>R_0</th>\n      <th>R_1</th>\n      <th>OCV</th>\n    </tr>\n  </thead>\n  <tbody>\n    <tr>\n      <th>count</th>\n      <td>60.000000</td>\n      <td>60.000000</td>\n      <td>60.000000</td>\n      <td>60.000000</td>\n      <td>60.000000</td>\n      <td>48.000000</td>\n    </tr>\n    <tr>\n      <th>mean</th>\n      <td>19.000000</td>\n      <td>25.000000</td>\n      <td>9338.054441</td>\n      <td>0.016977</td>\n      <td>0.029842</td>\n      <td>25.145042</td>\n    </tr>\n    <tr>\n      <th>std</th>\n      <td>6.689227</td>\n      <td>17.222374</td>\n      <td>4119.364769</td>\n      <td>0.006542</td>\n      <td>0.031361</td>\n      <td>0.564678</td>\n    </tr>\n    <tr>\n      <th>min</th>\n      <td>10.000000</td>\n      <td>0.000000</td>\n      <td>103.544660</td>\n      <td>0.010700</td>\n      <td>0.011082</td>\n      <td>23.970000</td>\n    </tr>\n    <tr>\n      <th>25%</th>\n      <td>10.000000</td>\n      <td>10.000000</td>\n      <td>7019.698113</td>\n      <td>0.011697</td>\n      <td>0.014969</td>\n      <td>24.644250</td>\n    </tr>\n    <tr>\n      <th>50%</th>\n      <td>22.500000</td>\n      <td>25.000000</td>\n      <td>10630.167240</td>\n      <td>0.015171</td>\n      <td>0.019005</td>\n      <td>25.263000</td>\n    </tr>\n    <tr>\n      <th>75%</th>\n      <td>25.000000</td>\n      <td>40.000000</td>\n      <td>11866.580522</td>\n      <td>0.020059</td>\n      <td>0.028063</td>\n      <td>25.613250</td>\n    </tr>\n    <tr>\n      <th>max</th>\n      <td>25.000000</td>\n      <td>50.000000</td>\n      <td>15492.034923</td>\n      <td>0.043449</td>\n      <td>0.153520</td>\n      <td>25.912000</td>\n    </tr>\n  </tbody>\n</table>\n</div>"
     },
     "execution_count": 7,
     "metadata": {},
     "output_type": "execute_result"
    }
   ],
   "source": [
    "phi_0_df_starting.describe()"
   ],
   "metadata": {
    "collapsed": false,
    "ExecuteTime": {
     "end_time": "2024-08-19T09:08:02.982227400Z",
     "start_time": "2024-08-19T09:08:02.871937900Z"
    }
   },
   "id": "e400e47f0b66b1a5"
  },
  {
   "cell_type": "code",
   "execution_count": 8,
   "outputs": [
    {
     "data": {
      "text/plain": "                                                 phi_0\ncount                                               60\nunique                                              60\ntop     [1.61772856e-02 1.64317700e-02 9.36283879e+03]\nfreq                                                 1",
      "text/html": "<div>\n<style scoped>\n    .dataframe tbody tr th:only-of-type {\n        vertical-align: middle;\n    }\n\n    .dataframe tbody tr th {\n        vertical-align: top;\n    }\n\n    .dataframe thead th {\n        text-align: right;\n    }\n</style>\n<table border=\"1\" class=\"dataframe\">\n  <thead>\n    <tr style=\"text-align: right;\">\n      <th></th>\n      <th>phi_0</th>\n    </tr>\n  </thead>\n  <tbody>\n    <tr>\n      <th>count</th>\n      <td>60</td>\n    </tr>\n    <tr>\n      <th>unique</th>\n      <td>60</td>\n    </tr>\n    <tr>\n      <th>top</th>\n      <td>[1.61772856e-02 1.64317700e-02 9.36283879e+03]</td>\n    </tr>\n    <tr>\n      <th>freq</th>\n      <td>1</td>\n    </tr>\n  </tbody>\n</table>\n</div>"
     },
     "execution_count": 8,
     "metadata": {},
     "output_type": "execute_result"
    }
   ],
   "source": [
    "phi_0_df_new.describe()"
   ],
   "metadata": {
    "collapsed": false,
    "ExecuteTime": {
     "end_time": "2024-08-19T09:08:04.450849200Z",
     "start_time": "2024-08-19T09:08:04.389596900Z"
    }
   },
   "id": "881eec235f5d89b5"
  },
  {
   "cell_type": "markdown",
   "source": [
    "Besides the different type of the savings, no point were added to the cluster phi_0, coherent with history_theta"
   ],
   "metadata": {
    "collapsed": false
   },
   "id": "7fec1de18a797236"
  },
  {
   "cell_type": "code",
   "execution_count": 9,
   "outputs": [
    {
     "data": {
      "text/plain": "                                            phi_0\n0  [1.61772856e-02 1.64317700e-02 9.36283879e+03]\n1  [1.66232441e-02 1.94990143e-02 9.69118293e+03]\n2  [1.74201293e-02 2.33104255e-02 1.20523518e+04]\n3  [1.86618104e-02 2.40554989e-02 9.30662972e+03]\n4  [2.45876688e-02 3.50981233e-02 5.13923649e+03]",
      "text/html": "<div>\n<style scoped>\n    .dataframe tbody tr th:only-of-type {\n        vertical-align: middle;\n    }\n\n    .dataframe tbody tr th {\n        vertical-align: top;\n    }\n\n    .dataframe thead th {\n        text-align: right;\n    }\n</style>\n<table border=\"1\" class=\"dataframe\">\n  <thead>\n    <tr style=\"text-align: right;\">\n      <th></th>\n      <th>phi_0</th>\n    </tr>\n  </thead>\n  <tbody>\n    <tr>\n      <th>0</th>\n      <td>[1.61772856e-02 1.64317700e-02 9.36283879e+03]</td>\n    </tr>\n    <tr>\n      <th>1</th>\n      <td>[1.66232441e-02 1.94990143e-02 9.69118293e+03]</td>\n    </tr>\n    <tr>\n      <th>2</th>\n      <td>[1.74201293e-02 2.33104255e-02 1.20523518e+04]</td>\n    </tr>\n    <tr>\n      <th>3</th>\n      <td>[1.86618104e-02 2.40554989e-02 9.30662972e+03]</td>\n    </tr>\n    <tr>\n      <th>4</th>\n      <td>[2.45876688e-02 3.50981233e-02 5.13923649e+03]</td>\n    </tr>\n  </tbody>\n</table>\n</div>"
     },
     "execution_count": 9,
     "metadata": {},
     "output_type": "execute_result"
    }
   ],
   "source": [
    "phi_0_df_new.head()"
   ],
   "metadata": {
    "collapsed": false,
    "ExecuteTime": {
     "end_time": "2024-08-19T09:08:24.638420Z",
     "start_time": "2024-08-19T09:08:24.494209700Z"
    }
   },
   "id": "77093d16c64e3431"
  },
  {
   "cell_type": "code",
   "execution_count": 10,
   "outputs": [
    {
     "data": {
      "text/plain": "Empty DataFrame\nColumns: [history_theta]\nIndex: []",
      "text/html": "<div>\n<style scoped>\n    .dataframe tbody tr th:only-of-type {\n        vertical-align: middle;\n    }\n\n    .dataframe tbody tr th {\n        vertical-align: top;\n    }\n\n    .dataframe thead th {\n        text-align: right;\n    }\n</style>\n<table border=\"1\" class=\"dataframe\">\n  <thead>\n    <tr style=\"text-align: right;\">\n      <th></th>\n      <th>history_theta</th>\n    </tr>\n  </thead>\n  <tbody>\n  </tbody>\n</table>\n</div>"
     },
     "execution_count": 10,
     "metadata": {},
     "output_type": "execute_result"
    }
   ],
   "source": [
    "phi_0_history_theta_df.head()"
   ],
   "metadata": {
    "collapsed": false,
    "ExecuteTime": {
     "end_time": "2024-08-19T09:09:36.838624400Z",
     "start_time": "2024-08-19T09:09:36.696202Z"
    }
   },
   "id": "49c72a99bc04ad11"
  },
  {
   "cell_type": "code",
   "execution_count": 11,
   "outputs": [
    {
     "data": {
      "text/plain": "Empty DataFrame\nColumns: [Outliers]\nIndex: []",
      "text/html": "<div>\n<style scoped>\n    .dataframe tbody tr th:only-of-type {\n        vertical-align: middle;\n    }\n\n    .dataframe tbody tr th {\n        vertical-align: top;\n    }\n\n    .dataframe thead th {\n        text-align: right;\n    }\n</style>\n<table border=\"1\" class=\"dataframe\">\n  <thead>\n    <tr style=\"text-align: right;\">\n      <th></th>\n      <th>Outliers</th>\n    </tr>\n  </thead>\n  <tbody>\n  </tbody>\n</table>\n</div>"
     },
     "execution_count": 11,
     "metadata": {},
     "output_type": "execute_result"
    }
   ],
   "source": [
    "phi_0_outliers_df.head()"
   ],
   "metadata": {
    "collapsed": false,
    "ExecuteTime": {
     "end_time": "2024-08-19T09:11:25.999103500Z",
     "start_time": "2024-08-19T09:11:25.801509300Z"
    }
   },
   "id": "b577cdb6cfe2245a"
  },
  {
   "cell_type": "markdown",
   "source": [
    "## PHI_1"
   ],
   "metadata": {
    "collapsed": false
   },
   "id": "1a16b1ac46b627d"
  },
  {
   "cell_type": "code",
   "execution_count": 12,
   "outputs": [],
   "source": [
    "phi_1_df_new = pd.read_csv('../../data/output/final_experiment/no_gaussianity_trial/phi_1.csv')\n",
    "phi_1_df_starting = pd.read_csv('../../data/ground/nominal_cluster/phi_two.csv')\n",
    "phi_1_history_theta_df = pd.read_csv('../../data/output/final_experiment/no_gaussianity_trial/phi_1_history_theta.csv')\n",
    "phi_1_outliers_df = pd.read_csv('../../data/output/final_experiment/no_gaussianity_trial/phi_1_outliers_sets.csv')"
   ],
   "metadata": {
    "collapsed": false,
    "ExecuteTime": {
     "end_time": "2024-08-19T09:12:29.833291100Z",
     "start_time": "2024-08-19T09:12:29.706006100Z"
    }
   },
   "id": "5f5dd9af48d98bee"
  },
  {
   "cell_type": "code",
   "execution_count": 13,
   "outputs": [
    {
     "data": {
      "text/plain": "            Temp         Soc           C_1        R_0        R_1        OCV\ncount  60.000000   60.000000     60.000000  60.000000  60.000000  48.000000\nmean   19.000000   75.000000  10898.610389   0.013090   0.015514  27.219542\nstd     6.689227   17.222374   3296.695650   0.003160   0.004286   0.973577\nmin    10.000000   50.000000   6329.622654   0.009210   0.009238  25.827000\n25%    10.000000   60.000000   8070.132353   0.010474   0.011761  26.251750\n50%    22.500000   75.000000  10351.731264   0.011748   0.014324  27.262500\n75%    25.000000   90.000000  13357.329312   0.015858   0.018259  28.226250\nmax    25.000000  100.000000  19489.447086   0.019599   0.027384  28.504571",
      "text/html": "<div>\n<style scoped>\n    .dataframe tbody tr th:only-of-type {\n        vertical-align: middle;\n    }\n\n    .dataframe tbody tr th {\n        vertical-align: top;\n    }\n\n    .dataframe thead th {\n        text-align: right;\n    }\n</style>\n<table border=\"1\" class=\"dataframe\">\n  <thead>\n    <tr style=\"text-align: right;\">\n      <th></th>\n      <th>Temp</th>\n      <th>Soc</th>\n      <th>C_1</th>\n      <th>R_0</th>\n      <th>R_1</th>\n      <th>OCV</th>\n    </tr>\n  </thead>\n  <tbody>\n    <tr>\n      <th>count</th>\n      <td>60.000000</td>\n      <td>60.000000</td>\n      <td>60.000000</td>\n      <td>60.000000</td>\n      <td>60.000000</td>\n      <td>48.000000</td>\n    </tr>\n    <tr>\n      <th>mean</th>\n      <td>19.000000</td>\n      <td>75.000000</td>\n      <td>10898.610389</td>\n      <td>0.013090</td>\n      <td>0.015514</td>\n      <td>27.219542</td>\n    </tr>\n    <tr>\n      <th>std</th>\n      <td>6.689227</td>\n      <td>17.222374</td>\n      <td>3296.695650</td>\n      <td>0.003160</td>\n      <td>0.004286</td>\n      <td>0.973577</td>\n    </tr>\n    <tr>\n      <th>min</th>\n      <td>10.000000</td>\n      <td>50.000000</td>\n      <td>6329.622654</td>\n      <td>0.009210</td>\n      <td>0.009238</td>\n      <td>25.827000</td>\n    </tr>\n    <tr>\n      <th>25%</th>\n      <td>10.000000</td>\n      <td>60.000000</td>\n      <td>8070.132353</td>\n      <td>0.010474</td>\n      <td>0.011761</td>\n      <td>26.251750</td>\n    </tr>\n    <tr>\n      <th>50%</th>\n      <td>22.500000</td>\n      <td>75.000000</td>\n      <td>10351.731264</td>\n      <td>0.011748</td>\n      <td>0.014324</td>\n      <td>27.262500</td>\n    </tr>\n    <tr>\n      <th>75%</th>\n      <td>25.000000</td>\n      <td>90.000000</td>\n      <td>13357.329312</td>\n      <td>0.015858</td>\n      <td>0.018259</td>\n      <td>28.226250</td>\n    </tr>\n    <tr>\n      <th>max</th>\n      <td>25.000000</td>\n      <td>100.000000</td>\n      <td>19489.447086</td>\n      <td>0.019599</td>\n      <td>0.027384</td>\n      <td>28.504571</td>\n    </tr>\n  </tbody>\n</table>\n</div>"
     },
     "execution_count": 13,
     "metadata": {},
     "output_type": "execute_result"
    }
   ],
   "source": [
    "phi_1_df_starting.describe()"
   ],
   "metadata": {
    "collapsed": false,
    "ExecuteTime": {
     "end_time": "2024-08-19T09:12:44.599623700Z",
     "start_time": "2024-08-19T09:12:44.489591800Z"
    }
   },
   "id": "97a47738e8500854"
  },
  {
   "cell_type": "code",
   "execution_count": 14,
   "outputs": [
    {
     "data": {
      "text/plain": "                                                 phi_1\ncount                                               60\nunique                                              60\ntop     [1.36122300e-02 1.43830973e-02 9.65588733e+03]\nfreq                                                 1",
      "text/html": "<div>\n<style scoped>\n    .dataframe tbody tr th:only-of-type {\n        vertical-align: middle;\n    }\n\n    .dataframe tbody tr th {\n        vertical-align: top;\n    }\n\n    .dataframe thead th {\n        text-align: right;\n    }\n</style>\n<table border=\"1\" class=\"dataframe\">\n  <thead>\n    <tr style=\"text-align: right;\">\n      <th></th>\n      <th>phi_1</th>\n    </tr>\n  </thead>\n  <tbody>\n    <tr>\n      <th>count</th>\n      <td>60</td>\n    </tr>\n    <tr>\n      <th>unique</th>\n      <td>60</td>\n    </tr>\n    <tr>\n      <th>top</th>\n      <td>[1.36122300e-02 1.43830973e-02 9.65588733e+03]</td>\n    </tr>\n    <tr>\n      <th>freq</th>\n      <td>1</td>\n    </tr>\n  </tbody>\n</table>\n</div>"
     },
     "execution_count": 14,
     "metadata": {},
     "output_type": "execute_result"
    }
   ],
   "source": [
    "phi_1_df_new.describe()"
   ],
   "metadata": {
    "collapsed": false,
    "ExecuteTime": {
     "end_time": "2024-08-19T09:12:58.946054100Z",
     "start_time": "2024-08-19T09:12:58.768387400Z"
    }
   },
   "id": "af77bc0154f3eaaf"
  },
  {
   "cell_type": "code",
   "execution_count": 15,
   "outputs": [
    {
     "data": {
      "text/plain": "Empty DataFrame\nColumns: [Outliers]\nIndex: []",
      "text/html": "<div>\n<style scoped>\n    .dataframe tbody tr th:only-of-type {\n        vertical-align: middle;\n    }\n\n    .dataframe tbody tr th {\n        vertical-align: top;\n    }\n\n    .dataframe thead th {\n        text-align: right;\n    }\n</style>\n<table border=\"1\" class=\"dataframe\">\n  <thead>\n    <tr style=\"text-align: right;\">\n      <th></th>\n      <th>Outliers</th>\n    </tr>\n  </thead>\n  <tbody>\n  </tbody>\n</table>\n</div>"
     },
     "execution_count": 15,
     "metadata": {},
     "output_type": "execute_result"
    }
   ],
   "source": [
    "phi_1_outliers_df.head()"
   ],
   "metadata": {
    "collapsed": false,
    "ExecuteTime": {
     "end_time": "2024-08-19T09:13:22.069472900Z",
     "start_time": "2024-08-19T09:13:21.911032600Z"
    }
   },
   "id": "32fcc9d215b965c5"
  },
  {
   "cell_type": "markdown",
   "source": [
    "## PHI_2"
   ],
   "metadata": {
    "collapsed": false
   },
   "id": "8ca06e3c0759861f"
  },
  {
   "cell_type": "code",
   "execution_count": 16,
   "outputs": [],
   "source": [
    "phi_2_df_new = pd.read_csv('../../data/output/final_experiment/no_gaussianity_trial/phi_2.csv')\n",
    "phi_2_df_starting = pd.read_csv('../../data/ground/nominal_cluster/phi_three.csv')\n",
    "phi_2_history_theta_df = pd.read_csv('../../data/output/final_experiment/no_gaussianity_trial/phi_2_history_theta.csv')\n",
    "phi_2_outliers_df = pd.read_csv('../../data/output/final_experiment/no_gaussianity_trial/phi_2_outliers_sets.csv')"
   ],
   "metadata": {
    "collapsed": false,
    "ExecuteTime": {
     "end_time": "2024-08-19T09:14:03.446817500Z",
     "start_time": "2024-08-19T09:14:03.346967100Z"
    }
   },
   "id": "95879514c55e2be6"
  },
  {
   "cell_type": "code",
   "execution_count": 17,
   "outputs": [
    {
     "data": {
      "text/plain": "                                                 phi_2\ncount                                               30\nunique                                              30\ntop     [9.95109321e-03 1.06348378e-02 1.36709653e+04]\nfreq                                                 1",
      "text/html": "<div>\n<style scoped>\n    .dataframe tbody tr th:only-of-type {\n        vertical-align: middle;\n    }\n\n    .dataframe tbody tr th {\n        vertical-align: top;\n    }\n\n    .dataframe thead th {\n        text-align: right;\n    }\n</style>\n<table border=\"1\" class=\"dataframe\">\n  <thead>\n    <tr style=\"text-align: right;\">\n      <th></th>\n      <th>phi_2</th>\n    </tr>\n  </thead>\n  <tbody>\n    <tr>\n      <th>count</th>\n      <td>30</td>\n    </tr>\n    <tr>\n      <th>unique</th>\n      <td>30</td>\n    </tr>\n    <tr>\n      <th>top</th>\n      <td>[9.95109321e-03 1.06348378e-02 1.36709653e+04]</td>\n    </tr>\n    <tr>\n      <th>freq</th>\n      <td>1</td>\n    </tr>\n  </tbody>\n</table>\n</div>"
     },
     "execution_count": 17,
     "metadata": {},
     "output_type": "execute_result"
    }
   ],
   "source": [
    "phi_2_df_new.describe()"
   ],
   "metadata": {
    "collapsed": false,
    "ExecuteTime": {
     "end_time": "2024-08-19T09:14:23.954610300Z",
     "start_time": "2024-08-19T09:14:23.802304300Z"
    }
   },
   "id": "e4a3072d96ebc8d7"
  },
  {
   "cell_type": "markdown",
   "source": [
    "## PHI_3"
   ],
   "metadata": {
    "collapsed": false
   },
   "id": "38688b134063e03b"
  },
  {
   "cell_type": "code",
   "execution_count": 18,
   "outputs": [],
   "source": [
    "phi_3_df_new = pd.read_csv('../../data/output/final_experiment/no_gaussianity_trial/phi_3.csv')\n",
    "phi_3_df_starting = pd.read_csv('../../data/ground/nominal_cluster/phi_four.csv')\n",
    "phi_3_history_theta_df = pd.read_csv('../../data/output/final_experiment/no_gaussianity_trial/phi_3_history_theta.csv')\n",
    "phi_3_outliers_df = pd.read_csv('../../data/output/final_experiment/no_gaussianity_trial/phi_3_outliers_sets.csv')"
   ],
   "metadata": {
    "collapsed": false,
    "ExecuteTime": {
     "end_time": "2024-08-19T09:15:17.737838700Z",
     "start_time": "2024-08-19T09:15:17.600728Z"
    }
   },
   "id": "630961b4fc9552ea"
  },
  {
   "cell_type": "code",
   "execution_count": 32,
   "outputs": [
    {
     "data": {
      "text/plain": "    Temp  Soc           C_1       R_0       R_1        OCV\n0     30   50  13001.023275  0.008855  0.010409        NaN\n1     30   60  13018.518124  0.008932  0.008997        NaN\n2     30   70  11737.192141  0.009575  0.012062        NaN\n3     30   80  14645.139083  0.009490  0.016169        NaN\n4     30   90  18951.891058  0.009830  0.011122        NaN\n5     30  100  13670.965302  0.009951  0.010635        NaN\n6     35   50  14010.064023  0.008205  0.009450        NaN\n7     35   60  14460.293472  0.008271  0.008059        NaN\n8     35   70  12783.867043  0.008763  0.010938        NaN\n9     35   80  14273.495462  0.008633  0.014764        NaN\n10    35   90  20517.297277  0.008831  0.009884        NaN\n11    35  100  14423.149979  0.008890  0.009523        NaN\n12    40  100  18045.602573  0.007363  0.008959  28.512571\n13    40   90  18527.040209  0.007810  0.007259  28.260000\n14    40   80  14229.235629  0.007540  0.010172  27.592000\n15    40   70  15257.136605  0.007582  0.013891  26.998000\n16    40   60  27306.615043  0.007612  0.009337  26.329000\n17    40   50  14808.432193  0.007819  0.008591  25.920000\n18    40  100  10370.463310  0.007623  0.007800  28.494714\n19    40   90  12436.771443  0.007734  0.006666  28.254000\n20    40   80  11134.772219  0.007966  0.009311  27.574000\n21    40   70  12700.765497  0.007570  0.013072  26.965000\n22    40   60  18562.877061  0.007827  0.008185  26.285000\n23    40   50  14402.790343  0.007695  0.008516  25.896000\n24    40  100  16641.248430  0.007680  0.008718  28.517429\n25    40   90  16742.394808  0.007287  0.007439  28.264000\n26    40   80  16127.617984  0.008345  0.009962  27.595000\n27    40   70  13747.653421  0.008179  0.013117  26.989000\n28    40   60  20378.618383  0.008054  0.008413  26.306000\n29    40   50  16314.781435  0.007974  0.008126  25.908000",
      "text/html": "<div>\n<style scoped>\n    .dataframe tbody tr th:only-of-type {\n        vertical-align: middle;\n    }\n\n    .dataframe tbody tr th {\n        vertical-align: top;\n    }\n\n    .dataframe thead th {\n        text-align: right;\n    }\n</style>\n<table border=\"1\" class=\"dataframe\">\n  <thead>\n    <tr style=\"text-align: right;\">\n      <th></th>\n      <th>Temp</th>\n      <th>Soc</th>\n      <th>C_1</th>\n      <th>R_0</th>\n      <th>R_1</th>\n      <th>OCV</th>\n    </tr>\n  </thead>\n  <tbody>\n    <tr>\n      <th>0</th>\n      <td>30</td>\n      <td>50</td>\n      <td>13001.023275</td>\n      <td>0.008855</td>\n      <td>0.010409</td>\n      <td>NaN</td>\n    </tr>\n    <tr>\n      <th>1</th>\n      <td>30</td>\n      <td>60</td>\n      <td>13018.518124</td>\n      <td>0.008932</td>\n      <td>0.008997</td>\n      <td>NaN</td>\n    </tr>\n    <tr>\n      <th>2</th>\n      <td>30</td>\n      <td>70</td>\n      <td>11737.192141</td>\n      <td>0.009575</td>\n      <td>0.012062</td>\n      <td>NaN</td>\n    </tr>\n    <tr>\n      <th>3</th>\n      <td>30</td>\n      <td>80</td>\n      <td>14645.139083</td>\n      <td>0.009490</td>\n      <td>0.016169</td>\n      <td>NaN</td>\n    </tr>\n    <tr>\n      <th>4</th>\n      <td>30</td>\n      <td>90</td>\n      <td>18951.891058</td>\n      <td>0.009830</td>\n      <td>0.011122</td>\n      <td>NaN</td>\n    </tr>\n    <tr>\n      <th>5</th>\n      <td>30</td>\n      <td>100</td>\n      <td>13670.965302</td>\n      <td>0.009951</td>\n      <td>0.010635</td>\n      <td>NaN</td>\n    </tr>\n    <tr>\n      <th>6</th>\n      <td>35</td>\n      <td>50</td>\n      <td>14010.064023</td>\n      <td>0.008205</td>\n      <td>0.009450</td>\n      <td>NaN</td>\n    </tr>\n    <tr>\n      <th>7</th>\n      <td>35</td>\n      <td>60</td>\n      <td>14460.293472</td>\n      <td>0.008271</td>\n      <td>0.008059</td>\n      <td>NaN</td>\n    </tr>\n    <tr>\n      <th>8</th>\n      <td>35</td>\n      <td>70</td>\n      <td>12783.867043</td>\n      <td>0.008763</td>\n      <td>0.010938</td>\n      <td>NaN</td>\n    </tr>\n    <tr>\n      <th>9</th>\n      <td>35</td>\n      <td>80</td>\n      <td>14273.495462</td>\n      <td>0.008633</td>\n      <td>0.014764</td>\n      <td>NaN</td>\n    </tr>\n    <tr>\n      <th>10</th>\n      <td>35</td>\n      <td>90</td>\n      <td>20517.297277</td>\n      <td>0.008831</td>\n      <td>0.009884</td>\n      <td>NaN</td>\n    </tr>\n    <tr>\n      <th>11</th>\n      <td>35</td>\n      <td>100</td>\n      <td>14423.149979</td>\n      <td>0.008890</td>\n      <td>0.009523</td>\n      <td>NaN</td>\n    </tr>\n    <tr>\n      <th>12</th>\n      <td>40</td>\n      <td>100</td>\n      <td>18045.602573</td>\n      <td>0.007363</td>\n      <td>0.008959</td>\n      <td>28.512571</td>\n    </tr>\n    <tr>\n      <th>13</th>\n      <td>40</td>\n      <td>90</td>\n      <td>18527.040209</td>\n      <td>0.007810</td>\n      <td>0.007259</td>\n      <td>28.260000</td>\n    </tr>\n    <tr>\n      <th>14</th>\n      <td>40</td>\n      <td>80</td>\n      <td>14229.235629</td>\n      <td>0.007540</td>\n      <td>0.010172</td>\n      <td>27.592000</td>\n    </tr>\n    <tr>\n      <th>15</th>\n      <td>40</td>\n      <td>70</td>\n      <td>15257.136605</td>\n      <td>0.007582</td>\n      <td>0.013891</td>\n      <td>26.998000</td>\n    </tr>\n    <tr>\n      <th>16</th>\n      <td>40</td>\n      <td>60</td>\n      <td>27306.615043</td>\n      <td>0.007612</td>\n      <td>0.009337</td>\n      <td>26.329000</td>\n    </tr>\n    <tr>\n      <th>17</th>\n      <td>40</td>\n      <td>50</td>\n      <td>14808.432193</td>\n      <td>0.007819</td>\n      <td>0.008591</td>\n      <td>25.920000</td>\n    </tr>\n    <tr>\n      <th>18</th>\n      <td>40</td>\n      <td>100</td>\n      <td>10370.463310</td>\n      <td>0.007623</td>\n      <td>0.007800</td>\n      <td>28.494714</td>\n    </tr>\n    <tr>\n      <th>19</th>\n      <td>40</td>\n      <td>90</td>\n      <td>12436.771443</td>\n      <td>0.007734</td>\n      <td>0.006666</td>\n      <td>28.254000</td>\n    </tr>\n    <tr>\n      <th>20</th>\n      <td>40</td>\n      <td>80</td>\n      <td>11134.772219</td>\n      <td>0.007966</td>\n      <td>0.009311</td>\n      <td>27.574000</td>\n    </tr>\n    <tr>\n      <th>21</th>\n      <td>40</td>\n      <td>70</td>\n      <td>12700.765497</td>\n      <td>0.007570</td>\n      <td>0.013072</td>\n      <td>26.965000</td>\n    </tr>\n    <tr>\n      <th>22</th>\n      <td>40</td>\n      <td>60</td>\n      <td>18562.877061</td>\n      <td>0.007827</td>\n      <td>0.008185</td>\n      <td>26.285000</td>\n    </tr>\n    <tr>\n      <th>23</th>\n      <td>40</td>\n      <td>50</td>\n      <td>14402.790343</td>\n      <td>0.007695</td>\n      <td>0.008516</td>\n      <td>25.896000</td>\n    </tr>\n    <tr>\n      <th>24</th>\n      <td>40</td>\n      <td>100</td>\n      <td>16641.248430</td>\n      <td>0.007680</td>\n      <td>0.008718</td>\n      <td>28.517429</td>\n    </tr>\n    <tr>\n      <th>25</th>\n      <td>40</td>\n      <td>90</td>\n      <td>16742.394808</td>\n      <td>0.007287</td>\n      <td>0.007439</td>\n      <td>28.264000</td>\n    </tr>\n    <tr>\n      <th>26</th>\n      <td>40</td>\n      <td>80</td>\n      <td>16127.617984</td>\n      <td>0.008345</td>\n      <td>0.009962</td>\n      <td>27.595000</td>\n    </tr>\n    <tr>\n      <th>27</th>\n      <td>40</td>\n      <td>70</td>\n      <td>13747.653421</td>\n      <td>0.008179</td>\n      <td>0.013117</td>\n      <td>26.989000</td>\n    </tr>\n    <tr>\n      <th>28</th>\n      <td>40</td>\n      <td>60</td>\n      <td>20378.618383</td>\n      <td>0.008054</td>\n      <td>0.008413</td>\n      <td>26.306000</td>\n    </tr>\n    <tr>\n      <th>29</th>\n      <td>40</td>\n      <td>50</td>\n      <td>16314.781435</td>\n      <td>0.007974</td>\n      <td>0.008126</td>\n      <td>25.908000</td>\n    </tr>\n  </tbody>\n</table>\n</div>"
     },
     "execution_count": 32,
     "metadata": {},
     "output_type": "execute_result"
    }
   ],
   "source": [
    "phi_3_df_starting.head(30)"
   ],
   "metadata": {
    "collapsed": false,
    "ExecuteTime": {
     "end_time": "2024-08-19T10:07:21.735122800Z",
     "start_time": "2024-08-19T10:07:21.633607200Z"
    }
   },
   "id": "1b666dc227003219"
  },
  {
   "cell_type": "code",
   "execution_count": 31,
   "outputs": [
    {
     "data": {
      "text/plain": "                                                phi_3\n0      [8.85523617e-03 1.04086100e-02 1.30010233e+04]\n1      [8.93231610e-03 8.99726919e-03 1.30185181e+04]\n2      [9.57475345e-03 1.20616743e-02 1.17371921e+04]\n3      [9.48956791e-03 1.61688469e-02 1.46451391e+04]\n4      [9.83028486e-03 1.11223137e-02 1.89518911e+04]\n5      [9.95109321e-03 1.06348378e-02 1.36709653e+04]\n6      [8.20522396e-03 9.45049645e-03 1.40100640e+04]\n7      [8.27139505e-03 8.05929811e-03 1.44602935e+04]\n8      [8.76251463e-03 1.09381673e-02 1.27838670e+04]\n9      [8.63327676e-03 1.47643999e-02 1.42734955e+04]\n10     [8.83063743e-03 9.88373347e-03 2.05172973e+04]\n11     [8.89023990e-03 9.52274893e-03 1.44231500e+04]\n12     [7.36342323e-03 8.95934134e-03 1.80456026e+04]\n13     [7.81015320e-03 7.25943727e-03 1.85270402e+04]\n14     [7.54010425e-03 1.01715500e-02 1.42292356e+04]\n15     [7.58153971e-03 1.38910090e-02 1.52571366e+04]\n16     [7.61150860e-03 9.33678388e-03 2.73066150e+04]\n17     [7.81893004e-03 8.59053498e-03 1.48084322e+04]\n18     [7.62253098e-03 7.80007025e-03 1.03704633e+04]\n19     [7.73418816e-03 6.66564901e-03 1.24367714e+04]\n20     [7.96565458e-03 9.31050535e-03 1.11347722e+04]\n21     [7.57040476e-03 1.30715656e-02 1.27007655e+04]\n22     [7.82728807e-03 8.18539929e-03 1.85628771e+04]\n23     [7.69507003e-03 8.51587749e-03 1.44027903e+04]\n24     [7.67968106e-03 8.71773724e-03 1.66412484e+04]\n25     [7.28708061e-03 7.43889479e-03 1.67423948e+04]\n26     [8.34506859e-03 9.96192562e-03 1.61276180e+04]\n27     [8.17901235e-03 1.31172840e-02 1.37476534e+04]\n28     [8.05417329e-03 8.41327656e-03 2.03786184e+04]\n29     [7.97415969e-03 8.12556778e-03 1.63147814e+04]\n30     [9.11101319e-02 5.43369788e-02 1.15131821e+05]\n31     [6.53457601e-02 4.93126770e-02 4.29356959e+04]\n32     [0.00000000e+00 0.00000000e+00 1.13686838e-10]\n33     [1.00000000e-01 6.56588530e-02 8.21637253e+04]\n34     [1.00000000e-01 6.60840011e-02 3.39824048e+04]\n35     [0.00000000e+00 0.00000000e+00 2.84217094e-11]\n36  [     0.              0.         296275.04632516]",
      "text/html": "<div>\n<style scoped>\n    .dataframe tbody tr th:only-of-type {\n        vertical-align: middle;\n    }\n\n    .dataframe tbody tr th {\n        vertical-align: top;\n    }\n\n    .dataframe thead th {\n        text-align: right;\n    }\n</style>\n<table border=\"1\" class=\"dataframe\">\n  <thead>\n    <tr style=\"text-align: right;\">\n      <th></th>\n      <th>phi_3</th>\n    </tr>\n  </thead>\n  <tbody>\n    <tr>\n      <th>0</th>\n      <td>[8.85523617e-03 1.04086100e-02 1.30010233e+04]</td>\n    </tr>\n    <tr>\n      <th>1</th>\n      <td>[8.93231610e-03 8.99726919e-03 1.30185181e+04]</td>\n    </tr>\n    <tr>\n      <th>2</th>\n      <td>[9.57475345e-03 1.20616743e-02 1.17371921e+04]</td>\n    </tr>\n    <tr>\n      <th>3</th>\n      <td>[9.48956791e-03 1.61688469e-02 1.46451391e+04]</td>\n    </tr>\n    <tr>\n      <th>4</th>\n      <td>[9.83028486e-03 1.11223137e-02 1.89518911e+04]</td>\n    </tr>\n    <tr>\n      <th>5</th>\n      <td>[9.95109321e-03 1.06348378e-02 1.36709653e+04]</td>\n    </tr>\n    <tr>\n      <th>6</th>\n      <td>[8.20522396e-03 9.45049645e-03 1.40100640e+04]</td>\n    </tr>\n    <tr>\n      <th>7</th>\n      <td>[8.27139505e-03 8.05929811e-03 1.44602935e+04]</td>\n    </tr>\n    <tr>\n      <th>8</th>\n      <td>[8.76251463e-03 1.09381673e-02 1.27838670e+04]</td>\n    </tr>\n    <tr>\n      <th>9</th>\n      <td>[8.63327676e-03 1.47643999e-02 1.42734955e+04]</td>\n    </tr>\n    <tr>\n      <th>10</th>\n      <td>[8.83063743e-03 9.88373347e-03 2.05172973e+04]</td>\n    </tr>\n    <tr>\n      <th>11</th>\n      <td>[8.89023990e-03 9.52274893e-03 1.44231500e+04]</td>\n    </tr>\n    <tr>\n      <th>12</th>\n      <td>[7.36342323e-03 8.95934134e-03 1.80456026e+04]</td>\n    </tr>\n    <tr>\n      <th>13</th>\n      <td>[7.81015320e-03 7.25943727e-03 1.85270402e+04]</td>\n    </tr>\n    <tr>\n      <th>14</th>\n      <td>[7.54010425e-03 1.01715500e-02 1.42292356e+04]</td>\n    </tr>\n    <tr>\n      <th>15</th>\n      <td>[7.58153971e-03 1.38910090e-02 1.52571366e+04]</td>\n    </tr>\n    <tr>\n      <th>16</th>\n      <td>[7.61150860e-03 9.33678388e-03 2.73066150e+04]</td>\n    </tr>\n    <tr>\n      <th>17</th>\n      <td>[7.81893004e-03 8.59053498e-03 1.48084322e+04]</td>\n    </tr>\n    <tr>\n      <th>18</th>\n      <td>[7.62253098e-03 7.80007025e-03 1.03704633e+04]</td>\n    </tr>\n    <tr>\n      <th>19</th>\n      <td>[7.73418816e-03 6.66564901e-03 1.24367714e+04]</td>\n    </tr>\n    <tr>\n      <th>20</th>\n      <td>[7.96565458e-03 9.31050535e-03 1.11347722e+04]</td>\n    </tr>\n    <tr>\n      <th>21</th>\n      <td>[7.57040476e-03 1.30715656e-02 1.27007655e+04]</td>\n    </tr>\n    <tr>\n      <th>22</th>\n      <td>[7.82728807e-03 8.18539929e-03 1.85628771e+04]</td>\n    </tr>\n    <tr>\n      <th>23</th>\n      <td>[7.69507003e-03 8.51587749e-03 1.44027903e+04]</td>\n    </tr>\n    <tr>\n      <th>24</th>\n      <td>[7.67968106e-03 8.71773724e-03 1.66412484e+04]</td>\n    </tr>\n    <tr>\n      <th>25</th>\n      <td>[7.28708061e-03 7.43889479e-03 1.67423948e+04]</td>\n    </tr>\n    <tr>\n      <th>26</th>\n      <td>[8.34506859e-03 9.96192562e-03 1.61276180e+04]</td>\n    </tr>\n    <tr>\n      <th>27</th>\n      <td>[8.17901235e-03 1.31172840e-02 1.37476534e+04]</td>\n    </tr>\n    <tr>\n      <th>28</th>\n      <td>[8.05417329e-03 8.41327656e-03 2.03786184e+04]</td>\n    </tr>\n    <tr>\n      <th>29</th>\n      <td>[7.97415969e-03 8.12556778e-03 1.63147814e+04]</td>\n    </tr>\n    <tr>\n      <th>30</th>\n      <td>[9.11101319e-02 5.43369788e-02 1.15131821e+05]</td>\n    </tr>\n    <tr>\n      <th>31</th>\n      <td>[6.53457601e-02 4.93126770e-02 4.29356959e+04]</td>\n    </tr>\n    <tr>\n      <th>32</th>\n      <td>[0.00000000e+00 0.00000000e+00 1.13686838e-10]</td>\n    </tr>\n    <tr>\n      <th>33</th>\n      <td>[1.00000000e-01 6.56588530e-02 8.21637253e+04]</td>\n    </tr>\n    <tr>\n      <th>34</th>\n      <td>[1.00000000e-01 6.60840011e-02 3.39824048e+04]</td>\n    </tr>\n    <tr>\n      <th>35</th>\n      <td>[0.00000000e+00 0.00000000e+00 2.84217094e-11]</td>\n    </tr>\n    <tr>\n      <th>36</th>\n      <td>[     0.              0.         296275.04632516]</td>\n    </tr>\n  </tbody>\n</table>\n</div>"
     },
     "execution_count": 31,
     "metadata": {},
     "output_type": "execute_result"
    }
   ],
   "source": [
    "phi_3_df_new.head(37)"
   ],
   "metadata": {
    "collapsed": false,
    "ExecuteTime": {
     "end_time": "2024-08-19T10:06:10.574392600Z",
     "start_time": "2024-08-19T10:06:10.455217Z"
    }
   },
   "id": "11dee9667c70dcbc"
  },
  {
   "cell_type": "code",
   "execution_count": 23,
   "outputs": [
    {
     "data": {
      "text/plain": "                                            Outliers\n0     [    0.             0.         62317.83082939]\n1     [0.00000000e+00 7.55967181e-02 1.00000000e+06]\n2     [0.00000000e+00 1.00000000e-01 4.48009141e+05]\n3     [5.64616588e-03 1.00000000e-01 4.96734215e+04]\n4  [     0.              0.         866340.18860587]\n5  [     0.              0.         409769.40274436]\n6  [     0.              0.         258235.70661106]\n7     [0.00000000e+00 1.00000000e-01 1.49726903e+05]\n8     [0.00000000e+00 1.00000000e-01 1.54850955e+05]",
      "text/html": "<div>\n<style scoped>\n    .dataframe tbody tr th:only-of-type {\n        vertical-align: middle;\n    }\n\n    .dataframe tbody tr th {\n        vertical-align: top;\n    }\n\n    .dataframe thead th {\n        text-align: right;\n    }\n</style>\n<table border=\"1\" class=\"dataframe\">\n  <thead>\n    <tr style=\"text-align: right;\">\n      <th></th>\n      <th>Outliers</th>\n    </tr>\n  </thead>\n  <tbody>\n    <tr>\n      <th>0</th>\n      <td>[    0.             0.         62317.83082939]</td>\n    </tr>\n    <tr>\n      <th>1</th>\n      <td>[0.00000000e+00 7.55967181e-02 1.00000000e+06]</td>\n    </tr>\n    <tr>\n      <th>2</th>\n      <td>[0.00000000e+00 1.00000000e-01 4.48009141e+05]</td>\n    </tr>\n    <tr>\n      <th>3</th>\n      <td>[5.64616588e-03 1.00000000e-01 4.96734215e+04]</td>\n    </tr>\n    <tr>\n      <th>4</th>\n      <td>[     0.              0.         866340.18860587]</td>\n    </tr>\n    <tr>\n      <th>5</th>\n      <td>[     0.              0.         409769.40274436]</td>\n    </tr>\n    <tr>\n      <th>6</th>\n      <td>[     0.              0.         258235.70661106]</td>\n    </tr>\n    <tr>\n      <th>7</th>\n      <td>[0.00000000e+00 1.00000000e-01 1.49726903e+05]</td>\n    </tr>\n    <tr>\n      <th>8</th>\n      <td>[0.00000000e+00 1.00000000e-01 1.54850955e+05]</td>\n    </tr>\n  </tbody>\n</table>\n</div>"
     },
     "execution_count": 23,
     "metadata": {},
     "output_type": "execute_result"
    }
   ],
   "source": [
    "phi_3_outliers_df.head(9)"
   ],
   "metadata": {
    "collapsed": false,
    "ExecuteTime": {
     "end_time": "2024-08-19T09:16:58.024991500Z",
     "start_time": "2024-08-19T09:16:57.921263100Z"
    }
   },
   "id": "c98e2366db29c916"
  },
  {
   "cell_type": "code",
   "execution_count": 25,
   "outputs": [
    {
     "data": {
      "text/plain": "                                         history_theta\ncount                                               16\nunique                                              16\ntop     [9.11101319e-02 5.43369788e-02 1.15131821e+05]\nfreq                                                 1",
      "text/html": "<div>\n<style scoped>\n    .dataframe tbody tr th:only-of-type {\n        vertical-align: middle;\n    }\n\n    .dataframe tbody tr th {\n        vertical-align: top;\n    }\n\n    .dataframe thead th {\n        text-align: right;\n    }\n</style>\n<table border=\"1\" class=\"dataframe\">\n  <thead>\n    <tr style=\"text-align: right;\">\n      <th></th>\n      <th>history_theta</th>\n    </tr>\n  </thead>\n  <tbody>\n    <tr>\n      <th>count</th>\n      <td>16</td>\n    </tr>\n    <tr>\n      <th>unique</th>\n      <td>16</td>\n    </tr>\n    <tr>\n      <th>top</th>\n      <td>[9.11101319e-02 5.43369788e-02 1.15131821e+05]</td>\n    </tr>\n    <tr>\n      <th>freq</th>\n      <td>1</td>\n    </tr>\n  </tbody>\n</table>\n</div>"
     },
     "execution_count": 25,
     "metadata": {},
     "output_type": "execute_result"
    }
   ],
   "source": [
    "phi_3_history_theta_df.describe()"
   ],
   "metadata": {
    "collapsed": false,
    "ExecuteTime": {
     "end_time": "2024-08-19T09:17:29.665207Z",
     "start_time": "2024-08-19T09:17:29.580300100Z"
    }
   },
   "id": "93e4c987e32e9b0b"
  },
  {
   "cell_type": "code",
   "execution_count": 28,
   "outputs": [],
   "source": [
    "samples = phi_3_df_new['phi_3'].values"
   ],
   "metadata": {
    "collapsed": false,
    "ExecuteTime": {
     "end_time": "2024-08-19T09:53:11.767786300Z",
     "start_time": "2024-08-19T09:53:11.720058100Z"
    }
   },
   "id": "5ccfcce5183d0aed"
  },
  {
   "cell_type": "code",
   "execution_count": null,
   "outputs": [],
   "source": [
    "plotting_utils.samples_and_outliers(samples=,outliers=)"
   ],
   "metadata": {
    "collapsed": false
   },
   "id": "f1fb93583b247bd2"
  }
 ],
 "metadata": {
  "kernelspec": {
   "display_name": "Python 3",
   "language": "python",
   "name": "python3"
  },
  "language_info": {
   "codemirror_mode": {
    "name": "ipython",
    "version": 2
   },
   "file_extension": ".py",
   "mimetype": "text/x-python",
   "name": "python",
   "nbconvert_exporter": "python",
   "pygments_lexer": "ipython2",
   "version": "2.7.6"
  }
 },
 "nbformat": 4,
 "nbformat_minor": 5
}
