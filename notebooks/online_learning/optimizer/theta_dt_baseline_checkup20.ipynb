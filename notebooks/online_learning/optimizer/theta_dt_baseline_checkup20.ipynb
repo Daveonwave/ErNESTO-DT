{
 "cells": [
  {
   "cell_type": "markdown",
   "source": [
    "## THE AIM IS TO SHOW  THAT, THE OPTIMIZER IS ABLE TO GET THE THETA OF THE DIGITAL TWIN"
   ],
   "metadata": {
    "collapsed": false
   },
   "id": "4b15348f19bb7961"
  },
  {
   "cell_type": "code",
   "execution_count": 1,
   "outputs": [],
   "source": [
    "import numpy as np\n",
    "from src.digital_twin.bess import BatteryEnergyStorageSystem\n",
    "from src.online_learning.optimizer import Optimizer\n",
    "from src.online_learning import utils\n",
    "import pandas as pd\n",
    "import os\n",
    "import matplotlib.pyplot as plt"
   ],
   "metadata": {
    "collapsed": false,
    "ExecuteTime": {
     "end_time": "2024-08-15T07:55:57.173712800Z",
     "start_time": "2024-08-15T07:55:47.813046200Z"
    }
   },
   "id": "initial_id"
  },
  {
   "cell_type": "code",
   "execution_count": 2,
   "outputs": [],
   "source": [
    "alpha = 0.5\n",
    "optimizer_method = 'L-BFGS-B'\n",
    "#optimizer_method ='BFGS'\n",
    "#optimizer_method = 'SLSQP' #each param explodes\n",
    "number_of_restarts = 1\n",
    "bounds = [(0, 1000), (0, 1000), (0, 1000)] # left r0 was: 0.01, right rc: 100, right c: 100\n",
    "scale_factor = [1e-4, 1e-4, 1e3] #c before: 10^7"
   ],
   "metadata": {
    "collapsed": false,
    "ExecuteTime": {
     "end_time": "2024-08-15T07:55:57.241522200Z",
     "start_time": "2024-08-15T07:55:57.184491800Z"
    }
   },
   "id": "f761b046bc634209"
  },
  {
   "cell_type": "code",
   "execution_count": 3,
   "outputs": [],
   "source": [
    "relative_path_ground = os.path.join('..', '..','..' , 'data', 'external', 'ground_20.csv')\n",
    "path_ground = utils.get_absolute_path(relative_path_ground)\n",
    "\n",
    "# Load Dataframe\n",
    "df = pd.read_csv(path_ground)\n",
    "    \n",
    "v_real = df['voltage'].values\n",
    "i_real = df['current'].values\n",
    "t_real = df['temperature'].values\n",
    "time = df['time']\n",
    "    \n",
    "# Load YAML:\n",
    "relative_path_grid = os.path.join('..', '..','..' , 'data', 'external','ranges')\n",
    "path_grid = utils.get_absolute_path(relative_path_grid)\n",
    "grid_parameters = utils.load_from_yaml(path_grid)\n",
    "    \n",
    "relative_path_electrical_params = os.path.join('..', '..','..' , 'data', 'external','electrical_params')\n",
    "path_electrical_params = utils.get_absolute_path(relative_path_electrical_params)\n",
    "electrical_params = utils.load_from_yaml(path_electrical_params)\n",
    "    \n",
    "relative_path_thermal_params = os.path.join('..', '..','..' , 'data', 'external', 'thermal_params')\n",
    "path_thermal_params = utils.get_absolute_path(relative_path_thermal_params)\n",
    "    \n",
    "thermal_params = utils.load_from_yaml(path_thermal_params)\n",
    "models_config = [electrical_params, thermal_params]\n",
    "    \n",
    "relative_path_battery_options = os.path.join('..', '..','..' , 'data', 'external', 'battery_options')\n",
    "path_battery_options = utils.get_absolute_path(relative_path_battery_options)\n",
    "    \n",
    "battery_options = utils.load_from_yaml(path_battery_options)\n",
    "    \n",
    "load_var = 'current'\n",
    "    \n",
    "battery = BatteryEnergyStorageSystem(\n",
    "            models_config=models_config,\n",
    "            battery_options=battery_options,\n",
    "            input_var=load_var\n",
    "            )\n",
    "\n",
    "#TODO: PASSO I VALORI REALI ALLA BATTERIA DELL'OTTIMIZZ. -> CAMBIA ???\n",
    "#TODO: MISMATCH BATTERIE ???\n",
    "\n",
    "reset_info = {'electricala_params': electrical_params, 'thermal_params': thermal_params}\n",
    "battery.reset(reset_info)\n",
    "    \n",
    "battery.init({'dissipated_heat' : 0 }) # check if you can remove it\n",
    "        \n",
    "elapsed_time = 0\n",
    "dt = 1            \n",
    "v_optimizer = list()\n",
    "temp_optimizer = list()\n",
    "\n",
    "#battery_results = battery.get_last_results()\n",
    "optimizer = Optimizer(models_config=models_config, battery_options=battery_options, load_var=load_var,\n",
    "                      init_info=reset_info, bounds=bounds, scale_factor=scale_factor, options=None)"
   ],
   "metadata": {
    "collapsed": false,
    "ExecuteTime": {
     "end_time": "2024-08-15T07:55:57.445498500Z",
     "start_time": "2024-08-15T07:55:57.214882200Z"
    }
   },
   "id": "e4dec4fa757f7f77"
  },
  {
   "cell_type": "code",
   "execution_count": 4,
   "outputs": [
    {
     "data": {
      "text/plain": "<Axes: >"
     },
     "execution_count": 4,
     "metadata": {},
     "output_type": "execute_result"
    },
    {
     "data": {
      "text/plain": "<Figure size 640x480 with 1 Axes>",
      "image/png": "[encoded data removed]"
     },
     "metadata": {},
     "output_type": "display_data"
    }
   ],
   "source": [
    "df['current'].plot()"
   ],
   "metadata": {
    "collapsed": false,
    "ExecuteTime": {
     "end_time": "2024-08-15T07:55:58.178875800Z",
     "start_time": "2024-08-15T07:55:57.458411900Z"
    }
   },
   "id": "5aa375bb15b19cb7"
  },
  {
   "cell_type": "code",
   "execution_count": 5,
   "outputs": [],
   "source": [
    "for k, load in enumerate(i_real):\n",
    "    elapsed_time += dt\n",
    "    battery.t_series.append(elapsed_time)\n",
    "    dt = df['time'].iloc[k] - df['time'].iloc[k - 1] if k > 0 else 1.0\n",
    "    battery.step(load, dt, k)"
   ],
   "metadata": {
    "collapsed": false,
    "ExecuteTime": {
     "end_time": "2024-08-15T07:56:08.988657200Z",
     "start_time": "2024-08-15T07:55:58.178875800Z"
    }
   },
   "id": "a1fa57b9e7281347"
  },
  {
   "cell_type": "code",
   "execution_count": 6,
   "outputs": [
    {
     "ename": "AttributeError",
     "evalue": "'FirstOrderThevenin' object has no attribute 'get_final_results'",
     "output_type": "error",
     "traceback": [
      "\u001B[0;31m---------------------------------------------------------------------------\u001B[0m",
      "\u001B[0;31mAttributeError\u001B[0m                            Traceback (most recent call last)",
      "Cell \u001B[0;32mIn[6], line 1\u001B[0m\n\u001B[0;32m----> 1\u001B[0m results \u001B[38;5;241m=\u001B[39m \u001B[43mbattery\u001B[49m\u001B[38;5;241;43m.\u001B[39;49m\u001B[43mbuild_results_table\u001B[49m\u001B[43m(\u001B[49m\u001B[43m)\u001B[49m\n\u001B[1;32m      2\u001B[0m results \u001B[38;5;241m=\u001B[39m results[\u001B[38;5;124m'\u001B[39m\u001B[38;5;124moperations\u001B[39m\u001B[38;5;124m'\u001B[39m]\n\u001B[1;32m      3\u001B[0m v \u001B[38;5;241m=\u001B[39m results[\u001B[38;5;124m'\u001B[39m\u001B[38;5;124mvoltage\u001B[39m\u001B[38;5;124m'\u001B[39m]\n",
      "File \u001B[0;32m/mnt/c/Users/Nicola_Petkovic/Documents/dt-rse-davide/ErNESTO-DT/src/digital_twin/bess.py:228\u001B[0m, in \u001B[0;36mBatteryEnergyStorageSystem.build_results_table\u001B[0;34m(self)\u001B[0m\n\u001B[1;32m    225\u001B[0m final_dict \u001B[38;5;241m=\u001B[39m {\u001B[38;5;124m'\u001B[39m\u001B[38;5;124mtime\u001B[39m\u001B[38;5;124m'\u001B[39m: \u001B[38;5;28mself\u001B[39m\u001B[38;5;241m.\u001B[39mt_series, \u001B[38;5;124m'\u001B[39m\u001B[38;5;124msoc\u001B[39m\u001B[38;5;124m'\u001B[39m: \u001B[38;5;28mself\u001B[39m\u001B[38;5;241m.\u001B[39msoc_series, \u001B[38;5;124m'\u001B[39m\u001B[38;5;124msoh\u001B[39m\u001B[38;5;124m'\u001B[39m: \u001B[38;5;28mself\u001B[39m\u001B[38;5;241m.\u001B[39msoh_series, \u001B[38;5;124m'\u001B[39m\u001B[38;5;124mc_max\u001B[39m\u001B[38;5;124m'\u001B[39m: \u001B[38;5;28mself\u001B[39m\u001B[38;5;241m.\u001B[39mc_max_series}\n\u001B[1;32m    227\u001B[0m \u001B[38;5;28;01mfor\u001B[39;00m model \u001B[38;5;129;01min\u001B[39;00m \u001B[38;5;28mself\u001B[39m\u001B[38;5;241m.\u001B[39mmodels:\n\u001B[0;32m--> 228\u001B[0m     final_dict\u001B[38;5;241m.\u001B[39mupdate(\u001B[43mmodel\u001B[49m\u001B[38;5;241;43m.\u001B[39;49m\u001B[43mget_final_results\u001B[49m())\n\u001B[1;32m    230\u001B[0m deg_dict \u001B[38;5;241m=\u001B[39m {}\n\u001B[1;32m    232\u001B[0m \u001B[38;5;66;03m# Create results of degradation (sparser than other results)\u001B[39;00m\n",
      "\u001B[0;31mAttributeError\u001B[0m: 'FirstOrderThevenin' object has no attribute 'get_final_results'"
     ]
    }
   ],
   "source": [
    "results = battery.build_results_table()\n",
    "results = results['operations']\n",
    "v = results['voltage']\n",
    "v_real = np.array(v)\n",
    "v_real = v_real[1:len(v_real)]\n",
    "t = results['temperature']\n",
    "t_real = np.array(t)\n",
    "t_real = t_real[1:len(t_real)]"
   ],
   "metadata": {
    "collapsed": false,
    "ExecuteTime": {
     "end_time": "2024-08-15T07:56:09.646407100Z",
     "start_time": "2024-08-15T07:56:08.998468700Z"
    }
   },
   "id": "3796d80736de6014"
  },
  {
   "cell_type": "code",
   "execution_count": 7,
   "outputs": [
    {
     "name": "stdout",
     "output_type": "stream",
     "text": [
      "restart number : 0\n"
     ]
    },
    {
     "name": "stderr",
     "output_type": "stream",
     "text": [
      "/mnt/c/Users/Nicola_Petkovic/Documents/dt-rse-davide/ErNESTO-DT/src/digital_twin/battery_models/electrical/ecm.py:143: RuntimeWarning: divide by zero encountered in double_scalars\n",
      "  v_rc = (self.rc.get_v_series(k=-1) / dt + i_load / c) / (1/dt + 1 / (c*r1))\n",
      "/mnt/c/Users/Nicola_Petkovic/Documents/dt-rse-davide/ErNESTO-DT/src/digital_twin/battery_models/electrical/ecm_components/rc_parallel.py:183: RuntimeWarning: invalid value encountered in double_scalars\n",
      "  i_r1 = v_rc / self.resistance\n"
     ]
    },
    {
     "name": "stdout",
     "output_type": "stream",
     "text": []
    },
    {
     "name": "stderr",
     "output_type": "stream",
     "text": [
      "/mnt/c/Users/Nicola_Petkovic/Documents/dt-rse-davide/ErNESTO-DT/src/digital_twin/battery_models/electrical/ecm.py:143: RuntimeWarning: invalid value encountered in double_scalars\n",
      "  v_rc = (self.rc.get_v_series(k=-1) / dt + i_load / c) / (1/dt + 1 / (c*r1))\n"
     ]
    },
    {
     "name": "stdout",
     "output_type": "stream",
     "text": [
      "\n",
      "\n",
      "\n",
      "\n",
      "\n",
      "\n",
      "\n",
      "\n",
      "\n",
      "\n",
      "\n",
      "\n",
      "\n",
      "\n",
      "\n",
      "\n",
      "\n",
      "\n",
      "\n",
      "\n",
      "\n",
      "\n",
      "\n",
      "\n",
      "\n",
      "\n",
      "\n",
      "\n",
      "\n",
      "\n",
      "\n",
      "\n",
      "\n",
      "\n",
      "\n",
      "\n",
      "\n",
      "\n",
      "\n",
      "\n",
      "\n",
      "\n",
      "\n",
      "\n",
      "\n",
      "\n",
      "\n",
      "\n",
      "\n",
      "\n",
      "\n",
      "\n",
      "\n",
      "\n",
      "\n",
      "\n",
      "\n",
      "\n",
      "\n",
      "\n",
      "\n",
      "\n",
      "\n",
      "\n",
      "\n",
      "\n",
      "\n",
      "\n",
      "\n",
      "\n",
      "\n",
      "\n",
      "\n",
      "\n",
      "\n",
      "\n",
      "\n",
      "\n",
      "\n",
      "\n",
      "\n",
      "\n",
      "\n",
      "\n",
      "\n",
      "\n",
      "\n",
      "\n",
      "\n",
      "\n",
      "\n",
      "\n",
      "\n",
      "\n",
      "\n",
      "\n",
      "\n",
      "\n",
      "\n",
      "\n",
      "\n",
      "\n",
      "\n",
      "\n",
      "\n",
      "\n",
      "\n",
      "\n",
      "\n",
      "\n",
      "\n",
      "\n",
      "\n",
      "\n",
      "\n",
      "\n",
      "\n",
      "\n",
      "\n",
      "\n",
      "\n",
      "\n",
      "\n",
      "\n",
      "\n",
      "\n",
      "\n",
      "\n",
      "\n",
      "\n",
      "\n",
      "\n",
      "\n",
      "\n",
      "\n"
     ]
    }
   ],
   "source": [
    "theta = optimizer.step(i_real=i_real, v_real=v_real,\n",
    "                       t_real=t_real,optimizer_method= optimizer_method,\n",
    "                       alpha=alpha,dt=dt, number_of_restarts= number_of_restarts)"
   ],
   "metadata": {
    "collapsed": false,
    "ExecuteTime": {
     "end_time": "2024-08-15T08:16:06.694475400Z",
     "start_time": "2024-08-15T07:56:48.769694500Z"
    }
   },
   "id": "c47b9322b3517a6e"
  },
  {
   "cell_type": "code",
   "execution_count": null,
   "outputs": [],
   "source": [
    "r0 = battery._electrical_model.r0.resistance\n",
    "rc = battery._electrical_model.rc.resistance\n",
    "c = battery._electrical_model.rc.capacity\n",
    "theta_to_get = {'r0':r0,'rc':rc,'c':c}"
   ],
   "metadata": {
    "collapsed": false,
    "ExecuteTime": {
     "start_time": "2024-08-15T07:56:09.644408600Z"
    }
   },
   "id": "7ef0077ad3ff1071"
  },
  {
   "cell_type": "code",
   "execution_count": null,
   "outputs": [],
   "source": [
    "print(\"theta_dt:\",theta_to_get)\n",
    "print(\"theta_optimizer:\",theta)"
   ],
   "metadata": {
    "collapsed": false,
    "ExecuteTime": {
     "start_time": "2024-08-15T07:56:09.650915600Z"
    }
   },
   "id": "f54096f88d641b18"
  },
  {
   "cell_type": "code",
   "execution_count": null,
   "outputs": [],
   "source": [
    "v_optimizer = optimizer.get_v_hat()\n",
    "temp_optimizer = optimizer.get_t_hat()\n",
    "\n",
    "# plotting phase:\n",
    "results = battery.build_results_table()\n",
    "results = results['operations']\n",
    "\n",
    "fig, (ax1, ax2, ax3) = plt.subplots(3, 1)\n",
    "\n",
    "# Plot voltage data\n",
    "ax1.plot(results['voltage'], label='v_digital_twin')\n",
    "#ax1.plot(df['voltage'][0:len(results['voltage'])], label='ground')\n",
    "ax1.plot(v_optimizer[0:len(results['voltage'])], label='v_optimizer')\n",
    "ax1.legend()\n",
    "\n",
    "# Plot temperature data\n",
    "ax2.plot(results['temperature'], label='temperature_digital_twin')\n",
    "#ax2.plot(df['temperature'][0:len(results['temperature'])], label='ground')\n",
    "ax2.plot(temp_optimizer[0:len(results['temperature'])], label='temp_optimizer')\n",
    "ax2.legend()\n",
    "\n",
    "# Plot soc data\n",
    "ax3.plot(results['soc'], label='soc')\n",
    "#ax3.plot(df['soc'][0:len(results['temperature'])], label='ground')\n",
    "ax3.legend()\n",
    "\n",
    "plt.show()"
   ],
   "metadata": {
    "collapsed": false,
    "ExecuteTime": {
     "end_time": "2024-08-15T07:56:09.723388700Z",
     "start_time": "2024-08-15T07:56:09.658355Z"
    }
   },
   "id": "b67f38d28b9e8a8d"
  },
  {
   "cell_type": "markdown",
   "source": [
    "## error"
   ],
   "metadata": {
    "collapsed": false
   },
   "id": "5ab48deb37a393d6"
  },
  {
   "cell_type": "code",
   "execution_count": null,
   "outputs": [],
   "source": [
    "voltage = np.array(results['voltage'])\n",
    "voltage = voltage[0:len(voltage)-1]\n",
    "voltage_difference =  voltage - np.array(v_optimizer[0:len(results['voltage'])])\n",
    "\n",
    "temperature = results['temperature']\n",
    "temperature = temperature[0:len(temperature)-1]\n",
    "temperature_difference = temperature - np.array(temp_optimizer[0:len(results['temperature'])])\n",
    "\n",
    "fig, (ax1, ax2) = plt.subplots(2, 1, figsize=(8, 6))\n",
    "\n",
    "# Plot voltage difference data\n",
    "ax1.plot(voltage_difference, label='Voltage Difference (v_digital_twin - v_optimizer)')\n",
    "ax1.set_title('Voltage Difference')\n",
    "ax1.set_ylabel('Difference (V)')\n",
    "ax1.legend()\n",
    "\n",
    "# Plot temperature difference data\n",
    "ax2.plot(temperature_difference, label='Temperature Difference (temperature_digital_twin - temp_optimizer)')\n",
    "ax2.set_title('Temperature Difference')\n",
    "ax2.set_ylabel('Difference (°C)')\n",
    "ax2.legend()\n",
    "\n",
    "plt.xlabel('Time')\n",
    "plt.show()"
   ],
   "metadata": {
    "collapsed": false,
    "ExecuteTime": {
     "start_time": "2024-08-15T07:56:09.667104200Z"
    }
   },
   "id": "d646f366025ff294"
  },
  {
   "cell_type": "markdown",
   "source": [
    "## If I give the obtained theta to the dt"
   ],
   "metadata": {
    "collapsed": false
   },
   "id": "2ddc323e0888f88c"
  },
  {
   "cell_type": "code",
   "execution_count": null,
   "outputs": [],
   "source": [],
   "metadata": {
    "collapsed": false,
    "ExecuteTime": {
     "start_time": "2024-08-15T07:56:09.674211200Z"
    }
   },
   "id": "da2d28f9456b5daa"
  }
 ],
 "metadata": {
  "kernelspec": {
   "display_name": "Python 3",
   "language": "python",
   "name": "python3"
  },
  "language_info": {
   "codemirror_mode": {
    "name": "ipython",
    "version": 2
   },
   "file_extension": ".py",
   "mimetype": "text/x-python",
   "name": "python",
   "nbconvert_exporter": "python",
   "pygments_lexer": "ipython2",
   "version": "2.7.6"
  }
 },
 "nbformat": 4,
 "nbformat_minor": 5
}
