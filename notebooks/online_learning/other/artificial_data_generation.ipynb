{
 "cells": [
  {
   "cell_type": "code",
   "execution_count": 1,
   "id": "initial_id",
   "metadata": {
    "collapsed": true,
    "ExecuteTime": {
     "end_time": "2024-06-21T13:14:03.590703Z",
     "start_time": "2024-06-21T13:14:03.504655100Z"
    }
   },
   "outputs": [],
   "source": [
    "import notebooks.online_learning.utils.data_generation_utils as gnt\n",
    "import pandas as pd"
   ]
  },
  {
   "cell_type": "code",
   "execution_count": null,
   "outputs": [],
   "source": [
    "n = 100  \n",
    "bounds = {\n",
    "    'r0': (0.01, 1),  \n",
    "    'rc': (0.01, 1),   \n",
    "    'c': (1, 10000)     \n",
    "}\n",
    "\n",
    "samples = gnt.generate_multivariate_3D_gaussian_samples(n, bounds)\n",
    "df = pd.DataFrame(samples, columns=['r0','rc','c'])\n",
    "df.to_csv('data/artificial/nominal_cluster.csv',index=False)"
   ],
   "metadata": {
    "collapsed": false
   },
   "id": "ebc32844b63a2258"
  },
  {
   "cell_type": "code",
   "execution_count": null,
   "outputs": [],
   "source": [
    "n_outliers = 200\n",
    "outliers = gnt.generate_outliers(samples, n_outliers)\n",
    "df_outliers = pd.DataFrame(outliers, columns=['r0','rc','c'])\n",
    "df_outliers.to_csv('data/artificial/outliers.csv',index=False)"
   ],
   "metadata": {
    "collapsed": false
   },
   "id": "65c3048921547f6a"
  },
  {
   "cell_type": "code",
   "execution_count": 2,
   "outputs": [],
   "source": [
    "n = 200\n",
    "bounds_exp = {\n",
    "    'r0': (0.01, 1),  \n",
    "    'rc': (0.01, 1),   \n",
    "    'c': (1, 10000)     \n",
    "}\n",
    "outliers_exponential = gnt.generate_exponential_samples(n=n,bounds=bounds_exp)\n",
    "df_outliers_exponential = pd.DataFrame(outliers_exponential, columns=['r0','rc','c'])\n",
    "df_outliers_exponential.to_csv('data/artificial/outliers_exponential.csv',index=False)"
   ],
   "metadata": {
    "collapsed": false,
    "ExecuteTime": {
     "end_time": "2024-06-21T13:10:14.296204900Z",
     "start_time": "2024-06-21T13:10:14.234328200Z"
    }
   },
   "id": "8dd8975cd9cd36c6"
  },
  {
   "cell_type": "code",
   "execution_count": 4,
   "outputs": [],
   "source": [
    "n = 300\n",
    "n_outliers = 70\n",
    "\n",
    "bounds = {\n",
    "    'r0': (0.01, 1),  \n",
    "    'rc': (0.01, 1),   \n",
    "    'c': (1, 10000)     \n",
    "}\n",
    "\n",
    "bounds_exp = {\n",
    "    'r0': (0.01, 1),  \n",
    "    'rc': (0.01, 1),   \n",
    "    'c': (1, 10000)     \n",
    "}\n",
    "\n",
    "theta_history = gnt.generate_norm_exp_outliers_mixed_samples(n=n,n_outliers=n_outliers\n",
    "                                                             , bounds_gaussian=bounds, \n",
    "                                                             bounds_exponential=bounds_exp)\n",
    "\n",
    "df_theta = pd.DataFrame(theta_history, columns=['r0','rc','c'])\n",
    "df_theta.to_csv('data/artificial/theta_history.csv',index=False)"
   ],
   "metadata": {
    "collapsed": false,
    "ExecuteTime": {
     "end_time": "2024-06-21T13:17:20.929986400Z",
     "start_time": "2024-06-21T13:17:20.650246900Z"
    }
   },
   "id": "212197edb84adc4c"
  },
  {
   "cell_type": "code",
   "execution_count": null,
   "outputs": [],
   "source": [],
   "metadata": {
    "collapsed": false
   },
   "id": "2c0eba9e4be14dc4"
  }
 ],
 "metadata": {
  "kernelspec": {
   "display_name": "Python 3",
   "language": "python",
   "name": "python3"
  },
  "language_info": {
   "codemirror_mode": {
    "name": "ipython",
    "version": 2
   },
   "file_extension": ".py",
   "mimetype": "text/x-python",
   "name": "python",
   "nbconvert_exporter": "python",
   "pygments_lexer": "ipython2",
   "version": "2.7.6"
  }
 },
 "nbformat": 4,
 "nbformat_minor": 5
}
