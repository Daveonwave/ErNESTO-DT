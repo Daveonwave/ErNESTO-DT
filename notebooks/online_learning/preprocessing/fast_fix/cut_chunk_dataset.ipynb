{
 "cells": [
  {
   "cell_type": "code",
   "execution_count": 1,
   "id": "initial_id",
   "metadata": {
    "collapsed": true,
    "ExecuteTime": {
     "end_time": "2024-08-19T18:29:51.721707400Z",
     "start_time": "2024-08-19T18:29:51.090025700Z"
    }
   },
   "outputs": [],
   "source": [
    "import pandas as pd"
   ]
  },
  {
   "cell_type": "code",
   "execution_count": 2,
   "outputs": [],
   "source": [
    "df = pd.read_csv('../../../../data/ground/experiment_signals/dataset_0_cutted.csv')"
   ],
   "metadata": {
    "collapsed": false,
    "ExecuteTime": {
     "end_time": "2024-08-19T18:29:54.212540300Z",
     "start_time": "2024-08-19T18:29:51.727234300Z"
    }
   },
   "id": "8a179e51eba6abc7"
  },
  {
   "cell_type": "code",
   "execution_count": 3,
   "outputs": [
    {
     "data": {
      "text/plain": "         Unnamed: 0          time       voltage       current   temperature\ncount  3.010000e+06  3.010000e+06  3.010000e+06  3.010000e+06  3.010000e+06\nmean   1.505000e+06  1.534343e+06  2.593253e+01  8.675827e-02  3.140355e+02\nstd    8.689123e+05  8.858537e+05  9.063754e-01  1.933831e+01  5.707227e+00\nmin    0.000000e+00  0.000000e+00  2.357853e+01 -2.395300e+01  2.993289e+02\n25%    7.524998e+05  7.671718e+05  2.533721e+01 -2.171000e+01  3.099827e+02\n50%    1.505000e+06  1.534344e+06  2.610318e+01  1.041000e+00  3.124224e+02\n75%    2.257499e+06  2.301514e+06  2.662984e+01  1.620900e+01  3.152154e+02\nmax    3.009999e+06  3.068685e+06  2.799306e+01  3.255100e+01  3.323982e+02",
      "text/html": "<div>\n<style scoped>\n    .dataframe tbody tr th:only-of-type {\n        vertical-align: middle;\n    }\n\n    .dataframe tbody tr th {\n        vertical-align: top;\n    }\n\n    .dataframe thead th {\n        text-align: right;\n    }\n</style>\n<table border=\"1\" class=\"dataframe\">\n  <thead>\n    <tr style=\"text-align: right;\">\n      <th></th>\n      <th>Unnamed: 0</th>\n      <th>time</th>\n      <th>voltage</th>\n      <th>current</th>\n      <th>temperature</th>\n    </tr>\n  </thead>\n  <tbody>\n    <tr>\n      <th>count</th>\n      <td>3.010000e+06</td>\n      <td>3.010000e+06</td>\n      <td>3.010000e+06</td>\n      <td>3.010000e+06</td>\n      <td>3.010000e+06</td>\n    </tr>\n    <tr>\n      <th>mean</th>\n      <td>1.505000e+06</td>\n      <td>1.534343e+06</td>\n      <td>2.593253e+01</td>\n      <td>8.675827e-02</td>\n      <td>3.140355e+02</td>\n    </tr>\n    <tr>\n      <th>std</th>\n      <td>8.689123e+05</td>\n      <td>8.858537e+05</td>\n      <td>9.063754e-01</td>\n      <td>1.933831e+01</td>\n      <td>5.707227e+00</td>\n    </tr>\n    <tr>\n      <th>min</th>\n      <td>0.000000e+00</td>\n      <td>0.000000e+00</td>\n      <td>2.357853e+01</td>\n      <td>-2.395300e+01</td>\n      <td>2.993289e+02</td>\n    </tr>\n    <tr>\n      <th>25%</th>\n      <td>7.524998e+05</td>\n      <td>7.671718e+05</td>\n      <td>2.533721e+01</td>\n      <td>-2.171000e+01</td>\n      <td>3.099827e+02</td>\n    </tr>\n    <tr>\n      <th>50%</th>\n      <td>1.505000e+06</td>\n      <td>1.534344e+06</td>\n      <td>2.610318e+01</td>\n      <td>1.041000e+00</td>\n      <td>3.124224e+02</td>\n    </tr>\n    <tr>\n      <th>75%</th>\n      <td>2.257499e+06</td>\n      <td>2.301514e+06</td>\n      <td>2.662984e+01</td>\n      <td>1.620900e+01</td>\n      <td>3.152154e+02</td>\n    </tr>\n    <tr>\n      <th>max</th>\n      <td>3.009999e+06</td>\n      <td>3.068685e+06</td>\n      <td>2.799306e+01</td>\n      <td>3.255100e+01</td>\n      <td>3.323982e+02</td>\n    </tr>\n  </tbody>\n</table>\n</div>"
     },
     "execution_count": 3,
     "metadata": {},
     "output_type": "execute_result"
    }
   ],
   "source": [
    "df.describe()"
   ],
   "metadata": {
    "collapsed": false,
    "ExecuteTime": {
     "end_time": "2024-08-19T18:29:54.646346300Z",
     "start_time": "2024-08-19T18:29:54.257646400Z"
    }
   },
   "id": "11ef84e37b5da929"
  },
  {
   "cell_type": "code",
   "execution_count": 4,
   "outputs": [],
   "source": [
    "df = df.iloc[0:100000]"
   ],
   "metadata": {
    "collapsed": false,
    "ExecuteTime": {
     "end_time": "2024-08-19T18:29:54.653981500Z",
     "start_time": "2024-08-19T18:29:54.644307400Z"
    }
   },
   "id": "46614bb2e1bfe38f"
  },
  {
   "cell_type": "code",
   "execution_count": 5,
   "outputs": [
    {
     "data": {
      "text/plain": "          Unnamed: 0           time        voltage        current  \\\ncount  100000.000000  100000.000000  100000.000000  100000.000000   \nmean    49999.500000   50974.661720      26.386989       0.240681   \nstd     28867.657797   29430.482098       0.853480      19.311969   \nmin         0.000000       0.000000      24.307282     -23.953000   \n25%     24999.750000   25486.750000      25.802238     -21.603000   \n50%     49999.500000   50974.500000      26.462564       1.041000   \n75%     74999.250000   76462.250000      27.064334      16.262000   \nmax     99999.000000  101949.000000      27.993060      32.551000   \n\n         temperature  \ncount  100000.000000  \nmean      313.145028  \nstd         4.607390  \nmin       299.328949  \n25%       309.894957  \n50%       312.254000  \n75%       314.236132  \nmax       325.630943  ",
      "text/html": "<div>\n<style scoped>\n    .dataframe tbody tr th:only-of-type {\n        vertical-align: middle;\n    }\n\n    .dataframe tbody tr th {\n        vertical-align: top;\n    }\n\n    .dataframe thead th {\n        text-align: right;\n    }\n</style>\n<table border=\"1\" class=\"dataframe\">\n  <thead>\n    <tr style=\"text-align: right;\">\n      <th></th>\n      <th>Unnamed: 0</th>\n      <th>time</th>\n      <th>voltage</th>\n      <th>current</th>\n      <th>temperature</th>\n    </tr>\n  </thead>\n  <tbody>\n    <tr>\n      <th>count</th>\n      <td>100000.000000</td>\n      <td>100000.000000</td>\n      <td>100000.000000</td>\n      <td>100000.000000</td>\n      <td>100000.000000</td>\n    </tr>\n    <tr>\n      <th>mean</th>\n      <td>49999.500000</td>\n      <td>50974.661720</td>\n      <td>26.386989</td>\n      <td>0.240681</td>\n      <td>313.145028</td>\n    </tr>\n    <tr>\n      <th>std</th>\n      <td>28867.657797</td>\n      <td>29430.482098</td>\n      <td>0.853480</td>\n      <td>19.311969</td>\n      <td>4.607390</td>\n    </tr>\n    <tr>\n      <th>min</th>\n      <td>0.000000</td>\n      <td>0.000000</td>\n      <td>24.307282</td>\n      <td>-23.953000</td>\n      <td>299.328949</td>\n    </tr>\n    <tr>\n      <th>25%</th>\n      <td>24999.750000</td>\n      <td>25486.750000</td>\n      <td>25.802238</td>\n      <td>-21.603000</td>\n      <td>309.894957</td>\n    </tr>\n    <tr>\n      <th>50%</th>\n      <td>49999.500000</td>\n      <td>50974.500000</td>\n      <td>26.462564</td>\n      <td>1.041000</td>\n      <td>312.254000</td>\n    </tr>\n    <tr>\n      <th>75%</th>\n      <td>74999.250000</td>\n      <td>76462.250000</td>\n      <td>27.064334</td>\n      <td>16.262000</td>\n      <td>314.236132</td>\n    </tr>\n    <tr>\n      <th>max</th>\n      <td>99999.000000</td>\n      <td>101949.000000</td>\n      <td>27.993060</td>\n      <td>32.551000</td>\n      <td>325.630943</td>\n    </tr>\n  </tbody>\n</table>\n</div>"
     },
     "execution_count": 5,
     "metadata": {},
     "output_type": "execute_result"
    }
   ],
   "source": [
    "df.describe()"
   ],
   "metadata": {
    "collapsed": false,
    "ExecuteTime": {
     "end_time": "2024-08-19T18:29:54.760770400Z",
     "start_time": "2024-08-19T18:29:54.695353900Z"
    }
   },
   "id": "2e81f594aa5fdc15"
  },
  {
   "cell_type": "code",
   "execution_count": 6,
   "outputs": [],
   "source": [
    "df.to_csv('dataset_0_cuttedX10.csv', index=False)"
   ],
   "metadata": {
    "collapsed": false,
    "ExecuteTime": {
     "end_time": "2024-08-19T18:29:55.418300800Z",
     "start_time": "2024-08-19T18:29:54.703866500Z"
    }
   },
   "id": "49c3c8b686a3befc"
  },
  {
   "cell_type": "code",
   "execution_count": 6,
   "outputs": [],
   "source": [],
   "metadata": {
    "collapsed": false,
    "ExecuteTime": {
     "end_time": "2024-08-19T18:29:55.497777700Z",
     "start_time": "2024-08-19T18:29:55.423855800Z"
    }
   },
   "id": "569c935528dc1214"
  }
 ],
 "metadata": {
  "kernelspec": {
   "display_name": "Python 3",
   "language": "python",
   "name": "python3"
  },
  "language_info": {
   "codemirror_mode": {
    "name": "ipython",
    "version": 2
   },
   "file_extension": ".py",
   "mimetype": "text/x-python",
   "name": "python",
   "nbconvert_exporter": "python",
   "pygments_lexer": "ipython2",
   "version": "2.7.6"
  }
 },
 "nbformat": 4,
 "nbformat_minor": 5
}
