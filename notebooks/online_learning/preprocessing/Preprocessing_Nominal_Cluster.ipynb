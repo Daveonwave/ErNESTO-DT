{
 "cells": [
  {
   "cell_type": "code",
   "execution_count": 34,
   "id": "53eec781bc20976e",
   "metadata": {
    "collapsed": false,
    "ExecuteTime": {
     "end_time": "2024-08-12T19:32:52.526634900Z",
     "start_time": "2024-08-12T19:32:52.480961500Z"
    }
   },
   "outputs": [],
   "source": [
    "import pandas as pd\n",
    "import numpy as np\n",
    "from scipy import interpolate"
   ]
  },
  {
   "cell_type": "code",
   "execution_count": 2,
   "id": "1a47b460ffa9cf11",
   "metadata": {
    "collapsed": false,
    "ExecuteTime": {
     "end_time": "2024-08-12T19:30:27.242462300Z",
     "start_time": "2024-08-12T19:30:26.673567200Z"
    }
   },
   "outputs": [
    {
     "name": "stdout",
     "output_type": "stream",
     "text": [
      "dict_keys(['T = 25', 'T = 10', 'T = 40'])\n"
     ]
    }
   ],
   "source": [
    "file_path1 = '../../../data/external/DT_CU1_parameters_1_exp.xlsx'  \n",
    "all_sheets = pd.read_excel(file_path1, sheet_name=None)\n",
    "\n",
    "print(all_sheets.keys())"
   ]
  },
  {
   "cell_type": "code",
   "execution_count": 3,
   "id": "1d6cf7076dbeea87",
   "metadata": {
    "collapsed": false,
    "ExecuteTime": {
     "end_time": "2024-08-12T19:30:27.294240700Z",
     "start_time": "2024-08-12T19:30:27.239509500Z"
    }
   },
   "outputs": [
    {
     "name": "stdout",
     "output_type": "stream",
     "text": [
      "Sheet name: T = 25\n",
      "Sheet name: T = 10\n",
      "Sheet name: T = 40\n"
     ]
    }
   ],
   "source": [
    "df_list = []\n",
    "for sheet_name, df in all_sheets.items():\n",
    "    print(f\"Sheet name: {sheet_name}\")\n",
    "    df_list.append(df)"
   ]
  },
  {
   "cell_type": "markdown",
   "source": [
    "The idea is to work with a dataframe for each temperature"
   ],
   "metadata": {
    "collapsed": false
   },
   "id": "c01aa1ef4290dce3"
  },
  {
   "cell_type": "code",
   "execution_count": 4,
   "id": "45ccb22e4f34eeb",
   "metadata": {
    "collapsed": false,
    "ExecuteTime": {
     "end_time": "2024-08-12T19:30:27.435796500Z",
     "start_time": "2024-08-12T19:30:27.261112500Z"
    }
   },
   "outputs": [],
   "source": [
    "df_T_25 = df_list[0]\n",
    "df_T_10 = df_list[1]\n",
    "df_T_40 = df_list[2]"
   ]
  },
  {
   "cell_type": "code",
   "execution_count": 5,
   "outputs": [
    {
     "data": {
      "text/plain": "              Soc   tau_guess  skip  num value extrap        R_0        R_1  \\\ncount   33.000000    33.00000  33.0              33.0  33.000000  33.000000   \nmean    50.000000  1655.86661   0.0               7.0   0.008112   0.010369   \nstd     32.113081     0.00000   0.0               0.0   0.000582   0.002728   \nmin      0.000000  1655.86661   0.0               7.0   0.007287   0.006666   \n25%     20.000000  1655.86661   0.0               7.0   0.007695   0.008591   \n50%     50.000000  1655.86661   0.0               7.0   0.008047   0.009720   \n75%     80.000000  1655.86661   0.0               7.0   0.008345   0.011449   \nmax    100.000000  1655.86661   0.0               7.0   0.009993   0.017574   \n\n                C_1        OCV  \ncount     33.000000  33.000000  \nmean   18274.880601  26.234325  \nstd     7076.295223   1.393025  \nmin    10131.783114  24.170000  \n25%    13999.400600  25.079000  \n50%    16565.033981  25.908000  \n75%    20378.618383  27.574000  \nmax    41591.069006  28.517429  ",
      "text/html": "<div>\n<style scoped>\n    .dataframe tbody tr th:only-of-type {\n        vertical-align: middle;\n    }\n\n    .dataframe tbody tr th {\n        vertical-align: top;\n    }\n\n    .dataframe thead th {\n        text-align: right;\n    }\n</style>\n<table border=\"1\" class=\"dataframe\">\n  <thead>\n    <tr style=\"text-align: right;\">\n      <th></th>\n      <th>Soc</th>\n      <th>tau_guess</th>\n      <th>skip</th>\n      <th>num value extrap</th>\n      <th>R_0</th>\n      <th>R_1</th>\n      <th>C_1</th>\n      <th>OCV</th>\n    </tr>\n  </thead>\n  <tbody>\n    <tr>\n      <th>count</th>\n      <td>33.000000</td>\n      <td>33.00000</td>\n      <td>33.0</td>\n      <td>33.0</td>\n      <td>33.000000</td>\n      <td>33.000000</td>\n      <td>33.000000</td>\n      <td>33.000000</td>\n    </tr>\n    <tr>\n      <th>mean</th>\n      <td>50.000000</td>\n      <td>1655.86661</td>\n      <td>0.0</td>\n      <td>7.0</td>\n      <td>0.008112</td>\n      <td>0.010369</td>\n      <td>18274.880601</td>\n      <td>26.234325</td>\n    </tr>\n    <tr>\n      <th>std</th>\n      <td>32.113081</td>\n      <td>0.00000</td>\n      <td>0.0</td>\n      <td>0.0</td>\n      <td>0.000582</td>\n      <td>0.002728</td>\n      <td>7076.295223</td>\n      <td>1.393025</td>\n    </tr>\n    <tr>\n      <th>min</th>\n      <td>0.000000</td>\n      <td>1655.86661</td>\n      <td>0.0</td>\n      <td>7.0</td>\n      <td>0.007287</td>\n      <td>0.006666</td>\n      <td>10131.783114</td>\n      <td>24.170000</td>\n    </tr>\n    <tr>\n      <th>25%</th>\n      <td>20.000000</td>\n      <td>1655.86661</td>\n      <td>0.0</td>\n      <td>7.0</td>\n      <td>0.007695</td>\n      <td>0.008591</td>\n      <td>13999.400600</td>\n      <td>25.079000</td>\n    </tr>\n    <tr>\n      <th>50%</th>\n      <td>50.000000</td>\n      <td>1655.86661</td>\n      <td>0.0</td>\n      <td>7.0</td>\n      <td>0.008047</td>\n      <td>0.009720</td>\n      <td>16565.033981</td>\n      <td>25.908000</td>\n    </tr>\n    <tr>\n      <th>75%</th>\n      <td>80.000000</td>\n      <td>1655.86661</td>\n      <td>0.0</td>\n      <td>7.0</td>\n      <td>0.008345</td>\n      <td>0.011449</td>\n      <td>20378.618383</td>\n      <td>27.574000</td>\n    </tr>\n    <tr>\n      <th>max</th>\n      <td>100.000000</td>\n      <td>1655.86661</td>\n      <td>0.0</td>\n      <td>7.0</td>\n      <td>0.009993</td>\n      <td>0.017574</td>\n      <td>41591.069006</td>\n      <td>28.517429</td>\n    </tr>\n  </tbody>\n</table>\n</div>"
     },
     "execution_count": 5,
     "metadata": {},
     "output_type": "execute_result"
    }
   ],
   "source": [
    "df_T_40.describe()"
   ],
   "metadata": {
    "collapsed": false,
    "ExecuteTime": {
     "end_time": "2024-08-12T19:30:27.553314100Z",
     "start_time": "2024-08-12T19:30:27.272285800Z"
    }
   },
   "id": "b7c2be30e5e7260"
  },
  {
   "cell_type": "markdown",
   "source": [
    "Preprocessing:\n",
    "1. drop useless attributes "
   ],
   "metadata": {
    "collapsed": false
   },
   "id": "2972ac2658c1ca48"
  },
  {
   "cell_type": "code",
   "execution_count": 6,
   "id": "6f327b702decc393",
   "metadata": {
    "collapsed": false,
    "ExecuteTime": {
     "end_time": "2024-08-12T19:30:30.290964600Z",
     "start_time": "2024-08-12T19:30:30.191102600Z"
    }
   },
   "outputs": [],
   "source": [
    "columns_to_drop = ['filename', 'data', 'start interval', 'end interval',\n",
    "                   'tau_guess','num value extrap',\n",
    "                   'R squared', 'tau_opt']"
   ]
  },
  {
   "cell_type": "code",
   "execution_count": 7,
   "id": "4c8bb2940afb41a5",
   "metadata": {
    "collapsed": false,
    "ExecuteTime": {
     "end_time": "2024-08-12T19:30:31.211406400Z",
     "start_time": "2024-08-12T19:30:31.095193200Z"
    }
   },
   "outputs": [],
   "source": [
    "df_T_25 = df_T_25.drop(columns_to_drop, axis=1)\n",
    "df_T_10 = df_T_10.drop(columns_to_drop, axis=1)\n",
    "df_T_40 = df_T_40.drop(columns_to_drop, axis=1)"
   ]
  },
  {
   "cell_type": "code",
   "execution_count": 8,
   "id": "c20a01cf4e166aa2",
   "metadata": {
    "collapsed": false,
    "ExecuteTime": {
     "end_time": "2024-08-12T19:30:32.113262800Z",
     "start_time": "2024-08-12T19:30:32.034653700Z"
    }
   },
   "outputs": [],
   "source": [
    "df_T_25 = df_T_25.dropna()\n",
    "df_T_10 = df_T_10.dropna()\n",
    "df_T_40 = df_T_40.dropna()"
   ]
  },
  {
   "cell_type": "code",
   "execution_count": 9,
   "id": "cd842fd326ed5ce9",
   "metadata": {
    "collapsed": false,
    "ExecuteTime": {
     "end_time": "2024-08-12T19:30:32.872978700Z",
     "start_time": "2024-08-12T19:30:32.764873400Z"
    }
   },
   "outputs": [],
   "source": [
    "df_T_25['Temp'] = 25\n",
    "df_T_10['Temp'] = 10\n",
    "df_T_40['Temp'] = 40"
   ]
  },
  {
   "cell_type": "code",
   "execution_count": 10,
   "id": "bf1008e7c3cf64e4",
   "metadata": {
    "collapsed": false,
    "ExecuteTime": {
     "end_time": "2024-08-12T19:30:33.994984800Z",
     "start_time": "2024-08-12T19:30:33.868837900Z"
    }
   },
   "outputs": [
    {
     "data": {
      "text/plain": "              Soc        R_0        R_1           C_1        OCV  Temp\ncount   55.000000  55.000000  55.000000     55.000000  55.000000  55.0\nmean    50.000000   0.011520   0.015499  11965.948149  26.224236  25.0\nstd     31.914237   0.002412   0.006471   3143.296922   1.375532   0.0\nmin      0.000000   0.009210   0.009238   4919.388300  23.970000  25.0\n25%     20.000000   0.010363   0.011560  10500.078051  25.142500  25.0\n50%     50.000000   0.010981   0.013876  11751.825878  25.868000  25.0\n75%     80.000000   0.011748   0.016568  13995.291319  27.550000  25.0\nmax    100.000000   0.022375   0.041071  19489.447086  28.504571  25.0",
      "text/html": "<div>\n<style scoped>\n    .dataframe tbody tr th:only-of-type {\n        vertical-align: middle;\n    }\n\n    .dataframe tbody tr th {\n        vertical-align: top;\n    }\n\n    .dataframe thead th {\n        text-align: right;\n    }\n</style>\n<table border=\"1\" class=\"dataframe\">\n  <thead>\n    <tr style=\"text-align: right;\">\n      <th></th>\n      <th>Soc</th>\n      <th>R_0</th>\n      <th>R_1</th>\n      <th>C_1</th>\n      <th>OCV</th>\n      <th>Temp</th>\n    </tr>\n  </thead>\n  <tbody>\n    <tr>\n      <th>count</th>\n      <td>55.000000</td>\n      <td>55.000000</td>\n      <td>55.000000</td>\n      <td>55.000000</td>\n      <td>55.000000</td>\n      <td>55.0</td>\n    </tr>\n    <tr>\n      <th>mean</th>\n      <td>50.000000</td>\n      <td>0.011520</td>\n      <td>0.015499</td>\n      <td>11965.948149</td>\n      <td>26.224236</td>\n      <td>25.0</td>\n    </tr>\n    <tr>\n      <th>std</th>\n      <td>31.914237</td>\n      <td>0.002412</td>\n      <td>0.006471</td>\n      <td>3143.296922</td>\n      <td>1.375532</td>\n      <td>0.0</td>\n    </tr>\n    <tr>\n      <th>min</th>\n      <td>0.000000</td>\n      <td>0.009210</td>\n      <td>0.009238</td>\n      <td>4919.388300</td>\n      <td>23.970000</td>\n      <td>25.0</td>\n    </tr>\n    <tr>\n      <th>25%</th>\n      <td>20.000000</td>\n      <td>0.010363</td>\n      <td>0.011560</td>\n      <td>10500.078051</td>\n      <td>25.142500</td>\n      <td>25.0</td>\n    </tr>\n    <tr>\n      <th>50%</th>\n      <td>50.000000</td>\n      <td>0.010981</td>\n      <td>0.013876</td>\n      <td>11751.825878</td>\n      <td>25.868000</td>\n      <td>25.0</td>\n    </tr>\n    <tr>\n      <th>75%</th>\n      <td>80.000000</td>\n      <td>0.011748</td>\n      <td>0.016568</td>\n      <td>13995.291319</td>\n      <td>27.550000</td>\n      <td>25.0</td>\n    </tr>\n    <tr>\n      <th>max</th>\n      <td>100.000000</td>\n      <td>0.022375</td>\n      <td>0.041071</td>\n      <td>19489.447086</td>\n      <td>28.504571</td>\n      <td>25.0</td>\n    </tr>\n  </tbody>\n</table>\n</div>"
     },
     "execution_count": 10,
     "metadata": {},
     "output_type": "execute_result"
    }
   ],
   "source": [
    "df_T_25.describe()"
   ]
  },
  {
   "cell_type": "code",
   "execution_count": 11,
   "id": "199fb0ac5d5d4875",
   "metadata": {
    "collapsed": false,
    "ExecuteTime": {
     "end_time": "2024-08-12T19:30:35.592238500Z",
     "start_time": "2024-08-12T19:30:35.443181900Z"
    }
   },
   "outputs": [
    {
     "name": "stdout",
     "output_type": "stream",
     "text": [
      "param  Temp  Soc           C_1       R_0       R_1\n",
      "0        15    0   9362.838793  0.016177  0.016432\n",
      "1        15   10   9691.182929  0.016623  0.019499\n",
      "2        15   20  12052.351794  0.017420  0.023310\n",
      "3        15   30   9306.629723  0.018662  0.024055\n",
      "4        15   40   5139.236488  0.024588  0.035098\n",
      "5        15   50   2142.033750  0.025116  0.108859\n",
      "6        20    0  11140.809709  0.013595  0.014089\n",
      "7        20   10  11096.331372  0.014090  0.016753\n",
      "8        20   20  13364.479790  0.014450  0.019963\n",
      "9        20   30  11500.390560  0.015292  0.019551\n",
      "10       20   40   8387.385488  0.018321  0.025878\n",
      "11       20   50   4165.597126  0.020244  0.070274\n"
     ]
    },
    {
     "name": "stderr",
     "output_type": "stream",
     "text": [
      "/tmp/ipykernel_457/1338578928.py:32: DeprecationWarning: `interp2d` is deprecated!\n",
      "`interp2d` is deprecated in SciPy 1.10 and will be removed in SciPy 1.12.0.\n",
      "\n",
      "For legacy code, nearly bug-for-bug compatible replacements are\n",
      "`RectBivariateSpline` on regular grids, and `bisplrep`/`bisplev` for\n",
      "scattered 2D data.\n",
      "\n",
      "In new code, for regular grids use `RegularGridInterpolator` instead.\n",
      "For scattered data, prefer `LinearNDInterpolator` or\n",
      "`CloughTocher2DInterpolator`.\n",
      "\n",
      "For more details see\n",
      "`https://gist.github.com/ev-br/8544371b40f414b7eaf3fe6217209bff`\n",
      "\n",
      "  f = interpolate.interp2d(temp, soc, z, kind='linear')\n",
      "/tmp/ipykernel_457/1338578928.py:33: DeprecationWarning:         `interp2d` is deprecated!\n",
      "        `interp2d` is deprecated in SciPy 1.10 and will be removed in SciPy 1.12.0.\n",
      "\n",
      "        For legacy code, nearly bug-for-bug compatible replacements are\n",
      "        `RectBivariateSpline` on regular grids, and `bisplrep`/`bisplev` for\n",
      "        scattered 2D data.\n",
      "\n",
      "        In new code, for regular grids use `RegularGridInterpolator` instead.\n",
      "        For scattered data, prefer `LinearNDInterpolator` or\n",
      "        `CloughTocher2DInterpolator`.\n",
      "\n",
      "        For more details see\n",
      "        `https://gist.github.com/ev-br/8544371b40f414b7eaf3fe6217209bff`\n",
      "\n",
      "  z_new = f(temp_new, soc)\n"
     ]
    }
   ],
   "source": [
    "df_T_10_soc_one = df_T_10[( df_T_10['Soc'] >= 0) & (df_T_10['Soc'] <= 50) ]\n",
    "df_T_25_soc_one = df_T_25[ ( df_T_25['Soc'] >= 0) & (df_T_25['Soc'] <= 50) ]\n",
    "df_T_40_soc_one = df_T_40[ ( df_T_40['Soc'] >= 0) & (df_T_40['Soc'] <= 50) ]\n",
    "\n",
    "chunk_size = 6\n",
    "temp = np.array([10, 25])\n",
    "soc = np.array([0, 10, 20, 30, 40, 50])\n",
    "parameters = ['R_0', 'R_1', 'C_1']\n",
    "temp_new = [15, 20]\n",
    "\n",
    "# List to store results for each parameter\n",
    "interpolated_results = []\n",
    "\n",
    "for start in range(0, len(df_T_10_soc_one), chunk_size):\n",
    "    chunk_10 = df_T_10_soc_one.iloc[start:start + chunk_size]\n",
    "    chunk_25 = df_T_25_soc_one.iloc[start:start + chunk_size]\n",
    "    \n",
    "    for param in parameters:\n",
    "        # Extracting the parameter values for the chunks\n",
    "        values_10 = chunk_10[param].values\n",
    "        values_25 = chunk_25[param].values\n",
    "        \n",
    "        # Check the shape of values_10 and values_25 to make sure they match soc.size\n",
    "        if len(values_10) != len(soc) or len(values_25) != len(soc):\n",
    "            print(f\"Chunk size mismatch for parameter {param} at index {start}\")\n",
    "            continue\n",
    "        \n",
    "        # Creating the array for interpolation with the correct shape (n, m)\n",
    "        z = np.vstack((values_10, values_25)).T  # Transpose to get shape (n, m)\n",
    "        \n",
    "        # Performing the interpolation\n",
    "        f = interpolate.interp2d(temp, soc, z, kind='linear')\n",
    "        z_new = f(temp_new, soc)\n",
    "        \n",
    "        # Store the interpolated results\n",
    "        for i, temp_val in enumerate(temp_new):\n",
    "            for j, soc_val in enumerate(soc):\n",
    "                interpolated_results.append({\n",
    "                    'Temp': temp_val,\n",
    "                    'Soc': soc_val,\n",
    "                    'param': param,\n",
    "                    'value': z_new[j, i]\n",
    "                })\n",
    "\n",
    "# Convert the interpolated results to a DataFrame\n",
    "df_interpolated = pd.DataFrame(interpolated_results)\n",
    "\n",
    "# Pivot the DataFrame to get the desired structure\n",
    "df_interpolated_pivot = df_interpolated.pivot_table(index=['Temp', 'Soc'], columns='param', values='value').reset_index()\n",
    "\n",
    "print(df_interpolated_pivot)"
   ]
  },
  {
   "cell_type": "code",
   "execution_count": 12,
   "id": "c1c3655d3c434f39",
   "metadata": {
    "collapsed": false,
    "ExecuteTime": {
     "end_time": "2024-08-12T19:30:37.622211900Z",
     "start_time": "2024-08-12T19:30:37.500461400Z"
    }
   },
   "outputs": [
    {
     "data": {
      "text/plain": "param       Temp        Soc           C_1        R_0        R_1\ncount  12.000000  12.000000     12.000000  12.000000  12.000000\nmean   17.500000  25.000000   8945.772293   0.017882   0.032814\nstd     2.611165  17.837652   3437.060362   0.003809   0.028287\nmin    15.000000   0.000000   2142.033750   0.013595   0.014089\n25%    15.000000  10.000000   7575.348238   0.015082   0.018813\n50%    17.500000  25.000000   9527.010861   0.017022   0.021636\n75%    20.000000  40.000000  11230.704922   0.019057   0.028183\nmax    20.000000  50.000000  13364.479790   0.025116   0.108859",
      "text/html": "<div>\n<style scoped>\n    .dataframe tbody tr th:only-of-type {\n        vertical-align: middle;\n    }\n\n    .dataframe tbody tr th {\n        vertical-align: top;\n    }\n\n    .dataframe thead th {\n        text-align: right;\n    }\n</style>\n<table border=\"1\" class=\"dataframe\">\n  <thead>\n    <tr style=\"text-align: right;\">\n      <th>param</th>\n      <th>Temp</th>\n      <th>Soc</th>\n      <th>C_1</th>\n      <th>R_0</th>\n      <th>R_1</th>\n    </tr>\n  </thead>\n  <tbody>\n    <tr>\n      <th>count</th>\n      <td>12.000000</td>\n      <td>12.000000</td>\n      <td>12.000000</td>\n      <td>12.000000</td>\n      <td>12.000000</td>\n    </tr>\n    <tr>\n      <th>mean</th>\n      <td>17.500000</td>\n      <td>25.000000</td>\n      <td>8945.772293</td>\n      <td>0.017882</td>\n      <td>0.032814</td>\n    </tr>\n    <tr>\n      <th>std</th>\n      <td>2.611165</td>\n      <td>17.837652</td>\n      <td>3437.060362</td>\n      <td>0.003809</td>\n      <td>0.028287</td>\n    </tr>\n    <tr>\n      <th>min</th>\n      <td>15.000000</td>\n      <td>0.000000</td>\n      <td>2142.033750</td>\n      <td>0.013595</td>\n      <td>0.014089</td>\n    </tr>\n    <tr>\n      <th>25%</th>\n      <td>15.000000</td>\n      <td>10.000000</td>\n      <td>7575.348238</td>\n      <td>0.015082</td>\n      <td>0.018813</td>\n    </tr>\n    <tr>\n      <th>50%</th>\n      <td>17.500000</td>\n      <td>25.000000</td>\n      <td>9527.010861</td>\n      <td>0.017022</td>\n      <td>0.021636</td>\n    </tr>\n    <tr>\n      <th>75%</th>\n      <td>20.000000</td>\n      <td>40.000000</td>\n      <td>11230.704922</td>\n      <td>0.019057</td>\n      <td>0.028183</td>\n    </tr>\n    <tr>\n      <th>max</th>\n      <td>20.000000</td>\n      <td>50.000000</td>\n      <td>13364.479790</td>\n      <td>0.025116</td>\n      <td>0.108859</td>\n    </tr>\n  </tbody>\n</table>\n</div>"
     },
     "execution_count": 12,
     "metadata": {},
     "output_type": "execute_result"
    }
   ],
   "source": [
    "df_interpolated_pivot.describe()"
   ]
  },
  {
   "cell_type": "code",
   "execution_count": 13,
   "id": "7efef07b3b31bccb",
   "metadata": {
    "collapsed": false,
    "ExecuteTime": {
     "end_time": "2024-08-12T19:30:40.061689800Z",
     "start_time": "2024-08-12T19:30:40.011212300Z"
    }
   },
   "outputs": [],
   "source": [
    "cluster_one = pd.concat([df_interpolated_pivot,df_T_10_soc_one,df_T_25_soc_one])"
   ]
  },
  {
   "cell_type": "code",
   "execution_count": 14,
   "id": "de1456f4ae09220f",
   "metadata": {
    "collapsed": false,
    "ExecuteTime": {
     "end_time": "2024-08-12T19:30:41.630889500Z",
     "start_time": "2024-08-12T19:30:41.545327100Z"
    }
   },
   "outputs": [],
   "source": [
    "cluster_one = cluster_one.drop('skip', axis=1)"
   ]
  },
  {
   "cell_type": "code",
   "execution_count": 35,
   "id": "f1ff43cbebb5a35b",
   "metadata": {
    "collapsed": false,
    "ExecuteTime": {
     "end_time": "2024-08-12T19:35:43.845084200Z",
     "start_time": "2024-08-12T19:35:43.768873500Z"
    }
   },
   "outputs": [],
   "source": [
    "cluster_one.to_csv(\"phi_one.csv\", index=False, na_rep='NaN')"
   ]
  },
  {
   "cell_type": "markdown",
   "id": "db428d57428d81cd",
   "metadata": {
    "collapsed": false
   },
   "source": [
    "## cell2"
   ]
  },
  {
   "cell_type": "code",
   "execution_count": 16,
   "id": "69bc21f5896ed19d",
   "metadata": {
    "collapsed": false,
    "ExecuteTime": {
     "end_time": "2024-08-12T19:30:49.538775Z",
     "start_time": "2024-08-12T19:30:49.416260300Z"
    }
   },
   "outputs": [
    {
     "name": "stdout",
     "output_type": "stream",
     "text": [
      "param  Temp  Soc           C_1       R_0       R_1\n",
      "0        15   50   9655.887330  0.013612  0.014383\n",
      "1        15   60   8960.577385  0.014149  0.014264\n",
      "2        15   70   9455.065286  0.014868  0.018994\n",
      "3        15   80  14273.722858  0.015673  0.021401\n",
      "4        15   90   8889.953426  0.015858  0.017680\n",
      "5        15  100   7119.632085  0.017630  0.023079\n",
      "6        20   50  11287.333977  0.012312  0.013065\n",
      "7        20   60  10731.028600  0.012853  0.014136\n",
      "8        20   70  12065.836535  0.013174  0.017804\n",
      "9        20   80  13983.937127  0.013798  0.018224\n",
      "10       20   90  10262.743957  0.013956  0.017169\n",
      "11       20  100   6654.396293  0.016500  0.027384\n"
     ]
    },
    {
     "name": "stderr",
     "output_type": "stream",
     "text": [
      "/tmp/ipykernel_457/1939898903.py:32: DeprecationWarning: `interp2d` is deprecated!\n",
      "`interp2d` is deprecated in SciPy 1.10 and will be removed in SciPy 1.12.0.\n",
      "\n",
      "For legacy code, nearly bug-for-bug compatible replacements are\n",
      "`RectBivariateSpline` on regular grids, and `bisplrep`/`bisplev` for\n",
      "scattered 2D data.\n",
      "\n",
      "In new code, for regular grids use `RegularGridInterpolator` instead.\n",
      "For scattered data, prefer `LinearNDInterpolator` or\n",
      "`CloughTocher2DInterpolator`.\n",
      "\n",
      "For more details see\n",
      "`https://gist.github.com/ev-br/8544371b40f414b7eaf3fe6217209bff`\n",
      "\n",
      "  f = interpolate.interp2d(temp, soc, z, kind='linear')\n",
      "/tmp/ipykernel_457/1939898903.py:33: DeprecationWarning:         `interp2d` is deprecated!\n",
      "        `interp2d` is deprecated in SciPy 1.10 and will be removed in SciPy 1.12.0.\n",
      "\n",
      "        For legacy code, nearly bug-for-bug compatible replacements are\n",
      "        `RectBivariateSpline` on regular grids, and `bisplrep`/`bisplev` for\n",
      "        scattered 2D data.\n",
      "\n",
      "        In new code, for regular grids use `RegularGridInterpolator` instead.\n",
      "        For scattered data, prefer `LinearNDInterpolator` or\n",
      "        `CloughTocher2DInterpolator`.\n",
      "\n",
      "        For more details see\n",
      "        `https://gist.github.com/ev-br/8544371b40f414b7eaf3fe6217209bff`\n",
      "\n",
      "  z_new = f(temp_new, soc)\n"
     ]
    }
   ],
   "source": [
    "df_T_10_soc_two = df_T_10[( df_T_10['Soc'] >= 50) & (df_T_10['Soc'] <= 100) ]\n",
    "df_T_25_soc_two = df_T_25[ ( df_T_25['Soc'] >= 50) & (df_T_25['Soc'] <= 100) ]\n",
    "#df_T_40_soc_one = df_T_40[ ( df_T_40['Soc'] >= 0) & (df_T_40['Soc'] <= 50) ]\n",
    "\n",
    "chunk_size = 6\n",
    "temp = np.array([10, 25])\n",
    "soc = np.array([50, 60, 70, 80, 90, 100])\n",
    "parameters = ['R_0', 'R_1', 'C_1']\n",
    "temp_new = [15, 20]\n",
    "\n",
    "# List to store results for each parameter\n",
    "interpolated_results = []\n",
    "\n",
    "for start in range(0, len(df_T_10_soc_two), chunk_size):\n",
    "    chunk_10 = df_T_10_soc_two.iloc[start:start + chunk_size]\n",
    "    chunk_25 = df_T_25_soc_one.iloc[start:start + chunk_size]\n",
    "    \n",
    "    for param in parameters:\n",
    "        # Extracting the parameter values for the chunks\n",
    "        values_10 = chunk_10[param].values\n",
    "        values_25 = chunk_25[param].values\n",
    "        \n",
    "        # Check the shape of values_10 and values_25 to make sure they match soc.size\n",
    "        if len(values_10) != len(soc) or len(values_25) != len(soc):\n",
    "            print(f\"Chunk size mismatch for parameter {param} at index {start}\")\n",
    "            continue\n",
    "        \n",
    "        # Creating the array for interpolation with the correct shape (n, m)\n",
    "        z = np.vstack((values_10, values_25)).T  # Transpose to get shape (n, m)\n",
    "        \n",
    "        # Performing the interpolation\n",
    "        f = interpolate.interp2d(temp, soc, z, kind='linear')\n",
    "        z_new = f(temp_new, soc)\n",
    "        \n",
    "        # Store the interpolated results\n",
    "        for i, temp_val in enumerate(temp_new):\n",
    "            for j, soc_val in enumerate(soc):\n",
    "                interpolated_results.append({\n",
    "                    'Temp': temp_val,\n",
    "                    'Soc': soc_val,\n",
    "                    'param': param,\n",
    "                    'value': z_new[j, i]\n",
    "                })\n",
    "\n",
    "# Convert the interpolated results to a DataFrame\n",
    "df_interpolated_two = pd.DataFrame(interpolated_results)\n",
    "\n",
    "# Pivot the DataFrame to get the desired structure\n",
    "df_interpolated_pivot_two = df_interpolated_two.pivot_table(index=['Temp', 'Soc'], columns='param', values='value').reset_index()\n",
    "\n",
    "print(df_interpolated_pivot_two)"
   ]
  },
  {
   "cell_type": "code",
   "execution_count": 17,
   "id": "5470b24f48ef240b",
   "metadata": {
    "collapsed": false,
    "ExecuteTime": {
     "end_time": "2024-08-12T19:30:51.760320600Z",
     "start_time": "2024-08-12T19:30:51.728713200Z"
    }
   },
   "outputs": [],
   "source": [
    "cluster_two = pd.concat([df_interpolated_pivot_two, df_T_10_soc_two, df_T_25_soc_two])"
   ]
  },
  {
   "cell_type": "code",
   "execution_count": 18,
   "id": "b57d708bc175e342",
   "metadata": {
    "collapsed": false,
    "ExecuteTime": {
     "end_time": "2024-08-12T19:30:53.382949900Z",
     "start_time": "2024-08-12T19:30:53.256169300Z"
    }
   },
   "outputs": [
    {
     "data": {
      "text/plain": "60"
     },
     "execution_count": 18,
     "metadata": {},
     "output_type": "execute_result"
    }
   ],
   "source": [
    "len(cluster_two)"
   ]
  },
  {
   "cell_type": "code",
   "execution_count": 19,
   "id": "89fa0ac41d13b8c",
   "metadata": {
    "collapsed": false,
    "ExecuteTime": {
     "end_time": "2024-08-12T19:30:54.960790300Z",
     "start_time": "2024-08-12T19:30:54.900253Z"
    }
   },
   "outputs": [],
   "source": [
    "cluster_two = cluster_two.drop('skip', axis=1)"
   ]
  },
  {
   "cell_type": "code",
   "execution_count": 20,
   "id": "25f90dc8c44384c0",
   "metadata": {
    "collapsed": false,
    "ExecuteTime": {
     "end_time": "2024-08-12T19:31:03.251035300Z",
     "start_time": "2024-08-12T19:31:03.129684600Z"
    }
   },
   "outputs": [
    {
     "data": {
      "text/plain": "            Temp         Soc           C_1        R_0        R_1        OCV\ncount  60.000000   60.000000     60.000000  60.000000  60.000000  48.000000\nmean   19.000000   75.000000  10898.610389   0.013090   0.015514  27.219542\nstd     6.689227   17.222374   3296.695650   0.003160   0.004286   0.973577\nmin    10.000000   50.000000   6329.622654   0.009210   0.009238  25.827000\n25%    10.000000   60.000000   8070.132353   0.010474   0.011761  26.251750\n50%    22.500000   75.000000  10351.731264   0.011748   0.014324  27.262500\n75%    25.000000   90.000000  13357.329312   0.015858   0.018259  28.226250\nmax    25.000000  100.000000  19489.447086   0.019599   0.027384  28.504571",
      "text/html": "<div>\n<style scoped>\n    .dataframe tbody tr th:only-of-type {\n        vertical-align: middle;\n    }\n\n    .dataframe tbody tr th {\n        vertical-align: top;\n    }\n\n    .dataframe thead th {\n        text-align: right;\n    }\n</style>\n<table border=\"1\" class=\"dataframe\">\n  <thead>\n    <tr style=\"text-align: right;\">\n      <th></th>\n      <th>Temp</th>\n      <th>Soc</th>\n      <th>C_1</th>\n      <th>R_0</th>\n      <th>R_1</th>\n      <th>OCV</th>\n    </tr>\n  </thead>\n  <tbody>\n    <tr>\n      <th>count</th>\n      <td>60.000000</td>\n      <td>60.000000</td>\n      <td>60.000000</td>\n      <td>60.000000</td>\n      <td>60.000000</td>\n      <td>48.000000</td>\n    </tr>\n    <tr>\n      <th>mean</th>\n      <td>19.000000</td>\n      <td>75.000000</td>\n      <td>10898.610389</td>\n      <td>0.013090</td>\n      <td>0.015514</td>\n      <td>27.219542</td>\n    </tr>\n    <tr>\n      <th>std</th>\n      <td>6.689227</td>\n      <td>17.222374</td>\n      <td>3296.695650</td>\n      <td>0.003160</td>\n      <td>0.004286</td>\n      <td>0.973577</td>\n    </tr>\n    <tr>\n      <th>min</th>\n      <td>10.000000</td>\n      <td>50.000000</td>\n      <td>6329.622654</td>\n      <td>0.009210</td>\n      <td>0.009238</td>\n      <td>25.827000</td>\n    </tr>\n    <tr>\n      <th>25%</th>\n      <td>10.000000</td>\n      <td>60.000000</td>\n      <td>8070.132353</td>\n      <td>0.010474</td>\n      <td>0.011761</td>\n      <td>26.251750</td>\n    </tr>\n    <tr>\n      <th>50%</th>\n      <td>22.500000</td>\n      <td>75.000000</td>\n      <td>10351.731264</td>\n      <td>0.011748</td>\n      <td>0.014324</td>\n      <td>27.262500</td>\n    </tr>\n    <tr>\n      <th>75%</th>\n      <td>25.000000</td>\n      <td>90.000000</td>\n      <td>13357.329312</td>\n      <td>0.015858</td>\n      <td>0.018259</td>\n      <td>28.226250</td>\n    </tr>\n    <tr>\n      <th>max</th>\n      <td>25.000000</td>\n      <td>100.000000</td>\n      <td>19489.447086</td>\n      <td>0.019599</td>\n      <td>0.027384</td>\n      <td>28.504571</td>\n    </tr>\n  </tbody>\n</table>\n</div>"
     },
     "execution_count": 20,
     "metadata": {},
     "output_type": "execute_result"
    }
   ],
   "source": [
    "cluster_two.describe()"
   ]
  },
  {
   "cell_type": "code",
   "execution_count": 36,
   "id": "72bacb0a8175a298",
   "metadata": {
    "collapsed": false,
    "ExecuteTime": {
     "end_time": "2024-08-12T19:35:52.654332500Z",
     "start_time": "2024-08-12T19:35:52.558829200Z"
    }
   },
   "outputs": [],
   "source": [
    "cluster_two.to_csv(\"phi_two.csv\", index=False, na_rep='NaN')"
   ]
  },
  {
   "cell_type": "markdown",
   "id": "bee43f1ccad73016",
   "metadata": {
    "collapsed": false
   },
   "source": [
    "## cell3"
   ]
  },
  {
   "cell_type": "code",
   "execution_count": 22,
   "id": "83e3ec10439202ba",
   "metadata": {
    "collapsed": false,
    "ExecuteTime": {
     "end_time": "2024-08-12T19:31:11.943868100Z",
     "start_time": "2024-08-12T19:31:11.801085900Z"
    }
   },
   "outputs": [
    {
     "name": "stdout",
     "output_type": "stream",
     "text": [
      "param  Temp  Soc           C_1       R_0       R_1\n",
      "0        30    0  13670.965302  0.009951  0.010635\n",
      "1        30   10  12734.187684  0.010379  0.012775\n",
      "2        30   20  15893.233768  0.010449  0.014999\n",
      "3        30   30  15151.324276  0.010657  0.013196\n",
      "4        30   40  15778.581428  0.010933  0.014324\n",
      "5        30   50  14611.322527  0.013400  0.026787\n",
      "6        35    0  14423.149979  0.008890  0.009523\n",
      "7        35   10  12966.895552  0.009201  0.011542\n",
      "8        35   20  17109.859752  0.009417  0.013384\n",
      "9        35   30  16608.497155  0.009392  0.011345\n",
      "10       35   40  19921.628368  0.009812  0.011990\n",
      "11       35   50  23033.484553  0.011429  0.021886\n"
     ]
    },
    {
     "name": "stderr",
     "output_type": "stream",
     "text": [
      "/tmp/ipykernel_457/3682360749.py:32: DeprecationWarning: `interp2d` is deprecated!\n",
      "`interp2d` is deprecated in SciPy 1.10 and will be removed in SciPy 1.12.0.\n",
      "\n",
      "For legacy code, nearly bug-for-bug compatible replacements are\n",
      "`RectBivariateSpline` on regular grids, and `bisplrep`/`bisplev` for\n",
      "scattered 2D data.\n",
      "\n",
      "In new code, for regular grids use `RegularGridInterpolator` instead.\n",
      "For scattered data, prefer `LinearNDInterpolator` or\n",
      "`CloughTocher2DInterpolator`.\n",
      "\n",
      "For more details see\n",
      "`https://gist.github.com/ev-br/8544371b40f414b7eaf3fe6217209bff`\n",
      "\n",
      "  f = interpolate.interp2d(temp, soc, z, kind='linear')\n",
      "/tmp/ipykernel_457/3682360749.py:33: DeprecationWarning:         `interp2d` is deprecated!\n",
      "        `interp2d` is deprecated in SciPy 1.10 and will be removed in SciPy 1.12.0.\n",
      "\n",
      "        For legacy code, nearly bug-for-bug compatible replacements are\n",
      "        `RectBivariateSpline` on regular grids, and `bisplrep`/`bisplev` for\n",
      "        scattered 2D data.\n",
      "\n",
      "        In new code, for regular grids use `RegularGridInterpolator` instead.\n",
      "        For scattered data, prefer `LinearNDInterpolator` or\n",
      "        `CloughTocher2DInterpolator`.\n",
      "\n",
      "        For more details see\n",
      "        `https://gist.github.com/ev-br/8544371b40f414b7eaf3fe6217209bff`\n",
      "\n",
      "  z_new = f(temp_new, soc)\n"
     ]
    }
   ],
   "source": [
    "#df_T_10_soc_one = df_T_10[( df_T_10['Soc'] >= 0) & (df_T_10['Soc'] <= 50) ]\n",
    "df_T_25_soc_three = df_T_25[ ( df_T_25['Soc'] >= 0) & (df_T_25['Soc'] <= 50) ]\n",
    "df_T_40_soc_three = df_T_40[ ( df_T_40['Soc'] >= 0) & (df_T_40['Soc'] <= 50) ]\n",
    "\n",
    "chunk_size = 6\n",
    "temp = np.array([25, 40])\n",
    "soc = np.array([0, 10, 20, 30, 40, 50])\n",
    "parameters = ['R_0', 'R_1', 'C_1']\n",
    "temp_new = [30, 35]\n",
    "\n",
    "# List to store results for each parameter\n",
    "interpolated_results = []\n",
    "\n",
    "for start in range(0, len(df_T_10_soc_one), chunk_size):\n",
    "    chunk_25 = df_T_25_soc_one.iloc[start:start + chunk_size]\n",
    "    chunk_40 = df_T_40_soc_one.iloc[start:start + chunk_size]\n",
    "    \n",
    "    for param in parameters:\n",
    "        # Extracting the parameter values for the chunks\n",
    "        values_25 = chunk_25[param].values\n",
    "        values_40 = chunk_40[param].values\n",
    "        \n",
    "        # Check the shape of values_10 and values_25 to make sure they match soc.size\n",
    "        if len(values_25) != len(soc) or len(values_40) != len(soc):\n",
    "            print(f\"Chunk size mismatch for parameter {param} at index {start}\")\n",
    "            continue\n",
    "        \n",
    "        # Creating the array for interpolation with the correct shape (n, m)\n",
    "        z = np.vstack((values_25, values_40)).T  # Transpose to get shape (n, m)\n",
    "        \n",
    "        # Performing the interpolation\n",
    "        f = interpolate.interp2d(temp, soc, z, kind='linear')\n",
    "        z_new = f(temp_new, soc)\n",
    "        \n",
    "        # Store the interpolated results\n",
    "        for i, temp_val in enumerate(temp_new):\n",
    "            for j, soc_val in enumerate(soc):\n",
    "                interpolated_results.append({\n",
    "                    'Temp': temp_val,\n",
    "                    'Soc': soc_val,\n",
    "                    'param': param,\n",
    "                    'value': z_new[j, i]\n",
    "                })\n",
    "\n",
    "# Convert the interpolated results to a DataFrame\n",
    "df_interpolated_three = pd.DataFrame(interpolated_results)\n",
    "\n",
    "# Pivot the DataFrame to get the desired structure\n",
    "df_interpolated_pivot_three = df_interpolated_three.pivot_table(index=['Temp', 'Soc'], columns='param', values='value').reset_index()\n",
    "\n",
    "print(df_interpolated_pivot_three)"
   ]
  },
  {
   "cell_type": "code",
   "execution_count": 23,
   "id": "788a729ae5f42c43",
   "metadata": {
    "collapsed": false,
    "ExecuteTime": {
     "end_time": "2024-08-12T19:31:15.691937700Z",
     "start_time": "2024-08-12T19:31:15.627530400Z"
    }
   },
   "outputs": [],
   "source": [
    "cluster_three = pd.concat([df_interpolated_pivot_three, df_T_40_soc_three])"
   ]
  },
  {
   "cell_type": "code",
   "execution_count": 24,
   "id": "8754ab0d63ab8934",
   "metadata": {
    "collapsed": false,
    "ExecuteTime": {
     "end_time": "2024-08-12T19:31:17.175741300Z",
     "start_time": "2024-08-12T19:31:17.104794800Z"
    }
   },
   "outputs": [
    {
     "data": {
      "text/plain": "30"
     },
     "execution_count": 24,
     "metadata": {},
     "output_type": "execute_result"
    }
   ],
   "source": [
    "len(cluster_three)"
   ]
  },
  {
   "cell_type": "code",
   "execution_count": 25,
   "id": "eadb480ed42fdfb5",
   "metadata": {
    "collapsed": false,
    "ExecuteTime": {
     "end_time": "2024-08-12T19:31:17.756622500Z",
     "start_time": "2024-08-12T19:31:17.675559300Z"
    }
   },
   "outputs": [],
   "source": [
    "cluster_three = cluster_three.drop('skip', axis=1)"
   ]
  },
  {
   "cell_type": "code",
   "execution_count": 26,
   "id": "8520e8627e6a770c",
   "metadata": {
    "collapsed": false,
    "ExecuteTime": {
     "end_time": "2024-08-12T19:31:19.113723900Z",
     "start_time": "2024-08-12T19:31:18.993968100Z"
    }
   },
   "outputs": [],
   "source": [
    "cluster_three.to_csv(\"phi_three.csv\", index=False, na_rep='NaN')"
   ]
  },
  {
   "cell_type": "markdown",
   "id": "67351e5ecd047879",
   "metadata": {
    "collapsed": false
   },
   "source": [
    "## cell4"
   ]
  },
  {
   "cell_type": "code",
   "execution_count": 27,
   "id": "379d54aad3c27104",
   "metadata": {
    "collapsed": false,
    "ExecuteTime": {
     "end_time": "2024-08-12T19:31:21.500522200Z",
     "start_time": "2024-08-12T19:31:21.300345400Z"
    }
   },
   "outputs": [
    {
     "name": "stdout",
     "output_type": "stream",
     "text": [
      "param  Temp  Soc           C_1       R_0       R_1\n",
      "0        30   50  13001.023275  0.008855  0.010409\n",
      "1        30   60  13018.518124  0.008932  0.008997\n",
      "2        30   70  11737.192141  0.009575  0.012062\n",
      "3        30   80  14645.139083  0.009490  0.016169\n",
      "4        30   90  18951.891058  0.009830  0.011122\n",
      "5        30  100  13670.965302  0.009951  0.010635\n",
      "6        35   50  14010.064023  0.008205  0.009450\n",
      "7        35   60  14460.293472  0.008271  0.008059\n",
      "8        35   70  12783.867043  0.008763  0.010938\n",
      "9        35   80  14273.495462  0.008633  0.014764\n",
      "10       35   90  20517.297277  0.008831  0.009884\n",
      "11       35  100  14423.149979  0.008890  0.009523\n"
     ]
    },
    {
     "name": "stderr",
     "output_type": "stream",
     "text": [
      "/tmp/ipykernel_457/101664593.py:32: DeprecationWarning: `interp2d` is deprecated!\n",
      "`interp2d` is deprecated in SciPy 1.10 and will be removed in SciPy 1.12.0.\n",
      "\n",
      "For legacy code, nearly bug-for-bug compatible replacements are\n",
      "`RectBivariateSpline` on regular grids, and `bisplrep`/`bisplev` for\n",
      "scattered 2D data.\n",
      "\n",
      "In new code, for regular grids use `RegularGridInterpolator` instead.\n",
      "For scattered data, prefer `LinearNDInterpolator` or\n",
      "`CloughTocher2DInterpolator`.\n",
      "\n",
      "For more details see\n",
      "`https://gist.github.com/ev-br/8544371b40f414b7eaf3fe6217209bff`\n",
      "\n",
      "  f = interpolate.interp2d(temp, soc, z, kind='linear')\n",
      "/tmp/ipykernel_457/101664593.py:33: DeprecationWarning:         `interp2d` is deprecated!\n",
      "        `interp2d` is deprecated in SciPy 1.10 and will be removed in SciPy 1.12.0.\n",
      "\n",
      "        For legacy code, nearly bug-for-bug compatible replacements are\n",
      "        `RectBivariateSpline` on regular grids, and `bisplrep`/`bisplev` for\n",
      "        scattered 2D data.\n",
      "\n",
      "        In new code, for regular grids use `RegularGridInterpolator` instead.\n",
      "        For scattered data, prefer `LinearNDInterpolator` or\n",
      "        `CloughTocher2DInterpolator`.\n",
      "\n",
      "        For more details see\n",
      "        `https://gist.github.com/ev-br/8544371b40f414b7eaf3fe6217209bff`\n",
      "\n",
      "  z_new = f(temp_new, soc)\n"
     ]
    }
   ],
   "source": [
    "#df_T_10_soc_two = df_T_10[( df_T_10['Soc'] >= 50) & (df_T_10['Soc'] <= 100) ]\n",
    "df_T_25_soc_four = df_T_25[ ( df_T_25['Soc'] >= 50) & (df_T_25['Soc'] <= 100) ]\n",
    "df_T_40_soc_four = df_T_40[ ( df_T_40['Soc'] >= 50) & (df_T_40['Soc'] <= 100) ]\n",
    "\n",
    "chunk_size = 6\n",
    "temp = np.array([25, 40])\n",
    "soc = np.array([50, 60, 70, 80, 90, 100])\n",
    "parameters = ['R_0', 'R_1', 'C_1']\n",
    "temp_new = [30, 35]\n",
    "\n",
    "# List to store results for each parameter\n",
    "interpolated_results = []\n",
    "\n",
    "for start in range(0, len(df_T_10_soc_two), chunk_size):\n",
    "    chunk_25 = df_T_25_soc_four.iloc[start:start + chunk_size]\n",
    "    chunk_40 = df_T_40_soc_four.iloc[start:start + chunk_size]\n",
    "    \n",
    "    for param in parameters:\n",
    "        # Extracting the parameter values for the chunks\n",
    "        values_25 = chunk_25[param].values\n",
    "        values_40 = chunk_40[param].values\n",
    "        \n",
    "        # Check the shape of values_10 and values_25 to make sure they match soc.size\n",
    "        if len(values_25) != len(soc) or len(values_40) != len(soc):\n",
    "            print(f\"Chunk size mismatch for parameter {param} at index {start}\")\n",
    "            continue\n",
    "        \n",
    "        # Creating the array for interpolation with the correct shape (n, m)\n",
    "        z = np.vstack((values_25, values_40)).T  # Transpose to get shape (n, m)\n",
    "        \n",
    "        # Performing the interpolation\n",
    "        f = interpolate.interp2d(temp, soc, z, kind='linear')\n",
    "        z_new = f(temp_new, soc)\n",
    "        \n",
    "        # Store the interpolated results\n",
    "        for i, temp_val in enumerate(temp_new):\n",
    "            for j, soc_val in enumerate(soc):\n",
    "                interpolated_results.append({\n",
    "                    'Temp': temp_val,\n",
    "                    'Soc': soc_val,\n",
    "                    'param': param,\n",
    "                    'value': z_new[j, i]\n",
    "                })\n",
    "\n",
    "# Convert the interpolated results to a DataFrame\n",
    "df_interpolated_four = pd.DataFrame(interpolated_results)\n",
    "\n",
    "# Pivot the DataFrame to get the desired structure\n",
    "df_interpolated_pivot_four = df_interpolated_four.pivot_table(index=['Temp', 'Soc'], columns='param', values='value').reset_index()\n",
    "\n",
    "print(df_interpolated_pivot_four)"
   ]
  },
  {
   "cell_type": "code",
   "execution_count": 28,
   "id": "2797c507ff7d0ca2",
   "metadata": {
    "collapsed": false,
    "ExecuteTime": {
     "end_time": "2024-08-12T19:31:22.394169100Z",
     "start_time": "2024-08-12T19:31:22.303716300Z"
    }
   },
   "outputs": [],
   "source": [
    "cluster_four = pd.concat([df_interpolated_pivot_four, df_T_40_soc_four])"
   ]
  },
  {
   "cell_type": "code",
   "execution_count": 29,
   "id": "e8c4fa4eaa6eb257",
   "metadata": {
    "collapsed": false,
    "ExecuteTime": {
     "end_time": "2024-08-12T19:31:23.553811Z",
     "start_time": "2024-08-12T19:31:23.438048500Z"
    }
   },
   "outputs": [
    {
     "data": {
      "text/plain": "30"
     },
     "execution_count": 29,
     "metadata": {},
     "output_type": "execute_result"
    }
   ],
   "source": [
    "len(cluster_four)"
   ]
  },
  {
   "cell_type": "code",
   "execution_count": 30,
   "id": "12b72f32bacc0000",
   "metadata": {
    "collapsed": false,
    "ExecuteTime": {
     "end_time": "2024-08-12T19:31:24.320714500Z",
     "start_time": "2024-08-12T19:31:24.254711400Z"
    }
   },
   "outputs": [],
   "source": [
    "cluster_four = cluster_four.drop('skip', axis =1)"
   ]
  },
  {
   "cell_type": "code",
   "execution_count": 31,
   "id": "b179874106bd81a1",
   "metadata": {
    "collapsed": false,
    "ExecuteTime": {
     "end_time": "2024-08-12T19:31:25.315847200Z",
     "start_time": "2024-08-12T19:31:25.208078800Z"
    }
   },
   "outputs": [
    {
     "data": {
      "text/plain": "            Temp         Soc           C_1        R_0        R_1        OCV\ncount  30.000000   30.000000     30.000000  30.000000  30.000000  18.000000\nmean   37.000000   75.000000  15440.923761   0.008263   0.009985  27.258873\nstd     4.068381   17.370208   3434.621295   0.000749   0.002308   0.983160\nmin    30.000000   50.000000  10370.463310   0.007287   0.006666  25.896000\n25%    35.000000   60.000000  13181.629919   0.007684   0.008439  26.311750\n50%    40.000000   75.000000  14441.721726   0.008014   0.009394  27.286000\n75%    40.000000   90.000000  16717.108214   0.008814   0.010862  28.258500\nmax    40.000000  100.000000  27306.615043   0.009951   0.016169  28.517429",
      "text/html": "<div>\n<style scoped>\n    .dataframe tbody tr th:only-of-type {\n        vertical-align: middle;\n    }\n\n    .dataframe tbody tr th {\n        vertical-align: top;\n    }\n\n    .dataframe thead th {\n        text-align: right;\n    }\n</style>\n<table border=\"1\" class=\"dataframe\">\n  <thead>\n    <tr style=\"text-align: right;\">\n      <th></th>\n      <th>Temp</th>\n      <th>Soc</th>\n      <th>C_1</th>\n      <th>R_0</th>\n      <th>R_1</th>\n      <th>OCV</th>\n    </tr>\n  </thead>\n  <tbody>\n    <tr>\n      <th>count</th>\n      <td>30.000000</td>\n      <td>30.000000</td>\n      <td>30.000000</td>\n      <td>30.000000</td>\n      <td>30.000000</td>\n      <td>18.000000</td>\n    </tr>\n    <tr>\n      <th>mean</th>\n      <td>37.000000</td>\n      <td>75.000000</td>\n      <td>15440.923761</td>\n      <td>0.008263</td>\n      <td>0.009985</td>\n      <td>27.258873</td>\n    </tr>\n    <tr>\n      <th>std</th>\n      <td>4.068381</td>\n      <td>17.370208</td>\n      <td>3434.621295</td>\n      <td>0.000749</td>\n      <td>0.002308</td>\n      <td>0.983160</td>\n    </tr>\n    <tr>\n      <th>min</th>\n      <td>30.000000</td>\n      <td>50.000000</td>\n      <td>10370.463310</td>\n      <td>0.007287</td>\n      <td>0.006666</td>\n      <td>25.896000</td>\n    </tr>\n    <tr>\n      <th>25%</th>\n      <td>35.000000</td>\n      <td>60.000000</td>\n      <td>13181.629919</td>\n      <td>0.007684</td>\n      <td>0.008439</td>\n      <td>26.311750</td>\n    </tr>\n    <tr>\n      <th>50%</th>\n      <td>40.000000</td>\n      <td>75.000000</td>\n      <td>14441.721726</td>\n      <td>0.008014</td>\n      <td>0.009394</td>\n      <td>27.286000</td>\n    </tr>\n    <tr>\n      <th>75%</th>\n      <td>40.000000</td>\n      <td>90.000000</td>\n      <td>16717.108214</td>\n      <td>0.008814</td>\n      <td>0.010862</td>\n      <td>28.258500</td>\n    </tr>\n    <tr>\n      <th>max</th>\n      <td>40.000000</td>\n      <td>100.000000</td>\n      <td>27306.615043</td>\n      <td>0.009951</td>\n      <td>0.016169</td>\n      <td>28.517429</td>\n    </tr>\n  </tbody>\n</table>\n</div>"
     },
     "execution_count": 31,
     "metadata": {},
     "output_type": "execute_result"
    }
   ],
   "source": [
    "cluster_four.describe()"
   ]
  },
  {
   "cell_type": "code",
   "execution_count": 33,
   "id": "d6112730bfcb7250",
   "metadata": {
    "collapsed": false,
    "ExecuteTime": {
     "end_time": "2024-08-12T19:31:30.554289Z",
     "start_time": "2024-08-12T19:31:30.522466300Z"
    }
   },
   "outputs": [],
   "source": [
    "cluster_four.to_csv(\"phi_four.csv\", index=False, na_rep='NaN')"
   ]
  },
  {
   "cell_type": "code",
   "execution_count": null,
   "id": "76c8f134a43d5572",
   "metadata": {
    "collapsed": false
   },
   "outputs": [],
   "source": []
  }
 ],
 "metadata": {
  "kernelspec": {
   "display_name": "Python 3 (ipykernel)",
   "language": "python",
   "name": "python3"
  },
  "language_info": {
   "codemirror_mode": {
    "name": "ipython",
    "version": 3
   },
   "file_extension": ".py",
   "mimetype": "text/x-python",
   "name": "python",
   "nbconvert_exporter": "python",
   "pygments_lexer": "ipython3",
   "version": "3.8.18"
  }
 },
 "nbformat": 4,
 "nbformat_minor": 5
}
