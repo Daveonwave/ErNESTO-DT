{
 "cells": [
  {
   "cell_type": "markdown",
   "source": [
    "# The goal of this notebook is to retrieve the soc-voc relation for temp equal to 26.18°(i.e. 299.33 K), from the voc_table for the module pack of the battery"
   ],
   "metadata": {
    "collapsed": false
   },
   "id": "aee6d65fc234052d"
  },
  {
   "cell_type": "code",
   "execution_count": 1,
   "outputs": [],
   "source": [
    "import pandas as pd"
   ],
   "metadata": {
    "collapsed": false,
    "ExecuteTime": {
     "start_time": "2024-08-29T07:40:03.832268600Z"
    }
   },
   "id": "initial_id"
  },
  {
   "cell_type": "code",
   "execution_count": 2,
   "outputs": [],
   "source": [
    "df = pd.read_csv('voc_table_module.csv')"
   ],
   "metadata": {
    "collapsed": false,
    "ExecuteTime": {
     "end_time": "2024-08-29T07:40:04.246246100Z",
     "start_time": "2024-08-29T07:40:04.231888Z"
    }
   },
   "id": "cdc4d7c08461b52c"
  },
  {
   "cell_type": "code",
   "execution_count": 6,
   "outputs": [
    {
     "data": {
      "text/plain": "     soc        voc  temp\n0   0.00  24.352667    10\n1   0.05  24.475167    10\n2   0.10  24.597667    10\n3   0.15  24.819167    10\n4   0.20  25.040667    10\n..   ...        ...   ...\n76  0.65  28.369978    30\n77  0.70  28.369115    30\n78  0.75  28.368252    30\n79  0.80  28.367389    30\n80  0.85  28.366526    30\n\n[81 rows x 3 columns]",
      "text/html": "<div>\n<style scoped>\n    .dataframe tbody tr th:only-of-type {\n        vertical-align: middle;\n    }\n\n    .dataframe tbody tr th {\n        vertical-align: top;\n    }\n\n    .dataframe thead th {\n        text-align: right;\n    }\n</style>\n<table border=\"1\" class=\"dataframe\">\n  <thead>\n    <tr style=\"text-align: right;\">\n      <th></th>\n      <th>soc</th>\n      <th>voc</th>\n      <th>temp</th>\n    </tr>\n  </thead>\n  <tbody>\n    <tr>\n      <th>0</th>\n      <td>0.00</td>\n      <td>24.352667</td>\n      <td>10</td>\n    </tr>\n    <tr>\n      <th>1</th>\n      <td>0.05</td>\n      <td>24.475167</td>\n      <td>10</td>\n    </tr>\n    <tr>\n      <th>2</th>\n      <td>0.10</td>\n      <td>24.597667</td>\n      <td>10</td>\n    </tr>\n    <tr>\n      <th>3</th>\n      <td>0.15</td>\n      <td>24.819167</td>\n      <td>10</td>\n    </tr>\n    <tr>\n      <th>4</th>\n      <td>0.20</td>\n      <td>25.040667</td>\n      <td>10</td>\n    </tr>\n    <tr>\n      <th>...</th>\n      <td>...</td>\n      <td>...</td>\n      <td>...</td>\n    </tr>\n    <tr>\n      <th>76</th>\n      <td>0.65</td>\n      <td>28.369978</td>\n      <td>30</td>\n    </tr>\n    <tr>\n      <th>77</th>\n      <td>0.70</td>\n      <td>28.369115</td>\n      <td>30</td>\n    </tr>\n    <tr>\n      <th>78</th>\n      <td>0.75</td>\n      <td>28.368252</td>\n      <td>30</td>\n    </tr>\n    <tr>\n      <th>79</th>\n      <td>0.80</td>\n      <td>28.367389</td>\n      <td>30</td>\n    </tr>\n    <tr>\n      <th>80</th>\n      <td>0.85</td>\n      <td>28.366526</td>\n      <td>30</td>\n    </tr>\n  </tbody>\n</table>\n<p>81 rows × 3 columns</p>\n</div>"
     },
     "execution_count": 6,
     "metadata": {},
     "output_type": "execute_result"
    }
   ],
   "source": [
    "df.head(81)"
   ],
   "metadata": {
    "collapsed": false,
    "ExecuteTime": {
     "end_time": "2024-08-29T07:45:00.541458600Z",
     "start_time": "2024-08-29T07:45:00.509127200Z"
    }
   },
   "id": "f3491a711c453667"
  },
  {
   "cell_type": "code",
   "execution_count": 8,
   "outputs": [
    {
     "name": "stdout",
     "output_type": "stream",
     "text": [
      "      soc      voc   temp\n",
      "105  0.00  24.1960  26.18\n",
      "106  0.05  24.4450  26.18\n",
      "107  0.10  24.6940  26.18\n",
      "108  0.15  24.8909  26.18\n",
      "109  0.20  25.0878  26.18\n",
      "110  0.25  25.2580  26.18\n",
      "111  0.30  25.4282  26.18\n",
      "112  0.35  25.5312  26.18\n",
      "113  0.40  25.6342  26.18\n",
      "114  0.45  25.7584  26.18\n",
      "115  0.50  25.8826  26.18\n",
      "116  0.55  26.0816  26.18\n",
      "117  0.60  26.2806  26.18\n",
      "118  0.65  26.6230  26.18\n",
      "119  0.70  26.9654  26.18\n",
      "120  0.75  27.2668  26.18\n",
      "121  0.80  27.5682  26.18\n",
      "122  0.85  27.9060  26.18\n",
      "123  0.90  28.2438  26.18\n",
      "124  0.95  28.3648  26.18\n",
      "125  1.00  28.4858  26.18\n"
     ]
    }
   ],
   "source": [
    "# Assuming df is your DataFrame\n",
    "\n",
    "# Append the target temperature (26) to the DataFrame for each soc value\n",
    "df_26 = df[df['temp'] == 25].copy()\n",
    "df_26['temp'] = 26.18\n",
    "\n",
    "# Combine the original DataFrame with the one containing temp=26\n",
    "df_combined = pd.concat([df, df_26], ignore_index=True)\n",
    "\n",
    "# Sort by soc and temp to prepare for interpolation\n",
    "df_combined = df_combined.sort_values(by=['soc', 'temp'])\n",
    "\n",
    "# Interpolate the voc values for temp=26\n",
    "df_combined['voc'] = df_combined.groupby('soc')['voc'].apply(lambda group: group.interpolate(method='linear'))\n",
    "\n",
    "# Extract the interpolated values for temp=26\n",
    "df_26_interpolated = df_combined[df_combined['temp'] == 26.18]\n",
    "\n",
    "print(df_26_interpolated)"
   ],
   "metadata": {
    "collapsed": false,
    "ExecuteTime": {
     "end_time": "2024-08-29T07:51:58.909917700Z",
     "start_time": "2024-08-29T07:51:58.823791300Z"
    }
   },
   "id": "db79488e68e5c467"
  },
  {
   "cell_type": "code",
   "execution_count": 9,
   "outputs": [],
   "source": [
    "df_final = df_26_interpolated['voc']\n",
    "df_final.to_csv('voc_05socstep_26temp.csv', index=False)"
   ],
   "metadata": {
    "collapsed": false,
    "ExecuteTime": {
     "end_time": "2024-08-29T07:52:43.361236900Z",
     "start_time": "2024-08-29T07:52:43.323291800Z"
    }
   },
   "id": "207ebd1d7f39e093"
  },
  {
   "cell_type": "code",
   "execution_count": null,
   "outputs": [],
   "source": [],
   "metadata": {
    "collapsed": false
   },
   "id": "3a5a3fa3ccfe7444"
  }
 ],
 "metadata": {
  "kernelspec": {
   "display_name": "Python 3",
   "language": "python",
   "name": "python3"
  },
  "language_info": {
   "codemirror_mode": {
    "name": "ipython",
    "version": 2
   },
   "file_extension": ".py",
   "mimetype": "text/x-python",
   "name": "python",
   "nbconvert_exporter": "python",
   "pygments_lexer": "ipython2",
   "version": "2.7.6"
  }
 },
 "nbformat": 4,
 "nbformat_minor": 5
}
