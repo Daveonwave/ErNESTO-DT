{
 "cells": [
  {
   "cell_type": "code",
   "execution_count": 1,
   "id": "initial_id",
   "metadata": {
    "collapsed": true,
    "ExecuteTime": {
     "end_time": "2024-08-17T10:05:56.767673100Z",
     "start_time": "2024-08-17T10:05:55.951710900Z"
    }
   },
   "outputs": [],
   "source": [
    "import pandas as pd"
   ]
  },
  {
   "cell_type": "code",
   "execution_count": 2,
   "outputs": [],
   "source": [
    "df_0 = pd.read_csv('../../data/output/driven/testprofile_for_ol_trial_due/long_experiment/2024_08_07-17_16_11/dataset_0.csv')\n",
    "df_1 = pd.read_csv('../../data/output/driven/testprofile_for_ol_trial_due/long_experiment/2024_08_07-17_16_11/dataset_1.csv')\n",
    "df_2 = pd.read_csv('../../data/output/driven/testprofile_for_ol_trial_due/long_experiment/2024_08_07-17_16_11/dataset_2.csv')\n",
    "df_3 = pd.read_csv('../../data/output/driven/testprofile_for_ol_trial_due/long_experiment/2024_08_07-17_16_11/dataset_3.csv')\n",
    "df_4 = pd.read_csv('../../data/output/driven/testprofile_for_ol_trial_due/long_experiment/2024_08_07-17_16_11/dataset_4.csv')"
   ],
   "metadata": {
    "collapsed": false,
    "ExecuteTime": {
     "end_time": "2024-08-17T10:08:28.019464Z",
     "start_time": "2024-08-17T10:05:56.780137300Z"
    }
   },
   "id": "f049a08fd55d8012"
  },
  {
   "cell_type": "code",
   "execution_count": 3,
   "outputs": [],
   "source": [
    "col_to_drop = ['soh','soc','c_max','power','v_oc','r1','r0','c','v_r0','v_rc','heat','aging_iteration','cyclic_aging','calendar_aging','degradation']"
   ],
   "metadata": {
    "collapsed": false,
    "ExecuteTime": {
     "end_time": "2024-08-17T10:08:28.074420500Z",
     "start_time": "2024-08-17T10:08:28.031519300Z"
    }
   },
   "id": "1ae32d8e9c7756b6"
  },
  {
   "cell_type": "code",
   "execution_count": 4,
   "outputs": [],
   "source": [
    "df_0 = df_0.drop(columns=col_to_drop)\n",
    "df_1 = df_1.drop(columns=col_to_drop)\n",
    "df_2 = df_2.drop(columns=col_to_drop)\n",
    "df_3 = df_3.drop(columns=col_to_drop)\n",
    "df_4 = df_4.drop(columns=col_to_drop)"
   ],
   "metadata": {
    "collapsed": false,
    "ExecuteTime": {
     "end_time": "2024-08-17T10:08:28.565988500Z",
     "start_time": "2024-08-17T10:08:28.045079200Z"
    }
   },
   "id": "e069b1e966e6464e"
  },
  {
   "cell_type": "code",
   "execution_count": 5,
   "outputs": [
    {
     "data": {
      "text/plain": "               time       voltage       current   temperature\ncount  3.010000e+06  3.010000e+06  3.010000e+06  3.010000e+06\nmean   1.534343e+06  2.593253e+01  8.675827e-02  3.140355e+02\nstd    8.858537e+05  9.063754e-01  1.933831e+01  5.707227e+00\nmin    0.000000e+00  2.357853e+01 -2.395300e+01  2.993289e+02\n25%    7.671718e+05  2.533721e+01 -2.171000e+01  3.099827e+02\n50%    1.534344e+06  2.610318e+01  1.041000e+00  3.124224e+02\n75%    2.301514e+06  2.662984e+01  1.620900e+01  3.152154e+02\nmax    3.068685e+06  2.799306e+01  3.255100e+01  3.323982e+02",
      "text/html": "<div>\n<style scoped>\n    .dataframe tbody tr th:only-of-type {\n        vertical-align: middle;\n    }\n\n    .dataframe tbody tr th {\n        vertical-align: top;\n    }\n\n    .dataframe thead th {\n        text-align: right;\n    }\n</style>\n<table border=\"1\" class=\"dataframe\">\n  <thead>\n    <tr style=\"text-align: right;\">\n      <th></th>\n      <th>time</th>\n      <th>voltage</th>\n      <th>current</th>\n      <th>temperature</th>\n    </tr>\n  </thead>\n  <tbody>\n    <tr>\n      <th>count</th>\n      <td>3.010000e+06</td>\n      <td>3.010000e+06</td>\n      <td>3.010000e+06</td>\n      <td>3.010000e+06</td>\n    </tr>\n    <tr>\n      <th>mean</th>\n      <td>1.534343e+06</td>\n      <td>2.593253e+01</td>\n      <td>8.675827e-02</td>\n      <td>3.140355e+02</td>\n    </tr>\n    <tr>\n      <th>std</th>\n      <td>8.858537e+05</td>\n      <td>9.063754e-01</td>\n      <td>1.933831e+01</td>\n      <td>5.707227e+00</td>\n    </tr>\n    <tr>\n      <th>min</th>\n      <td>0.000000e+00</td>\n      <td>2.357853e+01</td>\n      <td>-2.395300e+01</td>\n      <td>2.993289e+02</td>\n    </tr>\n    <tr>\n      <th>25%</th>\n      <td>7.671718e+05</td>\n      <td>2.533721e+01</td>\n      <td>-2.171000e+01</td>\n      <td>3.099827e+02</td>\n    </tr>\n    <tr>\n      <th>50%</th>\n      <td>1.534344e+06</td>\n      <td>2.610318e+01</td>\n      <td>1.041000e+00</td>\n      <td>3.124224e+02</td>\n    </tr>\n    <tr>\n      <th>75%</th>\n      <td>2.301514e+06</td>\n      <td>2.662984e+01</td>\n      <td>1.620900e+01</td>\n      <td>3.152154e+02</td>\n    </tr>\n    <tr>\n      <th>max</th>\n      <td>3.068685e+06</td>\n      <td>2.799306e+01</td>\n      <td>3.255100e+01</td>\n      <td>3.323982e+02</td>\n    </tr>\n  </tbody>\n</table>\n</div>"
     },
     "execution_count": 5,
     "metadata": {},
     "output_type": "execute_result"
    }
   ],
   "source": [
    "df_0.describe()"
   ],
   "metadata": {
    "collapsed": false,
    "ExecuteTime": {
     "end_time": "2024-08-17T10:08:29.142141800Z",
     "start_time": "2024-08-17T10:08:28.616731400Z"
    }
   },
   "id": "492ce66acc659508"
  },
  {
   "cell_type": "code",
   "execution_count": 6,
   "outputs": [],
   "source": [
    "df_0.to_csv('dataset_0_cutted.csv')\n",
    "df_1.to_csv('dataset_1_cutted.csv')\n",
    "df_2.to_csv('dataset_2_cutted.csv')\n",
    "df_3.to_csv('dataset_3_cutted.csv')\n",
    "df_4.to_csv('dataset_4_cutted.csv')"
   ],
   "metadata": {
    "collapsed": false,
    "ExecuteTime": {
     "end_time": "2024-08-17T10:11:11.412589100Z",
     "start_time": "2024-08-17T10:08:29.136135Z"
    }
   },
   "id": "4c01f3673ee959e5"
  },
  {
   "cell_type": "code",
   "execution_count": 6,
   "outputs": [],
   "source": [],
   "metadata": {
    "collapsed": false,
    "ExecuteTime": {
     "end_time": "2024-08-17T10:11:11.464760500Z",
     "start_time": "2024-08-17T10:11:11.412589100Z"
    }
   },
   "id": "6a25f70926185eba"
  }
 ],
 "metadata": {
  "kernelspec": {
   "display_name": "Python 3",
   "language": "python",
   "name": "python3"
  },
  "language_info": {
   "codemirror_mode": {
    "name": "ipython",
    "version": 2
   },
   "file_extension": ".py",
   "mimetype": "text/x-python",
   "name": "python",
   "nbconvert_exporter": "python",
   "pygments_lexer": "ipython2",
   "version": "2.7.6"
  }
 },
 "nbformat": 4,
 "nbformat_minor": 5
}
