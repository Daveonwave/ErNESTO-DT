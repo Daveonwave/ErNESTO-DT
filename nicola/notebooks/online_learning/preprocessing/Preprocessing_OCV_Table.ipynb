{
 "cells": [
  {
   "cell_type": "code",
   "execution_count": 1,
   "id": "initial_id",
   "metadata": {
    "collapsed": true,
    "ExecuteTime": {
     "end_time": "2024-08-03T13:10:05.820080200Z",
     "start_time": "2024-08-03T13:10:04.555487200Z"
    }
   },
   "outputs": [],
   "source": [
    "import pandas as pd\n",
    "import numpy as np"
   ]
  },
  {
   "cell_type": "code",
   "execution_count": 2,
   "outputs": [
    {
     "name": "stdout",
     "output_type": "stream",
     "text": [
      "dict_keys(['T = 25', 'T = 10', 'T = 40'])\n"
     ]
    }
   ],
   "source": [
    "file_path1 = '../../../data/external/DT_CU1_parameters_1_exp.xlsx'  \n",
    "all_sheets = pd.read_excel(file_path1, sheet_name=None)\n",
    "\n",
    "print(all_sheets.keys())"
   ],
   "metadata": {
    "collapsed": false,
    "ExecuteTime": {
     "end_time": "2024-08-03T13:10:06.793907900Z",
     "start_time": "2024-08-03T13:10:05.789369800Z"
    }
   },
   "id": "745ba563da1ae951"
  },
  {
   "cell_type": "code",
   "execution_count": 3,
   "outputs": [
    {
     "name": "stdout",
     "output_type": "stream",
     "text": [
      "Sheet name: T = 25\n",
      "Sheet name: T = 10\n",
      "Sheet name: T = 40\n"
     ]
    }
   ],
   "source": [
    "df_list = []\n",
    "for sheet_name, df in all_sheets.items():\n",
    "    print(f\"Sheet name: {sheet_name}\")\n",
    "    df_list.append(df)"
   ],
   "metadata": {
    "collapsed": false,
    "ExecuteTime": {
     "end_time": "2024-08-03T13:10:09.613840600Z",
     "start_time": "2024-08-03T13:10:09.499562700Z"
    }
   },
   "id": "d4dc64dbc940ddef"
  },
  {
   "cell_type": "code",
   "execution_count": 4,
   "outputs": [],
   "source": [
    "df_T_25 = df_list[0]\n",
    "df_T_10 = df_list[1]\n",
    "df_T_40 = df_list[2]"
   ],
   "metadata": {
    "collapsed": false,
    "ExecuteTime": {
     "end_time": "2024-08-03T13:10:10.364407600Z",
     "start_time": "2024-08-03T13:10:10.328413300Z"
    }
   },
   "id": "16794e05c5f12fab"
  },
  {
   "cell_type": "code",
   "execution_count": 5,
   "outputs": [
    {
     "data": {
      "text/plain": "              Soc   tau_guess  skip  num value extrap        R_0        R_1  \\\ncount   33.000000    33.00000  33.0              33.0  33.000000  33.000000   \nmean    50.000000  1655.86661   0.0               7.0   0.008112   0.010369   \nstd     32.113081     0.00000   0.0               0.0   0.000582   0.002728   \nmin      0.000000  1655.86661   0.0               7.0   0.007287   0.006666   \n25%     20.000000  1655.86661   0.0               7.0   0.007695   0.008591   \n50%     50.000000  1655.86661   0.0               7.0   0.008047   0.009720   \n75%     80.000000  1655.86661   0.0               7.0   0.008345   0.011449   \nmax    100.000000  1655.86661   0.0               7.0   0.009993   0.017574   \n\n                C_1        OCV  \ncount     33.000000  33.000000  \nmean   18274.880601  26.234325  \nstd     7076.295223   1.393025  \nmin    10131.783114  24.170000  \n25%    13999.400600  25.079000  \n50%    16565.033981  25.908000  \n75%    20378.618383  27.574000  \nmax    41591.069006  28.517429  ",
      "text/html": "<div>\n<style scoped>\n    .dataframe tbody tr th:only-of-type {\n        vertical-align: middle;\n    }\n\n    .dataframe tbody tr th {\n        vertical-align: top;\n    }\n\n    .dataframe thead th {\n        text-align: right;\n    }\n</style>\n<table border=\"1\" class=\"dataframe\">\n  <thead>\n    <tr style=\"text-align: right;\">\n      <th></th>\n      <th>Soc</th>\n      <th>tau_guess</th>\n      <th>skip</th>\n      <th>num value extrap</th>\n      <th>R_0</th>\n      <th>R_1</th>\n      <th>C_1</th>\n      <th>OCV</th>\n    </tr>\n  </thead>\n  <tbody>\n    <tr>\n      <th>count</th>\n      <td>33.000000</td>\n      <td>33.00000</td>\n      <td>33.0</td>\n      <td>33.0</td>\n      <td>33.000000</td>\n      <td>33.000000</td>\n      <td>33.000000</td>\n      <td>33.000000</td>\n    </tr>\n    <tr>\n      <th>mean</th>\n      <td>50.000000</td>\n      <td>1655.86661</td>\n      <td>0.0</td>\n      <td>7.0</td>\n      <td>0.008112</td>\n      <td>0.010369</td>\n      <td>18274.880601</td>\n      <td>26.234325</td>\n    </tr>\n    <tr>\n      <th>std</th>\n      <td>32.113081</td>\n      <td>0.00000</td>\n      <td>0.0</td>\n      <td>0.0</td>\n      <td>0.000582</td>\n      <td>0.002728</td>\n      <td>7076.295223</td>\n      <td>1.393025</td>\n    </tr>\n    <tr>\n      <th>min</th>\n      <td>0.000000</td>\n      <td>1655.86661</td>\n      <td>0.0</td>\n      <td>7.0</td>\n      <td>0.007287</td>\n      <td>0.006666</td>\n      <td>10131.783114</td>\n      <td>24.170000</td>\n    </tr>\n    <tr>\n      <th>25%</th>\n      <td>20.000000</td>\n      <td>1655.86661</td>\n      <td>0.0</td>\n      <td>7.0</td>\n      <td>0.007695</td>\n      <td>0.008591</td>\n      <td>13999.400600</td>\n      <td>25.079000</td>\n    </tr>\n    <tr>\n      <th>50%</th>\n      <td>50.000000</td>\n      <td>1655.86661</td>\n      <td>0.0</td>\n      <td>7.0</td>\n      <td>0.008047</td>\n      <td>0.009720</td>\n      <td>16565.033981</td>\n      <td>25.908000</td>\n    </tr>\n    <tr>\n      <th>75%</th>\n      <td>80.000000</td>\n      <td>1655.86661</td>\n      <td>0.0</td>\n      <td>7.0</td>\n      <td>0.008345</td>\n      <td>0.011449</td>\n      <td>20378.618383</td>\n      <td>27.574000</td>\n    </tr>\n    <tr>\n      <th>max</th>\n      <td>100.000000</td>\n      <td>1655.86661</td>\n      <td>0.0</td>\n      <td>7.0</td>\n      <td>0.009993</td>\n      <td>0.017574</td>\n      <td>41591.069006</td>\n      <td>28.517429</td>\n    </tr>\n  </tbody>\n</table>\n</div>"
     },
     "execution_count": 5,
     "metadata": {},
     "output_type": "execute_result"
    }
   ],
   "source": [
    "df_T_40.describe()"
   ],
   "metadata": {
    "collapsed": false,
    "ExecuteTime": {
     "end_time": "2024-08-03T13:10:11.519349Z",
     "start_time": "2024-08-03T13:10:11.353468100Z"
    }
   },
   "id": "f887e77e9f551498"
  },
  {
   "cell_type": "code",
   "execution_count": 6,
   "outputs": [],
   "source": [
    "columns_to_drop = ['filename', 'data', 'start interval', 'end interval',\n",
    "                   'tau_guess','num value extrap',\n",
    "                   'R squared', 'tau_opt', 'R_0', 'R_1', 'C_1']"
   ],
   "metadata": {
    "collapsed": false,
    "ExecuteTime": {
     "end_time": "2024-08-03T13:10:12.574828900Z",
     "start_time": "2024-08-03T13:10:12.488091500Z"
    }
   },
   "id": "16a1eb9cd77c2a0f"
  },
  {
   "cell_type": "code",
   "execution_count": 7,
   "outputs": [],
   "source": [
    "df_T_25 = df_T_25.drop(columns_to_drop, axis=1)\n",
    "df_T_10 = df_T_10.drop(columns_to_drop, axis=1)\n",
    "df_T_40 = df_T_40.drop(columns_to_drop, axis=1)"
   ],
   "metadata": {
    "collapsed": false,
    "ExecuteTime": {
     "end_time": "2024-08-03T13:10:14.188483500Z",
     "start_time": "2024-08-03T13:10:14.150077600Z"
    }
   },
   "id": "11d04ec1ce0e3ef2"
  },
  {
   "cell_type": "code",
   "execution_count": 8,
   "outputs": [],
   "source": [
    "df_T_25 = df_T_25.dropna()\n",
    "df_T_10 = df_T_10.dropna()\n",
    "df_T_40 = df_T_40.dropna()"
   ],
   "metadata": {
    "collapsed": false,
    "ExecuteTime": {
     "end_time": "2024-08-03T13:10:14.997272700Z",
     "start_time": "2024-08-03T13:10:14.916279400Z"
    }
   },
   "id": "a6328606b6ebdbe3"
  },
  {
   "cell_type": "code",
   "execution_count": 9,
   "outputs": [],
   "source": [
    "df_T_25['Temp'] = 25\n",
    "df_T_10['Temp'] = 10\n",
    "df_T_40['Temp'] = 40"
   ],
   "metadata": {
    "collapsed": false,
    "ExecuteTime": {
     "end_time": "2024-08-03T13:10:15.717559700Z",
     "start_time": "2024-08-03T13:10:15.670199900Z"
    }
   },
   "id": "efbdb4c4c2102205"
  },
  {
   "cell_type": "code",
   "execution_count": 10,
   "outputs": [],
   "source": [
    "df_T_25['Soc'] = df_T_25['Soc'] * 0.01\n",
    "df_T_10['Soc'] = df_T_10['Soc'] * 0.01\n",
    "df_T_40['Soc'] = df_T_40['Soc'] * 0.01"
   ],
   "metadata": {
    "collapsed": false,
    "ExecuteTime": {
     "end_time": "2024-08-03T13:10:16.469067500Z",
     "start_time": "2024-08-03T13:10:16.421753200Z"
    }
   },
   "id": "3f7dff8639ef2618"
  },
  {
   "cell_type": "code",
   "execution_count": 11,
   "outputs": [
    {
     "data": {
      "text/plain": "             Soc        OCV  Temp\ncount  55.000000  55.000000  55.0\nmean    0.500000  26.224236  25.0\nstd     0.319142   1.375532   0.0\nmin     0.000000  23.970000  25.0\n25%     0.200000  25.142500  25.0\n50%     0.500000  25.868000  25.0\n75%     0.800000  27.550000  25.0\nmax     1.000000  28.504571  25.0",
      "text/html": "<div>\n<style scoped>\n    .dataframe tbody tr th:only-of-type {\n        vertical-align: middle;\n    }\n\n    .dataframe tbody tr th {\n        vertical-align: top;\n    }\n\n    .dataframe thead th {\n        text-align: right;\n    }\n</style>\n<table border=\"1\" class=\"dataframe\">\n  <thead>\n    <tr style=\"text-align: right;\">\n      <th></th>\n      <th>Soc</th>\n      <th>OCV</th>\n      <th>Temp</th>\n    </tr>\n  </thead>\n  <tbody>\n    <tr>\n      <th>count</th>\n      <td>55.000000</td>\n      <td>55.000000</td>\n      <td>55.0</td>\n    </tr>\n    <tr>\n      <th>mean</th>\n      <td>0.500000</td>\n      <td>26.224236</td>\n      <td>25.0</td>\n    </tr>\n    <tr>\n      <th>std</th>\n      <td>0.319142</td>\n      <td>1.375532</td>\n      <td>0.0</td>\n    </tr>\n    <tr>\n      <th>min</th>\n      <td>0.000000</td>\n      <td>23.970000</td>\n      <td>25.0</td>\n    </tr>\n    <tr>\n      <th>25%</th>\n      <td>0.200000</td>\n      <td>25.142500</td>\n      <td>25.0</td>\n    </tr>\n    <tr>\n      <th>50%</th>\n      <td>0.500000</td>\n      <td>25.868000</td>\n      <td>25.0</td>\n    </tr>\n    <tr>\n      <th>75%</th>\n      <td>0.800000</td>\n      <td>27.550000</td>\n      <td>25.0</td>\n    </tr>\n    <tr>\n      <th>max</th>\n      <td>1.000000</td>\n      <td>28.504571</td>\n      <td>25.0</td>\n    </tr>\n  </tbody>\n</table>\n</div>"
     },
     "execution_count": 11,
     "metadata": {},
     "output_type": "execute_result"
    }
   ],
   "source": [
    "df_T_25.describe()"
   ],
   "metadata": {
    "collapsed": false,
    "ExecuteTime": {
     "end_time": "2024-08-03T13:10:17.944336700Z",
     "start_time": "2024-08-03T13:10:17.842300800Z"
    }
   },
   "id": "a89fe11357acf1d4"
  },
  {
   "cell_type": "code",
   "execution_count": 12,
   "outputs": [
    {
     "data": {
      "text/plain": "    Soc        OCV  Temp\n0   1.0  28.455000    25\n1   0.9  28.216000    25\n2   0.8  27.544000    25\n3   0.7  26.939000    25\n4   0.6  26.254000    25\n5   0.5  25.867000    25\n6   0.4  25.625000    25\n7   0.3  25.409000    25\n8   0.2  25.057000    25\n9   0.1  24.654000    25\n10  0.0  24.127000    25\n11  1.0  28.504571    25\n12  0.9  28.259000    25",
      "text/html": "<div>\n<style scoped>\n    .dataframe tbody tr th:only-of-type {\n        vertical-align: middle;\n    }\n\n    .dataframe tbody tr th {\n        vertical-align: top;\n    }\n\n    .dataframe thead th {\n        text-align: right;\n    }\n</style>\n<table border=\"1\" class=\"dataframe\">\n  <thead>\n    <tr style=\"text-align: right;\">\n      <th></th>\n      <th>Soc</th>\n      <th>OCV</th>\n      <th>Temp</th>\n    </tr>\n  </thead>\n  <tbody>\n    <tr>\n      <th>0</th>\n      <td>1.0</td>\n      <td>28.455000</td>\n      <td>25</td>\n    </tr>\n    <tr>\n      <th>1</th>\n      <td>0.9</td>\n      <td>28.216000</td>\n      <td>25</td>\n    </tr>\n    <tr>\n      <th>2</th>\n      <td>0.8</td>\n      <td>27.544000</td>\n      <td>25</td>\n    </tr>\n    <tr>\n      <th>3</th>\n      <td>0.7</td>\n      <td>26.939000</td>\n      <td>25</td>\n    </tr>\n    <tr>\n      <th>4</th>\n      <td>0.6</td>\n      <td>26.254000</td>\n      <td>25</td>\n    </tr>\n    <tr>\n      <th>5</th>\n      <td>0.5</td>\n      <td>25.867000</td>\n      <td>25</td>\n    </tr>\n    <tr>\n      <th>6</th>\n      <td>0.4</td>\n      <td>25.625000</td>\n      <td>25</td>\n    </tr>\n    <tr>\n      <th>7</th>\n      <td>0.3</td>\n      <td>25.409000</td>\n      <td>25</td>\n    </tr>\n    <tr>\n      <th>8</th>\n      <td>0.2</td>\n      <td>25.057000</td>\n      <td>25</td>\n    </tr>\n    <tr>\n      <th>9</th>\n      <td>0.1</td>\n      <td>24.654000</td>\n      <td>25</td>\n    </tr>\n    <tr>\n      <th>10</th>\n      <td>0.0</td>\n      <td>24.127000</td>\n      <td>25</td>\n    </tr>\n    <tr>\n      <th>11</th>\n      <td>1.0</td>\n      <td>28.504571</td>\n      <td>25</td>\n    </tr>\n    <tr>\n      <th>12</th>\n      <td>0.9</td>\n      <td>28.259000</td>\n      <td>25</td>\n    </tr>\n  </tbody>\n</table>\n</div>"
     },
     "execution_count": 12,
     "metadata": {},
     "output_type": "execute_result"
    }
   ],
   "source": [
    "df_T_25.head(13)"
   ],
   "metadata": {
    "collapsed": false,
    "ExecuteTime": {
     "end_time": "2024-08-03T13:10:20.518468100Z",
     "start_time": "2024-08-03T13:10:20.491615700Z"
    }
   },
   "id": "44ea9f962c6a45df"
  },
  {
   "cell_type": "code",
   "execution_count": 13,
   "outputs": [
    {
     "data": {
      "text/plain": "    Soc     OCV  Temp\n50  0.4  25.610    25\n51  0.3  25.401    25\n52  0.2  25.041    25\n53  0.1  24.615    25\n54  0.0  23.970    25",
      "text/html": "<div>\n<style scoped>\n    .dataframe tbody tr th:only-of-type {\n        vertical-align: middle;\n    }\n\n    .dataframe tbody tr th {\n        vertical-align: top;\n    }\n\n    .dataframe thead th {\n        text-align: right;\n    }\n</style>\n<table border=\"1\" class=\"dataframe\">\n  <thead>\n    <tr style=\"text-align: right;\">\n      <th></th>\n      <th>Soc</th>\n      <th>OCV</th>\n      <th>Temp</th>\n    </tr>\n  </thead>\n  <tbody>\n    <tr>\n      <th>50</th>\n      <td>0.4</td>\n      <td>25.610</td>\n      <td>25</td>\n    </tr>\n    <tr>\n      <th>51</th>\n      <td>0.3</td>\n      <td>25.401</td>\n      <td>25</td>\n    </tr>\n    <tr>\n      <th>52</th>\n      <td>0.2</td>\n      <td>25.041</td>\n      <td>25</td>\n    </tr>\n    <tr>\n      <th>53</th>\n      <td>0.1</td>\n      <td>24.615</td>\n      <td>25</td>\n    </tr>\n    <tr>\n      <th>54</th>\n      <td>0.0</td>\n      <td>23.970</td>\n      <td>25</td>\n    </tr>\n  </tbody>\n</table>\n</div>"
     },
     "execution_count": 13,
     "metadata": {},
     "output_type": "execute_result"
    }
   ],
   "source": [
    "df_T_25.tail()"
   ],
   "metadata": {
    "collapsed": false,
    "ExecuteTime": {
     "end_time": "2024-08-03T13:10:21.516886800Z",
     "start_time": "2024-08-03T13:10:21.357911200Z"
    }
   },
   "id": "e6b08ea2efc25858"
  },
  {
   "cell_type": "markdown",
   "source": [
    "Since experiments are repeated five times for each soc we can group by and average the results"
   ],
   "metadata": {
    "collapsed": false
   },
   "id": "1e577c2dac29da31"
  },
  {
   "cell_type": "code",
   "execution_count": 14,
   "outputs": [],
   "source": [
    "df_T_10_soc_grouped = df_T_10.groupby(['Soc'], as_index=False)['OCV'].mean()\n",
    "df_T_25_soc_grouped = df_T_25.groupby(['Soc'], as_index=False)['OCV'].mean()\n",
    "df_T_40_soc_grouped = df_T_40.groupby(['Soc'], as_index=False)['OCV'].mean()"
   ],
   "metadata": {
    "collapsed": false,
    "ExecuteTime": {
     "end_time": "2024-08-03T13:10:23.448389300Z",
     "start_time": "2024-08-03T13:10:23.348188200Z"
    }
   },
   "id": "4c888d65cfb76312"
  },
  {
   "cell_type": "code",
   "execution_count": 15,
   "outputs": [
    {
     "data": {
      "text/plain": "    Soc        OCV\n0   0.0  24.201333\n1   0.1  24.670667\n2   0.2  25.067333\n3   0.3  25.430333\n4   0.4  25.654667\n5   0.5  25.908000\n6   0.6  26.306667\n7   0.7  26.984000\n8   0.8  27.587000\n9   0.9  28.259333\n10  1.0  28.508238",
      "text/html": "<div>\n<style scoped>\n    .dataframe tbody tr th:only-of-type {\n        vertical-align: middle;\n    }\n\n    .dataframe tbody tr th {\n        vertical-align: top;\n    }\n\n    .dataframe thead th {\n        text-align: right;\n    }\n</style>\n<table border=\"1\" class=\"dataframe\">\n  <thead>\n    <tr style=\"text-align: right;\">\n      <th></th>\n      <th>Soc</th>\n      <th>OCV</th>\n    </tr>\n  </thead>\n  <tbody>\n    <tr>\n      <th>0</th>\n      <td>0.0</td>\n      <td>24.201333</td>\n    </tr>\n    <tr>\n      <th>1</th>\n      <td>0.1</td>\n      <td>24.670667</td>\n    </tr>\n    <tr>\n      <th>2</th>\n      <td>0.2</td>\n      <td>25.067333</td>\n    </tr>\n    <tr>\n      <th>3</th>\n      <td>0.3</td>\n      <td>25.430333</td>\n    </tr>\n    <tr>\n      <th>4</th>\n      <td>0.4</td>\n      <td>25.654667</td>\n    </tr>\n    <tr>\n      <th>5</th>\n      <td>0.5</td>\n      <td>25.908000</td>\n    </tr>\n    <tr>\n      <th>6</th>\n      <td>0.6</td>\n      <td>26.306667</td>\n    </tr>\n    <tr>\n      <th>7</th>\n      <td>0.7</td>\n      <td>26.984000</td>\n    </tr>\n    <tr>\n      <th>8</th>\n      <td>0.8</td>\n      <td>27.587000</td>\n    </tr>\n    <tr>\n      <th>9</th>\n      <td>0.9</td>\n      <td>28.259333</td>\n    </tr>\n    <tr>\n      <th>10</th>\n      <td>1.0</td>\n      <td>28.508238</td>\n    </tr>\n  </tbody>\n</table>\n</div>"
     },
     "execution_count": 15,
     "metadata": {},
     "output_type": "execute_result"
    }
   ],
   "source": [
    "df_T_40_soc_grouped.head(11)"
   ],
   "metadata": {
    "collapsed": false,
    "ExecuteTime": {
     "end_time": "2024-08-03T13:10:24.454445700Z",
     "start_time": "2024-08-03T13:10:24.341611400Z"
    }
   },
   "id": "436f29beed89b654"
  },
  {
   "cell_type": "code",
   "execution_count": 16,
   "outputs": [],
   "source": [
    "soc_missing = np.arange(0.05,1.,0.10)"
   ],
   "metadata": {
    "collapsed": false,
    "ExecuteTime": {
     "end_time": "2024-08-03T13:10:26.648444Z",
     "start_time": "2024-08-03T13:10:26.608433500Z"
    }
   },
   "id": "4639272b73363645"
  },
  {
   "cell_type": "code",
   "execution_count": 17,
   "outputs": [],
   "source": [
    "df_soc_missing = pd.DataFrame({'Soc': soc_missing,\n",
    "                               'OCV': None})"
   ],
   "metadata": {
    "collapsed": false,
    "ExecuteTime": {
     "end_time": "2024-08-03T13:10:27.593230200Z",
     "start_time": "2024-08-03T13:10:27.544138200Z"
    }
   },
   "id": "66ee2d3fa0e64479"
  },
  {
   "cell_type": "code",
   "execution_count": 18,
   "outputs": [
    {
     "data": {
      "text/plain": "    Soc   OCV\n0  0.05  None\n1  0.15  None\n2  0.25  None\n3  0.35  None\n4  0.45  None\n5  0.55  None\n6  0.65  None\n7  0.75  None\n8  0.85  None\n9  0.95  None",
      "text/html": "<div>\n<style scoped>\n    .dataframe tbody tr th:only-of-type {\n        vertical-align: middle;\n    }\n\n    .dataframe tbody tr th {\n        vertical-align: top;\n    }\n\n    .dataframe thead th {\n        text-align: right;\n    }\n</style>\n<table border=\"1\" class=\"dataframe\">\n  <thead>\n    <tr style=\"text-align: right;\">\n      <th></th>\n      <th>Soc</th>\n      <th>OCV</th>\n    </tr>\n  </thead>\n  <tbody>\n    <tr>\n      <th>0</th>\n      <td>0.05</td>\n      <td>None</td>\n    </tr>\n    <tr>\n      <th>1</th>\n      <td>0.15</td>\n      <td>None</td>\n    </tr>\n    <tr>\n      <th>2</th>\n      <td>0.25</td>\n      <td>None</td>\n    </tr>\n    <tr>\n      <th>3</th>\n      <td>0.35</td>\n      <td>None</td>\n    </tr>\n    <tr>\n      <th>4</th>\n      <td>0.45</td>\n      <td>None</td>\n    </tr>\n    <tr>\n      <th>5</th>\n      <td>0.55</td>\n      <td>None</td>\n    </tr>\n    <tr>\n      <th>6</th>\n      <td>0.65</td>\n      <td>None</td>\n    </tr>\n    <tr>\n      <th>7</th>\n      <td>0.75</td>\n      <td>None</td>\n    </tr>\n    <tr>\n      <th>8</th>\n      <td>0.85</td>\n      <td>None</td>\n    </tr>\n    <tr>\n      <th>9</th>\n      <td>0.95</td>\n      <td>None</td>\n    </tr>\n  </tbody>\n</table>\n</div>"
     },
     "execution_count": 18,
     "metadata": {},
     "output_type": "execute_result"
    }
   ],
   "source": [
    "df_soc_missing.head(10)"
   ],
   "metadata": {
    "collapsed": false,
    "ExecuteTime": {
     "end_time": "2024-08-03T13:10:28.317902500Z",
     "start_time": "2024-08-03T13:10:28.182022500Z"
    }
   },
   "id": "2ea542fad72b5f6e"
  },
  {
   "cell_type": "code",
   "execution_count": 19,
   "outputs": [],
   "source": [
    "df_T_40_enhanced = pd.concat([df_soc_missing, df_T_40_soc_grouped],\n",
    "                             ignore_index=True).sort_values('Soc')\n",
    "df_T_25_enhanced = pd.concat([df_soc_missing, df_T_25_soc_grouped],\n",
    "                             ignore_index=True).sort_values('Soc')\n",
    "df_T_10_enhanced = pd.concat([df_soc_missing, df_T_10_soc_grouped],\n",
    "                             ignore_index=True).sort_values('Soc')\n"
   ],
   "metadata": {
    "collapsed": false,
    "ExecuteTime": {
     "end_time": "2024-08-03T13:10:29.912835200Z",
     "start_time": "2024-08-03T13:10:29.879790100Z"
    }
   },
   "id": "ee4161ff99abc17e"
  },
  {
   "cell_type": "code",
   "execution_count": 20,
   "outputs": [
    {
     "data": {
      "text/plain": "     Soc        OCV\n10  0.00  24.201333\n0   0.05        NaN\n11  0.10  24.670667\n1   0.15        NaN\n12  0.20  25.067333\n2   0.25        NaN\n13  0.30  25.430333\n3   0.35        NaN\n14  0.40  25.654667\n4   0.45        NaN\n15  0.50  25.908000\n5   0.55        NaN\n16  0.60  26.306667\n6   0.65        NaN\n17  0.70  26.984000\n7   0.75        NaN\n18  0.80  27.587000\n8   0.85        NaN\n19  0.90  28.259333\n9   0.95        NaN\n20  1.00  28.508238",
      "text/html": "<div>\n<style scoped>\n    .dataframe tbody tr th:only-of-type {\n        vertical-align: middle;\n    }\n\n    .dataframe tbody tr th {\n        vertical-align: top;\n    }\n\n    .dataframe thead th {\n        text-align: right;\n    }\n</style>\n<table border=\"1\" class=\"dataframe\">\n  <thead>\n    <tr style=\"text-align: right;\">\n      <th></th>\n      <th>Soc</th>\n      <th>OCV</th>\n    </tr>\n  </thead>\n  <tbody>\n    <tr>\n      <th>10</th>\n      <td>0.00</td>\n      <td>24.201333</td>\n    </tr>\n    <tr>\n      <th>0</th>\n      <td>0.05</td>\n      <td>NaN</td>\n    </tr>\n    <tr>\n      <th>11</th>\n      <td>0.10</td>\n      <td>24.670667</td>\n    </tr>\n    <tr>\n      <th>1</th>\n      <td>0.15</td>\n      <td>NaN</td>\n    </tr>\n    <tr>\n      <th>12</th>\n      <td>0.20</td>\n      <td>25.067333</td>\n    </tr>\n    <tr>\n      <th>2</th>\n      <td>0.25</td>\n      <td>NaN</td>\n    </tr>\n    <tr>\n      <th>13</th>\n      <td>0.30</td>\n      <td>25.430333</td>\n    </tr>\n    <tr>\n      <th>3</th>\n      <td>0.35</td>\n      <td>NaN</td>\n    </tr>\n    <tr>\n      <th>14</th>\n      <td>0.40</td>\n      <td>25.654667</td>\n    </tr>\n    <tr>\n      <th>4</th>\n      <td>0.45</td>\n      <td>NaN</td>\n    </tr>\n    <tr>\n      <th>15</th>\n      <td>0.50</td>\n      <td>25.908000</td>\n    </tr>\n    <tr>\n      <th>5</th>\n      <td>0.55</td>\n      <td>NaN</td>\n    </tr>\n    <tr>\n      <th>16</th>\n      <td>0.60</td>\n      <td>26.306667</td>\n    </tr>\n    <tr>\n      <th>6</th>\n      <td>0.65</td>\n      <td>NaN</td>\n    </tr>\n    <tr>\n      <th>17</th>\n      <td>0.70</td>\n      <td>26.984000</td>\n    </tr>\n    <tr>\n      <th>7</th>\n      <td>0.75</td>\n      <td>NaN</td>\n    </tr>\n    <tr>\n      <th>18</th>\n      <td>0.80</td>\n      <td>27.587000</td>\n    </tr>\n    <tr>\n      <th>8</th>\n      <td>0.85</td>\n      <td>NaN</td>\n    </tr>\n    <tr>\n      <th>19</th>\n      <td>0.90</td>\n      <td>28.259333</td>\n    </tr>\n    <tr>\n      <th>9</th>\n      <td>0.95</td>\n      <td>NaN</td>\n    </tr>\n    <tr>\n      <th>20</th>\n      <td>1.00</td>\n      <td>28.508238</td>\n    </tr>\n  </tbody>\n</table>\n</div>"
     },
     "execution_count": 20,
     "metadata": {},
     "output_type": "execute_result"
    }
   ],
   "source": [
    "df_T_40_enhanced.head(21)"
   ],
   "metadata": {
    "collapsed": false,
    "ExecuteTime": {
     "end_time": "2024-08-03T13:10:30.923963100Z",
     "start_time": "2024-08-03T13:10:30.858026200Z"
    }
   },
   "id": "83d52ac8090df13f"
  },
  {
   "cell_type": "code",
   "execution_count": 21,
   "outputs": [],
   "source": [
    "df_T_10_interpolated = df_T_10_enhanced.interpolate(method='linear')\n",
    "df_T_25_interpolated = df_T_25_enhanced.interpolate(method='linear')\n",
    "df_T_40_interpolated = df_T_40_enhanced.interpolate(method='linear')"
   ],
   "metadata": {
    "collapsed": false,
    "ExecuteTime": {
     "end_time": "2024-08-03T13:10:32.331430100Z",
     "start_time": "2024-08-03T13:10:32.209337100Z"
    }
   },
   "id": "741ef1b35c70c263"
  },
  {
   "cell_type": "code",
   "execution_count": 22,
   "outputs": [
    {
     "data": {
      "text/plain": "     Soc        OCV\n10  0.00  24.201333\n0   0.05  24.436000\n11  0.10  24.670667\n1   0.15  24.869000\n12  0.20  25.067333\n2   0.25  25.248833\n13  0.30  25.430333\n3   0.35  25.542500\n14  0.40  25.654667\n4   0.45  25.781333\n15  0.50  25.908000\n5   0.55  26.107333\n16  0.60  26.306667\n6   0.65  26.645333\n17  0.70  26.984000\n7   0.75  27.285500\n18  0.80  27.587000\n8   0.85  27.923167\n19  0.90  28.259333\n9   0.95  28.383786\n20  1.00  28.508238",
      "text/html": "<div>\n<style scoped>\n    .dataframe tbody tr th:only-of-type {\n        vertical-align: middle;\n    }\n\n    .dataframe tbody tr th {\n        vertical-align: top;\n    }\n\n    .dataframe thead th {\n        text-align: right;\n    }\n</style>\n<table border=\"1\" class=\"dataframe\">\n  <thead>\n    <tr style=\"text-align: right;\">\n      <th></th>\n      <th>Soc</th>\n      <th>OCV</th>\n    </tr>\n  </thead>\n  <tbody>\n    <tr>\n      <th>10</th>\n      <td>0.00</td>\n      <td>24.201333</td>\n    </tr>\n    <tr>\n      <th>0</th>\n      <td>0.05</td>\n      <td>24.436000</td>\n    </tr>\n    <tr>\n      <th>11</th>\n      <td>0.10</td>\n      <td>24.670667</td>\n    </tr>\n    <tr>\n      <th>1</th>\n      <td>0.15</td>\n      <td>24.869000</td>\n    </tr>\n    <tr>\n      <th>12</th>\n      <td>0.20</td>\n      <td>25.067333</td>\n    </tr>\n    <tr>\n      <th>2</th>\n      <td>0.25</td>\n      <td>25.248833</td>\n    </tr>\n    <tr>\n      <th>13</th>\n      <td>0.30</td>\n      <td>25.430333</td>\n    </tr>\n    <tr>\n      <th>3</th>\n      <td>0.35</td>\n      <td>25.542500</td>\n    </tr>\n    <tr>\n      <th>14</th>\n      <td>0.40</td>\n      <td>25.654667</td>\n    </tr>\n    <tr>\n      <th>4</th>\n      <td>0.45</td>\n      <td>25.781333</td>\n    </tr>\n    <tr>\n      <th>15</th>\n      <td>0.50</td>\n      <td>25.908000</td>\n    </tr>\n    <tr>\n      <th>5</th>\n      <td>0.55</td>\n      <td>26.107333</td>\n    </tr>\n    <tr>\n      <th>16</th>\n      <td>0.60</td>\n      <td>26.306667</td>\n    </tr>\n    <tr>\n      <th>6</th>\n      <td>0.65</td>\n      <td>26.645333</td>\n    </tr>\n    <tr>\n      <th>17</th>\n      <td>0.70</td>\n      <td>26.984000</td>\n    </tr>\n    <tr>\n      <th>7</th>\n      <td>0.75</td>\n      <td>27.285500</td>\n    </tr>\n    <tr>\n      <th>18</th>\n      <td>0.80</td>\n      <td>27.587000</td>\n    </tr>\n    <tr>\n      <th>8</th>\n      <td>0.85</td>\n      <td>27.923167</td>\n    </tr>\n    <tr>\n      <th>19</th>\n      <td>0.90</td>\n      <td>28.259333</td>\n    </tr>\n    <tr>\n      <th>9</th>\n      <td>0.95</td>\n      <td>28.383786</td>\n    </tr>\n    <tr>\n      <th>20</th>\n      <td>1.00</td>\n      <td>28.508238</td>\n    </tr>\n  </tbody>\n</table>\n</div>"
     },
     "execution_count": 22,
     "metadata": {},
     "output_type": "execute_result"
    }
   ],
   "source": [
    "df_T_40_interpolated.head(21)"
   ],
   "metadata": {
    "collapsed": false,
    "ExecuteTime": {
     "end_time": "2024-08-03T13:10:33.479110600Z",
     "start_time": "2024-08-03T13:10:33.445655200Z"
    }
   },
   "id": "14b5ce803c524a6e"
  },
  {
   "cell_type": "code",
   "execution_count": 23,
   "outputs": [],
   "source": [
    "df_T_10_final = df_T_10_interpolated.reset_index(drop= True)\n",
    "df_T_25_final = df_T_25_interpolated.reset_index(drop= True)\n",
    "df_T_40_final = df_T_40_interpolated.reset_index(drop= True)"
   ],
   "metadata": {
    "collapsed": false,
    "ExecuteTime": {
     "end_time": "2024-08-03T13:10:36.225571100Z",
     "start_time": "2024-08-03T13:10:36.192136100Z"
    }
   },
   "id": "ecf972a269cedea0"
  },
  {
   "cell_type": "code",
   "execution_count": 24,
   "outputs": [],
   "source": [
    "df_T_10_final['Temp'] = 10\n",
    "df_T_25_final['Temp'] = 25\n",
    "df_T_40_final['Temp'] = 40"
   ],
   "metadata": {
    "collapsed": false,
    "ExecuteTime": {
     "end_time": "2024-08-03T13:10:37.080532600Z",
     "start_time": "2024-08-03T13:10:37.038826200Z"
    }
   },
   "id": "b6c77b58f22f348f"
  },
  {
   "cell_type": "code",
   "execution_count": 25,
   "outputs": [
    {
     "data": {
      "text/plain": "     Soc        OCV  Temp\n0   0.00  24.201333    40\n1   0.05  24.436000    40\n2   0.10  24.670667    40\n3   0.15  24.869000    40\n4   0.20  25.067333    40\n5   0.25  25.248833    40\n6   0.30  25.430333    40\n7   0.35  25.542500    40\n8   0.40  25.654667    40\n9   0.45  25.781333    40\n10  0.50  25.908000    40\n11  0.55  26.107333    40\n12  0.60  26.306667    40\n13  0.65  26.645333    40\n14  0.70  26.984000    40\n15  0.75  27.285500    40\n16  0.80  27.587000    40\n17  0.85  27.923167    40\n18  0.90  28.259333    40\n19  0.95  28.383786    40\n20  1.00  28.508238    40",
      "text/html": "<div>\n<style scoped>\n    .dataframe tbody tr th:only-of-type {\n        vertical-align: middle;\n    }\n\n    .dataframe tbody tr th {\n        vertical-align: top;\n    }\n\n    .dataframe thead th {\n        text-align: right;\n    }\n</style>\n<table border=\"1\" class=\"dataframe\">\n  <thead>\n    <tr style=\"text-align: right;\">\n      <th></th>\n      <th>Soc</th>\n      <th>OCV</th>\n      <th>Temp</th>\n    </tr>\n  </thead>\n  <tbody>\n    <tr>\n      <th>0</th>\n      <td>0.00</td>\n      <td>24.201333</td>\n      <td>40</td>\n    </tr>\n    <tr>\n      <th>1</th>\n      <td>0.05</td>\n      <td>24.436000</td>\n      <td>40</td>\n    </tr>\n    <tr>\n      <th>2</th>\n      <td>0.10</td>\n      <td>24.670667</td>\n      <td>40</td>\n    </tr>\n    <tr>\n      <th>3</th>\n      <td>0.15</td>\n      <td>24.869000</td>\n      <td>40</td>\n    </tr>\n    <tr>\n      <th>4</th>\n      <td>0.20</td>\n      <td>25.067333</td>\n      <td>40</td>\n    </tr>\n    <tr>\n      <th>5</th>\n      <td>0.25</td>\n      <td>25.248833</td>\n      <td>40</td>\n    </tr>\n    <tr>\n      <th>6</th>\n      <td>0.30</td>\n      <td>25.430333</td>\n      <td>40</td>\n    </tr>\n    <tr>\n      <th>7</th>\n      <td>0.35</td>\n      <td>25.542500</td>\n      <td>40</td>\n    </tr>\n    <tr>\n      <th>8</th>\n      <td>0.40</td>\n      <td>25.654667</td>\n      <td>40</td>\n    </tr>\n    <tr>\n      <th>9</th>\n      <td>0.45</td>\n      <td>25.781333</td>\n      <td>40</td>\n    </tr>\n    <tr>\n      <th>10</th>\n      <td>0.50</td>\n      <td>25.908000</td>\n      <td>40</td>\n    </tr>\n    <tr>\n      <th>11</th>\n      <td>0.55</td>\n      <td>26.107333</td>\n      <td>40</td>\n    </tr>\n    <tr>\n      <th>12</th>\n      <td>0.60</td>\n      <td>26.306667</td>\n      <td>40</td>\n    </tr>\n    <tr>\n      <th>13</th>\n      <td>0.65</td>\n      <td>26.645333</td>\n      <td>40</td>\n    </tr>\n    <tr>\n      <th>14</th>\n      <td>0.70</td>\n      <td>26.984000</td>\n      <td>40</td>\n    </tr>\n    <tr>\n      <th>15</th>\n      <td>0.75</td>\n      <td>27.285500</td>\n      <td>40</td>\n    </tr>\n    <tr>\n      <th>16</th>\n      <td>0.80</td>\n      <td>27.587000</td>\n      <td>40</td>\n    </tr>\n    <tr>\n      <th>17</th>\n      <td>0.85</td>\n      <td>27.923167</td>\n      <td>40</td>\n    </tr>\n    <tr>\n      <th>18</th>\n      <td>0.90</td>\n      <td>28.259333</td>\n      <td>40</td>\n    </tr>\n    <tr>\n      <th>19</th>\n      <td>0.95</td>\n      <td>28.383786</td>\n      <td>40</td>\n    </tr>\n    <tr>\n      <th>20</th>\n      <td>1.00</td>\n      <td>28.508238</td>\n      <td>40</td>\n    </tr>\n  </tbody>\n</table>\n</div>"
     },
     "execution_count": 25,
     "metadata": {},
     "output_type": "execute_result"
    }
   ],
   "source": [
    "df_T_40_final.head(21)"
   ],
   "metadata": {
    "collapsed": false,
    "ExecuteTime": {
     "end_time": "2024-08-03T13:10:37.917900600Z",
     "start_time": "2024-08-03T13:10:37.843124900Z"
    }
   },
   "id": "940a9cd3d8a00faa"
  },
  {
   "cell_type": "code",
   "execution_count": 26,
   "outputs": [],
   "source": [
    "df_T_concatenated = pd.concat([df_T_10_final,df_T_25_final,df_T_40_final])"
   ],
   "metadata": {
    "collapsed": false,
    "ExecuteTime": {
     "end_time": "2024-08-03T13:10:38.896670Z",
     "start_time": "2024-08-03T13:10:38.833271300Z"
    }
   },
   "id": "1628663db5f4eb36"
  },
  {
   "cell_type": "code",
   "execution_count": 27,
   "outputs": [
    {
     "data": {
      "text/plain": "             Soc        OCV       Temp\ncount  63.000000  63.000000  63.000000\nmean    0.500000  26.209074  25.000000\nstd     0.305197   1.313436  12.345823\nmin     0.000000  24.196000  10.000000\n25%     0.250000  25.229500  10.000000\n50%     0.500000  25.882600  25.000000\n75%     0.750000  27.276150  40.000000\nmax     1.000000  28.508238  40.000000",
      "text/html": "<div>\n<style scoped>\n    .dataframe tbody tr th:only-of-type {\n        vertical-align: middle;\n    }\n\n    .dataframe tbody tr th {\n        vertical-align: top;\n    }\n\n    .dataframe thead th {\n        text-align: right;\n    }\n</style>\n<table border=\"1\" class=\"dataframe\">\n  <thead>\n    <tr style=\"text-align: right;\">\n      <th></th>\n      <th>Soc</th>\n      <th>OCV</th>\n      <th>Temp</th>\n    </tr>\n  </thead>\n  <tbody>\n    <tr>\n      <th>count</th>\n      <td>63.000000</td>\n      <td>63.000000</td>\n      <td>63.000000</td>\n    </tr>\n    <tr>\n      <th>mean</th>\n      <td>0.500000</td>\n      <td>26.209074</td>\n      <td>25.000000</td>\n    </tr>\n    <tr>\n      <th>std</th>\n      <td>0.305197</td>\n      <td>1.313436</td>\n      <td>12.345823</td>\n    </tr>\n    <tr>\n      <th>min</th>\n      <td>0.000000</td>\n      <td>24.196000</td>\n      <td>10.000000</td>\n    </tr>\n    <tr>\n      <th>25%</th>\n      <td>0.250000</td>\n      <td>25.229500</td>\n      <td>10.000000</td>\n    </tr>\n    <tr>\n      <th>50%</th>\n      <td>0.500000</td>\n      <td>25.882600</td>\n      <td>25.000000</td>\n    </tr>\n    <tr>\n      <th>75%</th>\n      <td>0.750000</td>\n      <td>27.276150</td>\n      <td>40.000000</td>\n    </tr>\n    <tr>\n      <th>max</th>\n      <td>1.000000</td>\n      <td>28.508238</td>\n      <td>40.000000</td>\n    </tr>\n  </tbody>\n</table>\n</div>"
     },
     "execution_count": 27,
     "metadata": {},
     "output_type": "execute_result"
    }
   ],
   "source": [
    "df_T_concatenated.describe()"
   ],
   "metadata": {
    "collapsed": false,
    "ExecuteTime": {
     "end_time": "2024-08-03T13:10:43.981401100Z",
     "start_time": "2024-08-03T13:10:43.894802500Z"
    }
   },
   "id": "23018f23c7c9f4b0"
  },
  {
   "cell_type": "code",
   "execution_count": 28,
   "outputs": [],
   "source": [
    "soc = np.arange(0.00,1.05,0.05)\n",
    "df_tmp_20 = pd.DataFrame({\n",
    "    'Soc' : soc,\n",
    "    'Temp': 20,\n",
    "    'OCV': None\n",
    "})\n",
    "df_tmp_30 = pd.DataFrame({\n",
    "    'Soc' : soc,\n",
    "    'Temp': 30,\n",
    "    'OCV': None\n",
    "})"
   ],
   "metadata": {
    "collapsed": false,
    "ExecuteTime": {
     "end_time": "2024-08-03T13:10:46.599372700Z",
     "start_time": "2024-08-03T13:10:46.493887100Z"
    }
   },
   "id": "19fb08fb669b841"
  },
  {
   "cell_type": "code",
   "execution_count": 29,
   "outputs": [],
   "source": [
    "df_T_enhanced = pd.concat([df_T_concatenated,df_tmp_20, df_tmp_30], ignore_index=True).sort_values('Temp')"
   ],
   "metadata": {
    "collapsed": false,
    "ExecuteTime": {
     "end_time": "2024-08-03T13:10:48.083610100Z",
     "start_time": "2024-08-03T13:10:48.011237300Z"
    }
   },
   "id": "1f921eb0aacf30f2"
  },
  {
   "cell_type": "code",
   "execution_count": 33,
   "outputs": [
    {
     "data": {
      "text/plain": "     Soc        OCV  Temp\n0   0.00  24.352667    10\n20  1.00  28.448000    10\n18  0.90  28.218667    10\n17  0.85  27.874833    10\n16  0.80  27.531000    10\n15  0.75  27.216500    10\n14  0.70  26.902000    10\n13  0.65  26.554667    10\n12  0.60  26.207333    10\n11  0.55  26.017833    10\n19  0.95  28.333333    10\n9   0.45  25.706000    10\n8   0.40  25.583667    10\n7   0.35  25.481667    10\n6   0.30  25.379667    10\n5   0.25  25.210167    10\n4   0.20  25.040667    10\n3   0.15  24.819167    10\n2   0.10  24.597667    10\n1   0.05  24.475167    10\n10  0.50  25.828333    10\n68  0.25        NaN    20\n67  0.20        NaN    20\n63  0.00        NaN    20\n65  0.10        NaN    20\n64  0.05        NaN    20\n69  0.30        NaN    20\n66  0.15        NaN    20\n70  0.35        NaN    20\n75  0.60        NaN    20\n72  0.45        NaN    20\n73  0.50        NaN    20\n74  0.55        NaN    20\n76  0.65        NaN    20\n77  0.70        NaN    20\n78  0.75        NaN    20\n79  0.80        NaN    20\n82  0.95        NaN    20\n71  0.40        NaN    20\n83  1.00        NaN    20",
      "text/html": "<div>\n<style scoped>\n    .dataframe tbody tr th:only-of-type {\n        vertical-align: middle;\n    }\n\n    .dataframe tbody tr th {\n        vertical-align: top;\n    }\n\n    .dataframe thead th {\n        text-align: right;\n    }\n</style>\n<table border=\"1\" class=\"dataframe\">\n  <thead>\n    <tr style=\"text-align: right;\">\n      <th></th>\n      <th>Soc</th>\n      <th>OCV</th>\n      <th>Temp</th>\n    </tr>\n  </thead>\n  <tbody>\n    <tr>\n      <th>0</th>\n      <td>0.00</td>\n      <td>24.352667</td>\n      <td>10</td>\n    </tr>\n    <tr>\n      <th>20</th>\n      <td>1.00</td>\n      <td>28.448000</td>\n      <td>10</td>\n    </tr>\n    <tr>\n      <th>18</th>\n      <td>0.90</td>\n      <td>28.218667</td>\n      <td>10</td>\n    </tr>\n    <tr>\n      <th>17</th>\n      <td>0.85</td>\n      <td>27.874833</td>\n      <td>10</td>\n    </tr>\n    <tr>\n      <th>16</th>\n      <td>0.80</td>\n      <td>27.531000</td>\n      <td>10</td>\n    </tr>\n    <tr>\n      <th>15</th>\n      <td>0.75</td>\n      <td>27.216500</td>\n      <td>10</td>\n    </tr>\n    <tr>\n      <th>14</th>\n      <td>0.70</td>\n      <td>26.902000</td>\n      <td>10</td>\n    </tr>\n    <tr>\n      <th>13</th>\n      <td>0.65</td>\n      <td>26.554667</td>\n      <td>10</td>\n    </tr>\n    <tr>\n      <th>12</th>\n      <td>0.60</td>\n      <td>26.207333</td>\n      <td>10</td>\n    </tr>\n    <tr>\n      <th>11</th>\n      <td>0.55</td>\n      <td>26.017833</td>\n      <td>10</td>\n    </tr>\n    <tr>\n      <th>19</th>\n      <td>0.95</td>\n      <td>28.333333</td>\n      <td>10</td>\n    </tr>\n    <tr>\n      <th>9</th>\n      <td>0.45</td>\n      <td>25.706000</td>\n      <td>10</td>\n    </tr>\n    <tr>\n      <th>8</th>\n      <td>0.40</td>\n      <td>25.583667</td>\n      <td>10</td>\n    </tr>\n    <tr>\n      <th>7</th>\n      <td>0.35</td>\n      <td>25.481667</td>\n      <td>10</td>\n    </tr>\n    <tr>\n      <th>6</th>\n      <td>0.30</td>\n      <td>25.379667</td>\n      <td>10</td>\n    </tr>\n    <tr>\n      <th>5</th>\n      <td>0.25</td>\n      <td>25.210167</td>\n      <td>10</td>\n    </tr>\n    <tr>\n      <th>4</th>\n      <td>0.20</td>\n      <td>25.040667</td>\n      <td>10</td>\n    </tr>\n    <tr>\n      <th>3</th>\n      <td>0.15</td>\n      <td>24.819167</td>\n      <td>10</td>\n    </tr>\n    <tr>\n      <th>2</th>\n      <td>0.10</td>\n      <td>24.597667</td>\n      <td>10</td>\n    </tr>\n    <tr>\n      <th>1</th>\n      <td>0.05</td>\n      <td>24.475167</td>\n      <td>10</td>\n    </tr>\n    <tr>\n      <th>10</th>\n      <td>0.50</td>\n      <td>25.828333</td>\n      <td>10</td>\n    </tr>\n    <tr>\n      <th>68</th>\n      <td>0.25</td>\n      <td>NaN</td>\n      <td>20</td>\n    </tr>\n    <tr>\n      <th>67</th>\n      <td>0.20</td>\n      <td>NaN</td>\n      <td>20</td>\n    </tr>\n    <tr>\n      <th>63</th>\n      <td>0.00</td>\n      <td>NaN</td>\n      <td>20</td>\n    </tr>\n    <tr>\n      <th>65</th>\n      <td>0.10</td>\n      <td>NaN</td>\n      <td>20</td>\n    </tr>\n    <tr>\n      <th>64</th>\n      <td>0.05</td>\n      <td>NaN</td>\n      <td>20</td>\n    </tr>\n    <tr>\n      <th>69</th>\n      <td>0.30</td>\n      <td>NaN</td>\n      <td>20</td>\n    </tr>\n    <tr>\n      <th>66</th>\n      <td>0.15</td>\n      <td>NaN</td>\n      <td>20</td>\n    </tr>\n    <tr>\n      <th>70</th>\n      <td>0.35</td>\n      <td>NaN</td>\n      <td>20</td>\n    </tr>\n    <tr>\n      <th>75</th>\n      <td>0.60</td>\n      <td>NaN</td>\n      <td>20</td>\n    </tr>\n    <tr>\n      <th>72</th>\n      <td>0.45</td>\n      <td>NaN</td>\n      <td>20</td>\n    </tr>\n    <tr>\n      <th>73</th>\n      <td>0.50</td>\n      <td>NaN</td>\n      <td>20</td>\n    </tr>\n    <tr>\n      <th>74</th>\n      <td>0.55</td>\n      <td>NaN</td>\n      <td>20</td>\n    </tr>\n    <tr>\n      <th>76</th>\n      <td>0.65</td>\n      <td>NaN</td>\n      <td>20</td>\n    </tr>\n    <tr>\n      <th>77</th>\n      <td>0.70</td>\n      <td>NaN</td>\n      <td>20</td>\n    </tr>\n    <tr>\n      <th>78</th>\n      <td>0.75</td>\n      <td>NaN</td>\n      <td>20</td>\n    </tr>\n    <tr>\n      <th>79</th>\n      <td>0.80</td>\n      <td>NaN</td>\n      <td>20</td>\n    </tr>\n    <tr>\n      <th>82</th>\n      <td>0.95</td>\n      <td>NaN</td>\n      <td>20</td>\n    </tr>\n    <tr>\n      <th>71</th>\n      <td>0.40</td>\n      <td>NaN</td>\n      <td>20</td>\n    </tr>\n    <tr>\n      <th>83</th>\n      <td>1.00</td>\n      <td>NaN</td>\n      <td>20</td>\n    </tr>\n  </tbody>\n</table>\n</div>"
     },
     "execution_count": 33,
     "metadata": {},
     "output_type": "execute_result"
    }
   ],
   "source": [
    "df_T_enhanced.head(40)"
   ],
   "metadata": {
    "collapsed": false,
    "ExecuteTime": {
     "end_time": "2024-08-03T13:13:04.308501200Z",
     "start_time": "2024-08-03T13:13:04.160869800Z"
    }
   },
   "id": "1c47f5ee1c928cf6"
  },
  {
   "cell_type": "code",
   "execution_count": 31,
   "outputs": [],
   "source": [
    "df_T_interpolated = df_T_enhanced.interpolate(method='linear')"
   ],
   "metadata": {
    "collapsed": false,
    "ExecuteTime": {
     "end_time": "2024-08-03T13:12:28.958988900Z",
     "start_time": "2024-08-03T13:12:28.934317900Z"
    }
   },
   "id": "dbc55441b0b996ad"
  },
  {
   "cell_type": "code",
   "execution_count": 35,
   "outputs": [
    {
     "data": {
      "text/plain": "      Soc        OCV  Temp\n0    0.00  24.352667    10\n20   1.00  28.448000    10\n18   0.90  28.218667    10\n17   0.85  27.874833    10\n16   0.80  27.531000    10\n..    ...        ...   ...\n100  0.80  28.367389    30\n99   0.75  28.368252    30\n98   0.70  28.369115    30\n97   0.65  28.369978    30\n96   0.60  28.370841    30\n\n[70 rows x 3 columns]",
      "text/html": "<div>\n<style scoped>\n    .dataframe tbody tr th:only-of-type {\n        vertical-align: middle;\n    }\n\n    .dataframe tbody tr th {\n        vertical-align: top;\n    }\n\n    .dataframe thead th {\n        text-align: right;\n    }\n</style>\n<table border=\"1\" class=\"dataframe\">\n  <thead>\n    <tr style=\"text-align: right;\">\n      <th></th>\n      <th>Soc</th>\n      <th>OCV</th>\n      <th>Temp</th>\n    </tr>\n  </thead>\n  <tbody>\n    <tr>\n      <th>0</th>\n      <td>0.00</td>\n      <td>24.352667</td>\n      <td>10</td>\n    </tr>\n    <tr>\n      <th>20</th>\n      <td>1.00</td>\n      <td>28.448000</td>\n      <td>10</td>\n    </tr>\n    <tr>\n      <th>18</th>\n      <td>0.90</td>\n      <td>28.218667</td>\n      <td>10</td>\n    </tr>\n    <tr>\n      <th>17</th>\n      <td>0.85</td>\n      <td>27.874833</td>\n      <td>10</td>\n    </tr>\n    <tr>\n      <th>16</th>\n      <td>0.80</td>\n      <td>27.531000</td>\n      <td>10</td>\n    </tr>\n    <tr>\n      <th>...</th>\n      <td>...</td>\n      <td>...</td>\n      <td>...</td>\n    </tr>\n    <tr>\n      <th>100</th>\n      <td>0.80</td>\n      <td>28.367389</td>\n      <td>30</td>\n    </tr>\n    <tr>\n      <th>99</th>\n      <td>0.75</td>\n      <td>28.368252</td>\n      <td>30</td>\n    </tr>\n    <tr>\n      <th>98</th>\n      <td>0.70</td>\n      <td>28.369115</td>\n      <td>30</td>\n    </tr>\n    <tr>\n      <th>97</th>\n      <td>0.65</td>\n      <td>28.369978</td>\n      <td>30</td>\n    </tr>\n    <tr>\n      <th>96</th>\n      <td>0.60</td>\n      <td>28.370841</td>\n      <td>30</td>\n    </tr>\n  </tbody>\n</table>\n<p>70 rows × 3 columns</p>\n</div>"
     },
     "execution_count": 35,
     "metadata": {},
     "output_type": "execute_result"
    }
   ],
   "source": [
    "df_T_interpolated.head(70)"
   ],
   "metadata": {
    "collapsed": false,
    "ExecuteTime": {
     "end_time": "2024-08-03T13:14:22.969501800Z",
     "start_time": "2024-08-03T13:14:22.894775800Z"
    }
   },
   "id": "f374f89d4e39e65b"
  },
  {
   "cell_type": "code",
   "execution_count": 36,
   "outputs": [],
   "source": [
    "df_T_final = df_T_interpolated.reset_index(drop= True)"
   ],
   "metadata": {
    "collapsed": false,
    "ExecuteTime": {
     "end_time": "2024-08-03T13:15:25.299139500Z",
     "start_time": "2024-08-03T13:15:25.177800700Z"
    }
   },
   "id": "8509369199c50395"
  },
  {
   "cell_type": "code",
   "execution_count": 39,
   "outputs": [
    {
     "data": {
      "text/plain": "     Soc        OCV  Temp\n0   0.00  24.352667    10\n1   1.00  28.448000    10\n2   0.90  28.218667    10\n3   0.85  27.874833    10\n4   0.80  27.531000    10\n..   ...        ...   ...\n76  0.25  28.376882    30\n77  0.20  28.377745    30\n78  0.15  28.378608    30\n79  0.10  28.379471    30\n80  0.00  28.380334    30\n\n[81 rows x 3 columns]",
      "text/html": "<div>\n<style scoped>\n    .dataframe tbody tr th:only-of-type {\n        vertical-align: middle;\n    }\n\n    .dataframe tbody tr th {\n        vertical-align: top;\n    }\n\n    .dataframe thead th {\n        text-align: right;\n    }\n</style>\n<table border=\"1\" class=\"dataframe\">\n  <thead>\n    <tr style=\"text-align: right;\">\n      <th></th>\n      <th>Soc</th>\n      <th>OCV</th>\n      <th>Temp</th>\n    </tr>\n  </thead>\n  <tbody>\n    <tr>\n      <th>0</th>\n      <td>0.00</td>\n      <td>24.352667</td>\n      <td>10</td>\n    </tr>\n    <tr>\n      <th>1</th>\n      <td>1.00</td>\n      <td>28.448000</td>\n      <td>10</td>\n    </tr>\n    <tr>\n      <th>2</th>\n      <td>0.90</td>\n      <td>28.218667</td>\n      <td>10</td>\n    </tr>\n    <tr>\n      <th>3</th>\n      <td>0.85</td>\n      <td>27.874833</td>\n      <td>10</td>\n    </tr>\n    <tr>\n      <th>4</th>\n      <td>0.80</td>\n      <td>27.531000</td>\n      <td>10</td>\n    </tr>\n    <tr>\n      <th>...</th>\n      <td>...</td>\n      <td>...</td>\n      <td>...</td>\n    </tr>\n    <tr>\n      <th>76</th>\n      <td>0.25</td>\n      <td>28.376882</td>\n      <td>30</td>\n    </tr>\n    <tr>\n      <th>77</th>\n      <td>0.20</td>\n      <td>28.377745</td>\n      <td>30</td>\n    </tr>\n    <tr>\n      <th>78</th>\n      <td>0.15</td>\n      <td>28.378608</td>\n      <td>30</td>\n    </tr>\n    <tr>\n      <th>79</th>\n      <td>0.10</td>\n      <td>28.379471</td>\n      <td>30</td>\n    </tr>\n    <tr>\n      <th>80</th>\n      <td>0.00</td>\n      <td>28.380334</td>\n      <td>30</td>\n    </tr>\n  </tbody>\n</table>\n<p>81 rows × 3 columns</p>\n</div>"
     },
     "execution_count": 39,
     "metadata": {},
     "output_type": "execute_result"
    }
   ],
   "source": [
    "df_T_final.head(81)"
   ],
   "metadata": {
    "collapsed": false,
    "ExecuteTime": {
     "end_time": "2024-08-03T15:19:53.643595600Z",
     "start_time": "2024-08-03T15:19:53.618377900Z"
    }
   },
   "id": "a4828b8b536b8366"
  },
  {
   "cell_type": "code",
   "execution_count": 59,
   "outputs": [],
   "source": [
    "df_T_final['Soc'] = df_T_final['Soc'].round(2)"
   ],
   "metadata": {
    "collapsed": false,
    "ExecuteTime": {
     "end_time": "2024-08-03T15:40:28.803325500Z",
     "start_time": "2024-08-03T15:40:28.783139800Z"
    }
   },
   "id": "ae0a79b7e92364e1"
  },
  {
   "cell_type": "code",
   "execution_count": 60,
   "outputs": [],
   "source": [
    "df_T_final_sorted= df_T_final.sort_values(by=['Temp', 'Soc']).reset_index(drop=True)"
   ],
   "metadata": {
    "collapsed": false,
    "ExecuteTime": {
     "end_time": "2024-08-03T15:40:29.411509800Z",
     "start_time": "2024-08-03T15:40:29.396756Z"
    }
   },
   "id": "8ca7a2dd64b78f72"
  },
  {
   "cell_type": "code",
   "execution_count": 62,
   "outputs": [
    {
     "name": "stdout",
     "output_type": "stream",
     "text": [
      "      Soc        OCV  Temp\n",
      "0    0.00  24.352667    10\n",
      "1    0.05  24.475167    10\n",
      "2    0.10  24.597667    10\n",
      "3    0.15  24.819167    10\n",
      "4    0.20  25.040667    10\n",
      "..    ...        ...   ...\n",
      "100  0.80  27.587000    40\n",
      "101  0.85  27.923167    40\n",
      "102  0.90  28.259333    40\n",
      "103  0.95  28.383786    40\n",
      "104  1.00  28.508238    40\n",
      "\n",
      "[105 rows x 3 columns]\n"
     ]
    }
   ],
   "source": [
    "print(df_T_final_sorted)"
   ],
   "metadata": {
    "collapsed": false,
    "ExecuteTime": {
     "end_time": "2024-08-03T15:42:20.162437200Z",
     "start_time": "2024-08-03T15:42:20.086728100Z"
    }
   },
   "id": "f1709d468ac61439"
  },
  {
   "cell_type": "code",
   "execution_count": 63,
   "outputs": [],
   "source": [
    "df_T_final_sorted.to_csv('voc_table_module.csv',index=False)"
   ],
   "metadata": {
    "collapsed": false,
    "ExecuteTime": {
     "end_time": "2024-08-03T15:42:27.779468900Z",
     "start_time": "2024-08-03T15:42:27.760580600Z"
    }
   },
   "id": "25adff4a871e2999"
  }
 ],
 "metadata": {
  "kernelspec": {
   "display_name": "Python 3",
   "language": "python",
   "name": "python3"
  },
  "language_info": {
   "codemirror_mode": {
    "name": "ipython",
    "version": 2
   },
   "file_extension": ".py",
   "mimetype": "text/x-python",
   "name": "python",
   "nbconvert_exporter": "python",
   "pygments_lexer": "ipython2",
   "version": "2.7.6"
  }
 },
 "nbformat": 4,
 "nbformat_minor": 5
}
