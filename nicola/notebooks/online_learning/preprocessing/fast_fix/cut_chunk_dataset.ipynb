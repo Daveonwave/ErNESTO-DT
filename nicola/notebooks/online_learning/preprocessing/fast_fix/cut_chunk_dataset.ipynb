{
 "cells": [
  {
   "cell_type": "code",
   "execution_count": 1,
   "id": "initial_id",
   "metadata": {
    "collapsed": true,
    "ExecuteTime": {
     "end_time": "2024-09-03T14:09:17.836732800Z",
     "start_time": "2024-09-03T14:09:16.806244200Z"
    }
   },
   "outputs": [],
   "source": [
    "import pandas as pd"
   ]
  },
  {
   "cell_type": "code",
   "execution_count": 2,
   "outputs": [],
   "source": [
    "df = pd.read_csv('../../../../data/ground/experiment_signals/dataset_0_cutted.csv')"
   ],
   "metadata": {
    "collapsed": false,
    "ExecuteTime": {
     "end_time": "2024-09-03T14:09:22.830133200Z",
     "start_time": "2024-09-03T14:09:17.846261600Z"
    }
   },
   "id": "8a179e51eba6abc7"
  },
  {
   "cell_type": "code",
   "execution_count": 3,
   "outputs": [
    {
     "data": {
      "text/plain": "         Unnamed: 0          time       voltage       current   temperature\ncount  3.010000e+06  3.010000e+06  3.010000e+06  3.010000e+06  3.010000e+06\nmean   1.505000e+06  1.534343e+06  2.593253e+01  8.675827e-02  3.140355e+02\nstd    8.689123e+05  8.858537e+05  9.063754e-01  1.933831e+01  5.707227e+00\nmin    0.000000e+00  0.000000e+00  2.357853e+01 -2.395300e+01  2.993289e+02\n25%    7.524998e+05  7.671718e+05  2.533721e+01 -2.171000e+01  3.099827e+02\n50%    1.505000e+06  1.534344e+06  2.610318e+01  1.041000e+00  3.124224e+02\n75%    2.257499e+06  2.301514e+06  2.662984e+01  1.620900e+01  3.152154e+02\nmax    3.009999e+06  3.068685e+06  2.799306e+01  3.255100e+01  3.323982e+02",
      "text/html": "<div>\n<style scoped>\n    .dataframe tbody tr th:only-of-type {\n        vertical-align: middle;\n    }\n\n    .dataframe tbody tr th {\n        vertical-align: top;\n    }\n\n    .dataframe thead th {\n        text-align: right;\n    }\n</style>\n<table border=\"1\" class=\"dataframe\">\n  <thead>\n    <tr style=\"text-align: right;\">\n      <th></th>\n      <th>Unnamed: 0</th>\n      <th>time</th>\n      <th>voltage</th>\n      <th>current</th>\n      <th>temperature</th>\n    </tr>\n  </thead>\n  <tbody>\n    <tr>\n      <th>count</th>\n      <td>3.010000e+06</td>\n      <td>3.010000e+06</td>\n      <td>3.010000e+06</td>\n      <td>3.010000e+06</td>\n      <td>3.010000e+06</td>\n    </tr>\n    <tr>\n      <th>mean</th>\n      <td>1.505000e+06</td>\n      <td>1.534343e+06</td>\n      <td>2.593253e+01</td>\n      <td>8.675827e-02</td>\n      <td>3.140355e+02</td>\n    </tr>\n    <tr>\n      <th>std</th>\n      <td>8.689123e+05</td>\n      <td>8.858537e+05</td>\n      <td>9.063754e-01</td>\n      <td>1.933831e+01</td>\n      <td>5.707227e+00</td>\n    </tr>\n    <tr>\n      <th>min</th>\n      <td>0.000000e+00</td>\n      <td>0.000000e+00</td>\n      <td>2.357853e+01</td>\n      <td>-2.395300e+01</td>\n      <td>2.993289e+02</td>\n    </tr>\n    <tr>\n      <th>25%</th>\n      <td>7.524998e+05</td>\n      <td>7.671718e+05</td>\n      <td>2.533721e+01</td>\n      <td>-2.171000e+01</td>\n      <td>3.099827e+02</td>\n    </tr>\n    <tr>\n      <th>50%</th>\n      <td>1.505000e+06</td>\n      <td>1.534344e+06</td>\n      <td>2.610318e+01</td>\n      <td>1.041000e+00</td>\n      <td>3.124224e+02</td>\n    </tr>\n    <tr>\n      <th>75%</th>\n      <td>2.257499e+06</td>\n      <td>2.301514e+06</td>\n      <td>2.662984e+01</td>\n      <td>1.620900e+01</td>\n      <td>3.152154e+02</td>\n    </tr>\n    <tr>\n      <th>max</th>\n      <td>3.009999e+06</td>\n      <td>3.068685e+06</td>\n      <td>2.799306e+01</td>\n      <td>3.255100e+01</td>\n      <td>3.323982e+02</td>\n    </tr>\n  </tbody>\n</table>\n</div>"
     },
     "execution_count": 3,
     "metadata": {},
     "output_type": "execute_result"
    }
   ],
   "source": [
    "df.describe()"
   ],
   "metadata": {
    "collapsed": false,
    "ExecuteTime": {
     "end_time": "2024-09-03T14:09:23.656887Z",
     "start_time": "2024-09-03T14:09:22.917059400Z"
    }
   },
   "id": "11ef84e37b5da929"
  },
  {
   "cell_type": "code",
   "execution_count": 4,
   "outputs": [],
   "source": [
    "df = df.iloc[0:16000]"
   ],
   "metadata": {
    "collapsed": false,
    "ExecuteTime": {
     "end_time": "2024-09-03T14:09:23.694071700Z",
     "start_time": "2024-09-03T14:09:23.653482200Z"
    }
   },
   "id": "46614bb2e1bfe38f"
  },
  {
   "cell_type": "code",
   "execution_count": 5,
   "outputs": [
    {
     "data": {
      "text/plain": "         Unnamed: 0          time       voltage       current   temperature\ncount  16000.000000  16000.000000  16000.000000  16000.000000  16000.000000\nmean    7999.500000   8155.785125     26.347364      0.299088    313.354667\nstd     4618.946489   4708.900890      0.799956     19.420795      4.784946\nmin        0.000000      0.000000     24.412867    -23.953000    299.328949\n25%     3999.750000   4078.750000     25.792421    -21.763000    310.167158\n50%     7999.500000   8155.500000     26.428574      1.095000    312.848216\n75%    11999.250000  12233.250000     26.964680     16.423000    314.854880\nmax    15999.000000  16311.000000     27.863297     32.551000    325.237038",
      "text/html": "<div>\n<style scoped>\n    .dataframe tbody tr th:only-of-type {\n        vertical-align: middle;\n    }\n\n    .dataframe tbody tr th {\n        vertical-align: top;\n    }\n\n    .dataframe thead th {\n        text-align: right;\n    }\n</style>\n<table border=\"1\" class=\"dataframe\">\n  <thead>\n    <tr style=\"text-align: right;\">\n      <th></th>\n      <th>Unnamed: 0</th>\n      <th>time</th>\n      <th>voltage</th>\n      <th>current</th>\n      <th>temperature</th>\n    </tr>\n  </thead>\n  <tbody>\n    <tr>\n      <th>count</th>\n      <td>16000.000000</td>\n      <td>16000.000000</td>\n      <td>16000.000000</td>\n      <td>16000.000000</td>\n      <td>16000.000000</td>\n    </tr>\n    <tr>\n      <th>mean</th>\n      <td>7999.500000</td>\n      <td>8155.785125</td>\n      <td>26.347364</td>\n      <td>0.299088</td>\n      <td>313.354667</td>\n    </tr>\n    <tr>\n      <th>std</th>\n      <td>4618.946489</td>\n      <td>4708.900890</td>\n      <td>0.799956</td>\n      <td>19.420795</td>\n      <td>4.784946</td>\n    </tr>\n    <tr>\n      <th>min</th>\n      <td>0.000000</td>\n      <td>0.000000</td>\n      <td>24.412867</td>\n      <td>-23.953000</td>\n      <td>299.328949</td>\n    </tr>\n    <tr>\n      <th>25%</th>\n      <td>3999.750000</td>\n      <td>4078.750000</td>\n      <td>25.792421</td>\n      <td>-21.763000</td>\n      <td>310.167158</td>\n    </tr>\n    <tr>\n      <th>50%</th>\n      <td>7999.500000</td>\n      <td>8155.500000</td>\n      <td>26.428574</td>\n      <td>1.095000</td>\n      <td>312.848216</td>\n    </tr>\n    <tr>\n      <th>75%</th>\n      <td>11999.250000</td>\n      <td>12233.250000</td>\n      <td>26.964680</td>\n      <td>16.423000</td>\n      <td>314.854880</td>\n    </tr>\n    <tr>\n      <th>max</th>\n      <td>15999.000000</td>\n      <td>16311.000000</td>\n      <td>27.863297</td>\n      <td>32.551000</td>\n      <td>325.237038</td>\n    </tr>\n  </tbody>\n</table>\n</div>"
     },
     "execution_count": 5,
     "metadata": {},
     "output_type": "execute_result"
    }
   ],
   "source": [
    "df.describe()"
   ],
   "metadata": {
    "collapsed": false,
    "ExecuteTime": {
     "end_time": "2024-09-03T14:09:23.808120600Z",
     "start_time": "2024-09-03T14:09:23.709530400Z"
    }
   },
   "id": "2e81f594aa5fdc15"
  },
  {
   "cell_type": "code",
   "execution_count": 6,
   "outputs": [],
   "source": [
    "df.to_csv('dataset_0_cutted16000samples.csv', index=False)"
   ],
   "metadata": {
    "collapsed": false,
    "ExecuteTime": {
     "end_time": "2024-09-03T14:09:23.990297100Z",
     "start_time": "2024-09-03T14:09:23.740456700Z"
    }
   },
   "id": "49c3c8b686a3befc"
  },
  {
   "cell_type": "code",
   "execution_count": 6,
   "outputs": [],
   "source": [],
   "metadata": {
    "collapsed": false,
    "ExecuteTime": {
     "end_time": "2024-09-03T14:09:24.006942900Z",
     "start_time": "2024-09-03T14:09:23.936496400Z"
    }
   },
   "id": "569c935528dc1214"
  }
 ],
 "metadata": {
  "kernelspec": {
   "display_name": "Python 3",
   "language": "python",
   "name": "python3"
  },
  "language_info": {
   "codemirror_mode": {
    "name": "ipython",
    "version": 2
   },
   "file_extension": ".py",
   "mimetype": "text/x-python",
   "name": "python",
   "nbconvert_exporter": "python",
   "pygments_lexer": "ipython2",
   "version": "2.7.6"
  }
 },
 "nbformat": 4,
 "nbformat_minor": 5
}
