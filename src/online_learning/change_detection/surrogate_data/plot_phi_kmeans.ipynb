{
 "cells": [
  {
   "cell_type": "code",
   "execution_count": 1,
   "id": "initial_id",
   "metadata": {
    "collapsed": true,
    "ExecuteTime": {
     "end_time": "2024-08-29T10:15:24.476670600Z",
     "start_time": "2024-08-29T10:15:23.877206200Z"
    }
   },
   "outputs": [],
   "source": [
    "import pandas as pd"
   ]
  },
  {
   "cell_type": "code",
   "execution_count": 2,
   "outputs": [],
   "source": [
    "df_0 = pd.read_csv('phi_0_kmeans.csv')"
   ],
   "metadata": {
    "collapsed": false,
    "ExecuteTime": {
     "end_time": "2024-08-29T10:15:54.570381700Z",
     "start_time": "2024-08-29T10:15:54.553350400Z"
    }
   },
   "id": "4c91c3cb5be7f06b"
  },
  {
   "cell_type": "code",
   "execution_count": 3,
   "outputs": [
    {
     "data": {
      "text/plain": "            Temp         Soc             c         r0         rc  Cluster\ncount  53.000000   53.000000     53.000000  53.000000  53.000000     53.0\nmean   29.339623   79.056604  12867.013494   0.009716   0.012037      0.0\nstd     6.866707   15.598835   2779.802326   0.001604   0.003061      0.0\nmin    20.000000   50.000000   8098.610489   0.007287   0.006666      0.0\n25%    25.000000   70.000000  10731.028600   0.008633   0.010027      0.0\n50%    25.000000   80.000000  12700.765497   0.009672   0.011437      0.0\n75%    35.000000   90.000000  14423.149979   0.010545   0.013250      0.0\nmax    40.000000  100.000000  20517.297277   0.013956   0.018311      0.0",
      "text/html": "<div>\n<style scoped>\n    .dataframe tbody tr th:only-of-type {\n        vertical-align: middle;\n    }\n\n    .dataframe tbody tr th {\n        vertical-align: top;\n    }\n\n    .dataframe thead th {\n        text-align: right;\n    }\n</style>\n<table border=\"1\" class=\"dataframe\">\n  <thead>\n    <tr style=\"text-align: right;\">\n      <th></th>\n      <th>Temp</th>\n      <th>Soc</th>\n      <th>c</th>\n      <th>r0</th>\n      <th>rc</th>\n      <th>Cluster</th>\n    </tr>\n  </thead>\n  <tbody>\n    <tr>\n      <th>count</th>\n      <td>53.000000</td>\n      <td>53.000000</td>\n      <td>53.000000</td>\n      <td>53.000000</td>\n      <td>53.000000</td>\n      <td>53.0</td>\n    </tr>\n    <tr>\n      <th>mean</th>\n      <td>29.339623</td>\n      <td>79.056604</td>\n      <td>12867.013494</td>\n      <td>0.009716</td>\n      <td>0.012037</td>\n      <td>0.0</td>\n    </tr>\n    <tr>\n      <th>std</th>\n      <td>6.866707</td>\n      <td>15.598835</td>\n      <td>2779.802326</td>\n      <td>0.001604</td>\n      <td>0.003061</td>\n      <td>0.0</td>\n    </tr>\n    <tr>\n      <th>min</th>\n      <td>20.000000</td>\n      <td>50.000000</td>\n      <td>8098.610489</td>\n      <td>0.007287</td>\n      <td>0.006666</td>\n      <td>0.0</td>\n    </tr>\n    <tr>\n      <th>25%</th>\n      <td>25.000000</td>\n      <td>70.000000</td>\n      <td>10731.028600</td>\n      <td>0.008633</td>\n      <td>0.010027</td>\n      <td>0.0</td>\n    </tr>\n    <tr>\n      <th>50%</th>\n      <td>25.000000</td>\n      <td>80.000000</td>\n      <td>12700.765497</td>\n      <td>0.009672</td>\n      <td>0.011437</td>\n      <td>0.0</td>\n    </tr>\n    <tr>\n      <th>75%</th>\n      <td>35.000000</td>\n      <td>90.000000</td>\n      <td>14423.149979</td>\n      <td>0.010545</td>\n      <td>0.013250</td>\n      <td>0.0</td>\n    </tr>\n    <tr>\n      <th>max</th>\n      <td>40.000000</td>\n      <td>100.000000</td>\n      <td>20517.297277</td>\n      <td>0.013956</td>\n      <td>0.018311</td>\n      <td>0.0</td>\n    </tr>\n  </tbody>\n</table>\n</div>"
     },
     "execution_count": 3,
     "metadata": {},
     "output_type": "execute_result"
    }
   ],
   "source": [
    "df_0.describe()"
   ],
   "metadata": {
    "collapsed": false,
    "ExecuteTime": {
     "end_time": "2024-08-29T10:16:01.078035600Z",
     "start_time": "2024-08-29T10:16:01.033939Z"
    }
   },
   "id": "8173d43c3aab6335"
  },
  {
   "cell_type": "code",
   "execution_count": null,
   "outputs": [],
   "source": [],
   "metadata": {
    "collapsed": false
   },
   "id": "c91cccf1737adb6e"
  }
 ],
 "metadata": {
  "kernelspec": {
   "display_name": "Python 3",
   "language": "python",
   "name": "python3"
  },
  "language_info": {
   "codemirror_mode": {
    "name": "ipython",
    "version": 2
   },
   "file_extension": ".py",
   "mimetype": "text/x-python",
   "name": "python",
   "nbconvert_exporter": "python",
   "pygments_lexer": "ipython2",
   "version": "2.7.6"
  }
 },
 "nbformat": 4,
 "nbformat_minor": 5
}
